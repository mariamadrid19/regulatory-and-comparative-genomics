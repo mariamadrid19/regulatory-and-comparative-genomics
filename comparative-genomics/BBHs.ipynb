{
 "cells": [
  {
   "cell_type": "code",
   "execution_count": 1,
   "metadata": {},
   "outputs": [],
   "source": [
    "import re\n",
    "import csv"
   ]
  },
  {
   "cell_type": "code",
   "execution_count": 1,
   "metadata": {},
   "outputs": [],
   "source": [
    "#Create a python script that generates BBH for your two species\n",
    "#Species 1, A_cellulolyticus, 2139 sequences\n",
    "#Species 2, R_kristinae, 2022 sequences\n",
    "\n",
    "#I have two blastp files, which come from running blastp on A_cellulolyticus protein sequences on a database made from R_kristinae \n",
    "#and vice versa. I will use these files to find the BBH."
   ]
  },
  {
   "cell_type": "code",
   "execution_count": 3,
   "metadata": {},
   "outputs": [],
   "source": [
    "# ------------------------------ Save to CVS ---------------------------------\n",
    "def save_to_cvs(variable, name):\n",
    "    header = [\"queryid\", \"hitid\"]\n",
    "    with open(f\"{name}.csv\", \"w\") as outfile:\n",
    "        writer = csv.writer(outfile)\n",
    "        writer.writerow(header)\n",
    "        for queryid, hitid in variable.items():\n",
    "            writer.writerow([queryid, hitid])"
   ]
  },
  {
   "cell_type": "code",
   "execution_count": 4,
   "metadata": {},
   "outputs": [
    {
     "name": "stdout",
     "output_type": "stream",
     "text": [
      "A. cel total hits:  10959\n",
      "A. cel best hits:  886\n",
      "R. kris total hits:  14889\n",
      "R. kris best hits:  1284\n"
     ]
    }
   ],
   "source": [
    "# ------------------------------ Parse BLAST results ---------------------------------\n",
    "\n",
    "def parse_blast_results(input):\n",
    "    file_total_hits=open(input, \"r\") #open the file with all the hits from BLAST\n",
    "    best_hits={} #dictionary to store best hits\n",
    "    for hit in file_total_hits:\n",
    "        element = re.split(\"\\t\", hit) #split the line by tabs\n",
    "        queryid = element[0]\n",
    "        hitid = element[1]\n",
    "        if (not (queryid in best_hits.keys())):\n",
    "            best_hits[queryid] = hitid #only choose the first hit, since this is the best hit\n",
    "    return best_hits #return the dictionary with the best hits\n",
    "\n",
    "AC_input = \"modified_A_cel_vs_R_kris_blast_results.tab\"\n",
    "print(\"A. cel total hits: \", len(open(AC_input).readlines()))\n",
    "\n",
    "AC_best_hits = parse_blast_results(AC_input)\n",
    "print(\"A. cel best hits: \", len(AC_best_hits))\n",
    "\n",
    "RK_input = \"modified_R_kris_vs_A_cel_blast_results.tab\"\n",
    "print(\"R. kris total hits: \", len(open(RK_input).readlines()))\n",
    "\n",
    "RK_best_hits = parse_blast_results(RK_input)\n",
    "print(\"R. kris best hits: \", len(RK_best_hits))\n",
    "\n",
    "save_to_cvs(AC_best_hits, \"AC_best_hits\")\n",
    "save_to_cvs(RK_best_hits, \"RK_best_hits\")"
   ]
  },
  {
   "cell_type": "code",
   "execution_count": 5,
   "metadata": {},
   "outputs": [
    {
     "name": "stdout",
     "output_type": "stream",
     "text": [
      "A. cel parsed paralogs:  1542\n",
      "R. kris parsed paralogs:  2022\n"
     ]
    }
   ],
   "source": [
    "# ------------------------------ Parse paralogs ---------------------------------\n",
    "\n",
    "def parse_paralogs(input):\n",
    "    file_total_hits=open(input, \"r\") #open the file with all the hits from BLAST\n",
    "    best_hits={} #dictionary to store best hits\n",
    "    for hit in file_total_hits:\n",
    "        element = re.split(\"\\t\", hit) #split the line by tabs\n",
    "        queryid = element[0]\n",
    "        hitid = element[1]\n",
    "        if (not (queryid in best_hits.keys()) and queryid != hitid):\n",
    "            best_hits[queryid] = hitid #only choose the first hit, since this is the best hit\n",
    "    return best_hits #return the dictionary with the best hits\n",
    "\n",
    "AC_paralogs = \"blast_paralogs_AC.tab\"\n",
    "AC_parsed_paralogs = parse_paralogs(AC_paralogs)\n",
    "print(\"A. cel parsed paralogs: \", len(AC_parsed_paralogs))\n",
    "\n",
    "RK_paralogs = \"blast_paralogs_RK.tab\"\n",
    "RK_parsed_paralogs = parse_paralogs(RK_paralogs)\n",
    "print(\"R. kris parsed paralogs: \", len(RK_parsed_paralogs))\n",
    "\n",
    "save_to_cvs(AC_parsed_paralogs, \"AC_parsed_paralogs\")\n",
    "save_to_cvs(RK_parsed_paralogs, \"RK_parsed_paralogs\")"
   ]
  },
  {
   "cell_type": "code",
   "execution_count": 6,
   "metadata": {},
   "outputs": [
    {
     "name": "stdout",
     "output_type": "stream",
     "text": [
      "A. cel # paralogs:  625\n",
      "R. kris # paralogs:  677\n"
     ]
    }
   ],
   "source": [
    "# ------------------------------ Find paralogs ---------------------------------\n",
    "\n",
    "#Find paralogs in the file\n",
    "def find_paralogs(parsed_paralogs):\n",
    "    paralogs = {} #Create a dictionary to store the paralogs\n",
    "    for queryid, hitid in parsed_paralogs.items():\n",
    "        if queryid[0:2] == hitid[0:2]:\n",
    "            paralogs[queryid] = hitid\n",
    "    return paralogs\n",
    "\n",
    "AC_found_paralogs = find_paralogs(AC_parsed_paralogs)\n",
    "print(\"A. cel # paralogs: \", len(AC_found_paralogs))\n",
    "\n",
    "RK_found_paralogs = find_paralogs(RK_parsed_paralogs)\n",
    "print(\"R. kris # paralogs: \", len(RK_found_paralogs))"
   ]
  },
  {
   "cell_type": "code",
   "execution_count": 7,
   "metadata": {},
   "outputs": [
    {
     "name": "stdout",
     "output_type": "stream",
     "text": [
      "Best birectional hits: 310\n"
     ]
    }
   ],
   "source": [
    "# ------------------------------ BBH ---------------------------------\n",
    "\n",
    "#Find the best bidirectional hits (BBH)\n",
    "def find_BBH(best_hits_A, best_hits_B):\n",
    "    BBH = {} #Create a dictionary to store the BBHs\n",
    "    for query, hit in best_hits_A.items(): #for each query and hit in the first dictionary, check if the query and hit are the same in the second dictionary\n",
    "        if query != hit: #if the query and hit are not the same, then they are not BBHs\n",
    "            if hit in best_hits_B: #if the hit is in the second dictionary, then check if the query and hit are the same in the second dictionary\n",
    "                if best_hits_B[hit] == query: #if the query and hit are the same in the second dictionary, then they are BBH\n",
    "                    BBH[query] = [hit] #add the query and hit to the BBH dictionary\n",
    "    return BBH #return the BBH dictionary\n",
    " \n",
    "best_bidirectional_hits = find_BBH(AC_best_hits, RK_best_hits)\n",
    "best_bidirectional_hits_2 = find_BBH(RK_best_hits, AC_best_hits)\n",
    "print(\"Best birectional hits:\", len(best_bidirectional_hits))\n",
    "\n",
    "#Save BBH to a csv file\n",
    "save_to_cvs(best_bidirectional_hits, \"BBHs\")"
   ]
  },
  {
   "cell_type": "code",
   "execution_count": 8,
   "metadata": {},
   "outputs": [],
   "source": [
    "# ------------------------------ Find orthologs ---------------------------------\n",
    "\n",
    "def find_orthologs(best_bidirectional_hits, paralogs):\n",
    "    for query, hit in best_bidirectional_hits.items():\n",
    "        if query in paralogs.keys():\n",
    "            best_bidirectional_hits[query].append(paralogs[query])\n",
    "    return best_bidirectional_hits\n",
    "\n",
    "orthologs = find_orthologs(best_bidirectional_hits, AC_found_paralogs)\n",
    "orthologs_2 = find_orthologs(best_bidirectional_hits_2, RK_found_paralogs)\n",
    "\n",
    "save_to_cvs(orthologs, \"orthologs\")\n",
    "save_to_cvs(orthologs_2, \"orthologs_2\")"
   ]
  }
 ],
 "metadata": {
  "kernelspec": {
   "display_name": "Python 3 (ipykernel)",
   "language": "python",
   "name": "python3"
  },
  "language_info": {
   "codemirror_mode": {
    "name": "ipython",
    "version": 3
   },
   "file_extension": ".py",
   "mimetype": "text/x-python",
   "name": "python",
   "nbconvert_exporter": "python",
   "pygments_lexer": "ipython3",
   "version": "3.12.0"
  }
 },
 "nbformat": 4,
 "nbformat_minor": 4
}
