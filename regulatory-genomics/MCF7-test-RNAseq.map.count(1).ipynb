{
 "cells": [
  {
   "cell_type": "markdown",
   "metadata": {},
   "source": [
    "# Processing RNAseq data "
   ]
  },
  {
   "cell_type": "markdown",
   "metadata": {},
   "source": [
    "First step is to create a directory to work in:"
   ]
  },
  {
   "cell_type": "code",
   "execution_count": 3,
   "metadata": {},
   "outputs": [],
   "source": [
    "mkdir -p /mnt/storage/$USER/jupyternotebooks/RNA-seq2\n",
    "cd /mnt/storage/$USER/jupyternotebooks/RNA-seq2"
   ]
  },
  {
   "cell_type": "markdown",
   "metadata": {},
   "source": [
    "### symlink the fastq files\n",
    "\n",
    "First step is to create a symbolic link to the raw fastq files. A symbolic link instead of a full copy (to not clog up the system) "
   ]
  },
  {
   "cell_type": "code",
   "execution_count": 4,
   "metadata": {},
   "outputs": [],
   "source": [
    "ln -sf /mnt/nfs/data/RNA-seq/MCF7/*.fastq .\n"
   ]
  },
  {
   "cell_type": "code",
   "execution_count": 2,
   "metadata": {},
   "outputs": [
    {
     "name": "stdout",
     "output_type": "stream",
     "text": [
      "Read 5 spots for SRR867127\n",
      "Written 5 spots for SRR867127\n",
      "@SRR867127.1 HWI-ST571:122:D0HFTACXX:4:1101:1454:2139 length=50\n",
      "CAGCTTTCTAGGGCTGGAAGTCTCAAATAGAACTCACCTGTTCCCCAACC\n",
      "+SRR867127.1 HWI-ST571:122:D0HFTACXX:4:1101:1454:2139 length=50\n",
      "@@@?DFFDF?HFHIIIGG>FCAFGHG@EHGHIDE?FHHDHF@BFF@@?DG\n",
      "@SRR867127.2 HWI-ST571:122:D0HFTACXX:4:1101:1439:2168 length=50\n",
      "GAATTAAAAACTGGTATCAGCGATGTTTTTGCTAAAAATGATCTTGCTGT\n",
      "+SRR867127.2 HWI-ST571:122:D0HFTACXX:4:1101:1439:2168 length=50\n",
      "@@CDDFDDDHHHFGAFGHHIDIH<EGHIIBGIIHEGCFHA>FGHIIICHI\n",
      "@SRR867127.3 HWI-ST571:122:D0HFTACXX:4:1101:1455:2177 length=50\n",
      "CACGGCCAGGCCCCCCGCTGTGGATAAGTGGCTCTTGCCATAGGGGTGGT\n",
      "+SRR867127.3 HWI-ST571:122:D0HFTACXX:4:1101:1455:2177 length=50\n",
      "@@@FFDFFFDHFFGIGIGEHDHGHJEHI@GIIIGIIIIJJGGH>EH'9A9\n",
      "@SRR867127.4 HWI-ST571:122:D0HFTACXX:4:1101:1427:2220 length=50\n",
      "CACAAACTGGATGCTGCGCTTGGTTTTGATGGTGGCAATGGCAGCATTGA\n",
      "+SRR867127.4 HWI-ST571:122:D0HFTACXX:4:1101:1427:2220 length=50\n",
      "@@@FFFFDFBDHHGGHEEHIJIGFGHGDGIGGFHGHGGIJJIJICHIJHE\n",
      "@SRR867127.5 HWI-ST571:122:D0HFTACXX:4:1101:1407:2225 length=50\n",
      "CCGGGACAAAAATCATCATCCACCTGAAATCCGACTGCAAGGAGTTTTCC\n",
      "+SRR867127.5 HWI-ST571:122:D0HFTACXX:4:1101:1407:2225 length=50\n",
      "CC@FFDFFFHHHHIGIJIIJIIGEGGGIHJJHIIJJJIJIJIJJCHIJF>\n"
     ]
    }
   ],
   "source": [
    "fastq-dump --split-files -X 5 SRR867127 -Z"
   ]
  },
  {
   "cell_type": "code",
   "execution_count": 4,
   "metadata": {},
   "outputs": [
    {
     "name": "stdout",
     "output_type": "stream",
     "text": [
      "\n",
      "Usage:\n",
      "  fastq-dump [options] <path> [<path>...]\n",
      "  fastq-dump [options] <accession>\n",
      "\n",
      "INPUT\n",
      "  -A|--accession <accession>       Replaces accession derived from <path> in \n",
      "                                   filename(s) and deflines (only for single \n",
      "                                   table dump) \n",
      "  --table <table-name>             Table name within cSRA object, default is \n",
      "                                   \"SEQUENCE\" \n",
      "\n",
      "PROCESSING\n",
      "\n",
      "Read Splitting                     Sequence data may be used in raw form or\n",
      "                                     split into individual reads\n",
      "  --split-spot                     Split spots into individual reads \n",
      "\n",
      "Full Spot Filters                  Applied to the full spot independently\n",
      "                                     of --split-spot\n",
      "  -N|--minSpotId <rowid>           Minimum spot id \n",
      "  -X|--maxSpotId <rowid>           Maximum spot id \n",
      "  --spot-groups <[list]>           Filter by SPOT_GROUP (member): name[,...] \n",
      "  -W|--clip                        Remove adapter sequences from reads \n",
      "\n",
      "Common Filters                     Applied to spots when --split-spot is not\n",
      "                                     set, otherwise - to individual reads\n",
      "  -M|--minReadLen <len>            Filter by sequence length >= <len> \n",
      "  -R|--read-filter <[filter]>      Split into files by READ_FILTER value \n",
      "                                   optionally filter by value: \n",
      "                                   pass|reject|criteria|redacted \n",
      "  -E|--qual-filter                 Filter used in early 1000 Genomes data: no \n",
      "                                   sequences starting or ending with >= 10N \n",
      "  --qual-filter-1                  Filter used in current 1000 Genomes data \n",
      "\n",
      "Filters based on alignments        Filters are active when alignment\n",
      "                                     data are present\n",
      "  --aligned                        Dump only aligned sequences \n",
      "  --unaligned                      Dump only unaligned sequences \n",
      "  --aligned-region <name[:from-to]>  Filter by position on genome. Name can \n",
      "                                   either be accession.version (ex: \n",
      "                                   NC_000001.10) or file specific name (ex: \n",
      "                                   \"chr1\" or \"1\"). \"from\" and \"to\" are 1-based \n",
      "                                   coordinates \n",
      "  --matepair-distance <from-to|unknown>  Filter by distance between matepairs. \n",
      "                                   Use \"unknown\" to find matepairs split \n",
      "                                   between the references. Use from-to to limit \n",
      "                                   matepair distance on the same reference \n",
      "\n",
      "Filters for individual reads       Applied only with --split-spot set\n",
      "  --skip-technical                 Dump only biological reads \n",
      "\n",
      "OUTPUT\n",
      "  -O|--outdir <path>               Output directory, default is working \n",
      "                                   directory '.' ) \n",
      "  -Z|--stdout                      Output to stdout, all split data become \n",
      "                                   joined into single stream \n",
      "  --gzip                           Compress output using gzip \n",
      "  --bzip2                          Compress output using bzip2 \n",
      "\n",
      "Multiple File Options              Setting these options will produce more\n",
      "                                     than 1 file, each of which will be suffixed\n",
      "                                     according to splitting criteria.\n",
      "  --split-files                    Dump each read into separate file.Files \n",
      "                                   will receive suffix corresponding to read \n",
      "                                   number \n",
      "  --split-3                        Legacy 3-file splitting for mate-pairs: \n",
      "                                   First biological reads satisfying dumping \n",
      "                                   conditions are placed in files *_1.fastq and \n",
      "                                   *_2.fastq If only one biological read is \n",
      "                                   present it is placed in *.fastq Biological \n",
      "                                   reads and above are ignored. \n",
      "  -G|--spot-group                  Split into files by SPOT_GROUP (member name) \n",
      "  -R|--read-filter <[filter]>      Split into files by READ_FILTER value \n",
      "                                   optionally filter by value: \n",
      "                                   pass|reject|criteria|redacted \n",
      "  -T|--group-in-dirs               Split into subdirectories instead of files \n",
      "  -K|--keep-empty-files            Do not delete empty files \n",
      "\n",
      "FORMATTING\n",
      "\n",
      "Sequence\n",
      "  -C|--dumpcs <[cskey]>            Formats sequence using color space (default \n",
      "                                   for SOLiD),\"cskey\" may be specified for \n",
      "                                   translation \n",
      "  -B|--dumpbase                    Formats sequence using base space (default \n",
      "                                   for other than SOLiD). \n",
      "\n",
      "Quality\n",
      "  -Q|--offset <integer>            Offset to use for quality conversion, \n",
      "                                   default is 33 \n",
      "  --fasta <[line width]>           FASTA only, no qualities, optional line \n",
      "                                   wrap width (set to zero for no wrapping) \n",
      "  --suppress-qual-for-cskey        suppress quality-value for cskey \n",
      "\n",
      "Defline\n",
      "  -F|--origfmt                     Defline contains only original sequence name \n",
      "  -I|--readids                     Append read id after spot id as \n",
      "                                   'accession.spot.readid' on defline \n",
      "  --helicos                        Helicos style defline \n",
      "  --defline-seq <fmt>              Defline format specification for sequence. \n",
      "  --defline-qual <fmt>             Defline format specification for quality. \n",
      "                                   <fmt> is string of characters and/or \n",
      "                                   variables. The variables can be one of: $ac \n",
      "                                   - accession, $si spot id, $sn spot \n",
      "                                   name, $sg spot group (barcode), $sl spot \n",
      "                                   length in bases, $ri read number, $rn \n",
      "                                   read name, $rl read length in bases. '[]' \n",
      "                                   could be used for an optional output: if \n",
      "                                   all vars in [] yield empty values whole \n",
      "                                   group is not printed. Empty value is empty \n",
      "                                   string or for numeric variables. Ex: \n",
      "                                   @$sn[_$rn]/$ri '_$rn' is omitted if name \n",
      "                                   is empty\n",
      " \n",
      "OTHER:\n",
      "  --disable-multithreading         disable multithreading \n",
      "  -h|--help                        Output brief explanation of program usage \n",
      "  -V|--version                     Display the version of the program \n",
      "  -L|--log-level <level>           Logging level as number or enum string One \n",
      "                                   of (fatal|sys|int|err|warn|info) or (0-5) \n",
      "                                   Current/default is warn \n",
      "  -v|--verbose                     Increase the verbosity level of the program \n",
      "                                   Use multiple times for more verbosity \n",
      "  --ncbi_error_report              Control program execution environment \n",
      "                                   report generation (if implemented). One of \n",
      "                                   (never|error|always). Default is error \n",
      "  --legacy-report                  use legacy style 'Written spots' for tool \n",
      "\n",
      "fastq-dump : 2.9.6\n",
      "\n"
     ]
    }
   ],
   "source": [
    "fastq-dump -h"
   ]
  },
  {
   "cell_type": "code",
   "execution_count": 5,
   "metadata": {},
   "outputs": [
    {
     "name": "stdout",
     "output_type": "stream",
     "text": [
      "total 0\n",
      "lrwxrwxrwx 1 u0038182 domain users 36 Sep 28 15:55 NS1.fastq -> /mnt/nfs/data/RNA-seq/MCF7/NS1.fastq\n",
      "lrwxrwxrwx 1 u0038182 domain users 36 Sep 28 15:55 NS2.fastq -> /mnt/nfs/data/RNA-seq/MCF7/NS2.fastq\n",
      "lrwxrwxrwx 1 u0038182 domain users 35 Sep 28 15:55 S1.fastq -> /mnt/nfs/data/RNA-seq/MCF7/S1.fastq\n",
      "lrwxrwxrwx 1 u0038182 domain users 35 Sep 28 15:55 S2.fastq -> /mnt/nfs/data/RNA-seq/MCF7/S2.fastq\n",
      "lrwxrwxrwx 1 u0038182 domain users 37 Sep 28 15:55 test.fastq -> /mnt/nfs/data/RNA-seq/MCF7/test.fastq\n"
     ]
    }
   ],
   "source": [
    "ls -lt "
   ]
  },
  {
   "cell_type": "code",
   "execution_count": 6,
   "metadata": {},
   "outputs": [
    {
     "name": "stdout",
     "output_type": "stream",
     "text": [
      "100000 test.fastq\n"
     ]
    }
   ],
   "source": [
    "wc -l test.fastq"
   ]
  },
  {
   "cell_type": "code",
   "execution_count": 7,
   "metadata": {},
   "outputs": [
    {
     "name": "stdout",
     "output_type": "stream",
     "text": [
      "@SRR867127.1 HWI-ST571:122:D0HFTACXX:4:1101:1454:2139 length=50\n",
      "CAGCTTTCTAGGGCTGGAAGTCTCAAATAGAACTCACCTGTTCCCCAACC\n",
      "+SRR867127.1 HWI-ST571:122:D0HFTACXX:4:1101:1454:2139 length=50\n",
      "@@@?DFFDF?HFHIIIGG>FCAFGHG@EHGHIDE?FHHDHF@BFF@@?DG\n",
      "@SRR867127.2 HWI-ST571:122:D0HFTACXX:4:1101:1439:2168 length=50\n",
      "GAATTAAAAACTGGTATCAGCGATGTTTTTGCTAAAAATGATCTTGCTGT\n",
      "+SRR867127.2 HWI-ST571:122:D0HFTACXX:4:1101:1439:2168 length=50\n",
      "@@CDDFDDDHHHFGAFGHHIDIH<EGHIIBGIIHEGCFHA>FGHIIICHI\n",
      "@SRR867127.3 HWI-ST571:122:D0HFTACXX:4:1101:1455:2177 length=50\n",
      "CACGGCCAGGCCCCCCGCTGTGGATAAGTGGCTCTTGCCATAGGGGTGGT\n"
     ]
    }
   ],
   "source": [
    "head test.fastq"
   ]
  },
  {
   "cell_type": "markdown",
   "metadata": {},
   "source": [
    "Note that there is a test.fastq file - this is a small subset of NS1.fastq to be able to run a few operation in class without overly burdening the system."
   ]
  },
  {
   "cell_type": "markdown",
   "metadata": {},
   "source": [
    "## Download from SRA"
   ]
  },
  {
   "cell_type": "markdown",
   "metadata": {},
   "source": [
    "\n"
   ]
  },
  {
   "cell_type": "code",
   "execution_count": 36,
   "metadata": {},
   "outputs": [],
   "source": [
    "vdb-config -s /repository/user/cache-disabled=true"
   ]
  },
  {
   "cell_type": "code",
   "execution_count": null,
   "metadata": {},
   "outputs": [],
   "source": []
  },
  {
   "cell_type": "markdown",
   "metadata": {},
   "source": [
    "## Quality control using FASTQC\n",
    "\n",
    "After receiving sequencing data your first step should be to check your data quality. This step helps to identify potential technical biases that might affect your analysis. Based on this evaluation you might need to pre-process your data to improve the quality. \n",
    "\n",
    "[FastQC](http://www.bioinformatics.babraham.ac.uk/projects/fastqc/) is a tool that produces a quality analysis report on FASTQ files.\n",
    "\n",
    "    fastqc fastqfile -o outputdir  \n",
    "\n",
    "Useful links:\n",
    "\n",
    "* [FastQC report for a good Illumina dataset](http://www.bioinformatics.babraham.ac.uk/projects/fastqc/ \"Title\")\n",
    "* [FastQC report for a bad Illumina dataset](http://www.bioinformatics.babraham.ac.uk/projects/fastqc/bad_sequence_fastqc.html)\n",
    "* [Adapter contaminated run](http://www.bioinformatics.babraham.ac.uk/projects/fastqc/RNA-Seq_fastqc.html)\n",
    "* [Online documentation for each FastQC report](http://www.bioinformatics.babraham.ac.uk/projects/fastqc/Help/3%20Analysis%20Modules/)\n",
    "* [Video tutorial](http://www.youtube.com/watch?v=bz93ReOv87Y)\n",
    "\n",
    "Look through the individual reports and evaluate them according to your experiment type.\n",
    "\n",
    "The FastQC reports I find most useful are:\n",
    "\n",
    "* The Per base sequence quality report, which can help you decide if sequence trimming is needed before alignment.\n",
    "* The Sequences Duplication Levels report, which helps you evaluate library enrichment / complexity. But note that different experiment types are expected to have vastly different duplication profiles.\n",
    "* The Overrepresented Sequences report, which helps evaluate adapter contamination."
   ]
  },
  {
   "cell_type": "markdown",
   "metadata": {},
   "source": [
    "We will not run FastQC on the full files as this is too computationally intensive. Instead we'll run fastqc on the small test.fastq file:\n",
    "\n",
    "Note, we're using the fastqc program in `/usr/local/bin/FastQC/` to ensure we have the correct version. "
   ]
  },
  {
   "cell_type": "code",
   "execution_count": 8,
   "metadata": {},
   "outputs": [
    {
     "name": "stdout",
     "output_type": "stream",
     "text": [
      "Started analysis of test.fastq\n",
      "Approx 5% complete for test.fastq\n",
      "Approx 10% complete for test.fastq\n",
      "Approx 15% complete for test.fastq\n",
      "Approx 20% complete for test.fastq\n",
      "Approx 25% complete for test.fastq\n",
      "Approx 30% complete for test.fastq\n",
      "Approx 35% complete for test.fastq\n",
      "Approx 40% complete for test.fastq\n",
      "Approx 45% complete for test.fastq\n",
      "Approx 50% complete for test.fastq\n",
      "Approx 55% complete for test.fastq\n",
      "Approx 60% complete for test.fastq\n",
      "Approx 65% complete for test.fastq\n",
      "Approx 70% complete for test.fastq\n",
      "Approx 75% complete for test.fastq\n",
      "Approx 80% complete for test.fastq\n",
      "Approx 85% complete for test.fastq\n",
      "Approx 90% complete for test.fastq\n",
      "Approx 95% complete for test.fastq\n",
      "Approx 100% complete for test.fastq\n",
      "Analysis complete for test.fastq\n"
     ]
    }
   ],
   "source": [
    "/usr/bin/fastqc -o . test.fastq"
   ]
  },
  {
   "cell_type": "code",
   "execution_count": 9,
   "metadata": {},
   "outputs": [
    {
     "name": "stdout",
     "output_type": "stream",
     "text": [
      "total 1216\n",
      "-rw-r--r-- 1 u0038182 domain users 720103 Sep 28 15:59 test_fastqc.html\n",
      "-rw-r--r-- 1 u0038182 domain users 450188 Sep 28 15:59 test_fastqc.zip\n",
      "lrwxrwxrwx 1 u0038182 domain users     36 Sep 28 15:55 NS1.fastq -> /mnt/nfs/data/RNA-seq/MCF7/NS1.fastq\n",
      "lrwxrwxrwx 1 u0038182 domain users     36 Sep 28 15:55 NS2.fastq -> /mnt/nfs/data/RNA-seq/MCF7/NS2.fastq\n",
      "lrwxrwxrwx 1 u0038182 domain users     35 Sep 28 15:55 S1.fastq -> /mnt/nfs/data/RNA-seq/MCF7/S1.fastq\n",
      "lrwxrwxrwx 1 u0038182 domain users     35 Sep 28 15:55 S2.fastq -> /mnt/nfs/data/RNA-seq/MCF7/S2.fastq\n",
      "lrwxrwxrwx 1 u0038182 domain users     37 Sep 28 15:55 test.fastq -> /mnt/nfs/data/RNA-seq/MCF7/test.fastq\n"
     ]
    }
   ],
   "source": [
    "ls -lt | head"
   ]
  },
  {
   "cell_type": "markdown",
   "metadata": {},
   "source": [
    "Download the .zip file and open the .html file to check some FASTQ quality stats. Below you can see boxplots of the Illumina base quality scores"
   ]
  },
  {
   "attachments": {
    "image.png": {
     "image/png": "[encoded data removed]"
    }
   },
   "cell_type": "markdown",
   "metadata": {},
   "source": [
    "![image.png](attachment:image.png)"
   ]
  },
  {
   "cell_type": "markdown",
   "metadata": {},
   "source": [
    "Now download the test_fastqc.html file to you computer and open it in a web browser."
   ]
  },
  {
   "cell_type": "markdown",
   "metadata": {},
   "source": [
    "## Mapping to the genome"
   ]
  },
  {
   "cell_type": "markdown",
   "metadata": {},
   "source": [
    "We will use STAR to map to the genome. \n",
    "\n",
    "STAR also needs a database with the human genome and gene annotation. Creating one takes a long time, so this is also pregenerated and located here: `/mnt/nfs/mfiers/STAR/hg19_star_db`.\n",
    "\n",
    "The STAR manual gives an extensive account of all options: https://github.com/alexdobin/STAR/blob/master/doc/STARmanual.pdf\n",
    "\n",
    "Again, running STAR all toghether may crash the server, so we will run with the test fastq file."
   ]
  },
  {
   "cell_type": "code",
   "execution_count": 9,
   "metadata": {},
   "outputs": [
    {
     "name": "stdout",
     "output_type": "stream",
     "text": [
      "Sep 26 18:08:19 ..... started STAR run\n",
      "Sep 26 18:08:19 ..... loading genome\n"
     ]
    }
   ],
   "source": [
    "# You don't need to run this, but this is a trick to load genome into memory, \n",
    "# so if we all run STAR we can the genome will not be loaded X times and overload\n",
    "# the server:\n",
    "STAR --genomeLoad LoadAndExit --genomeDir /mnt/nfs/mfiers/STAR/hg19_star_db"
   ]
  },
  {
   "cell_type": "code",
   "execution_count": 10,
   "metadata": {},
   "outputs": [
    {
     "name": "stdout",
     "output_type": "stream",
     "text": [
      "Sep 26 18:08:28 ..... started STAR run\n",
      "Sep 26 18:08:28 ..... loading genome\n",
      "Sep 26 18:08:29 ..... started mapping\n",
      "Sep 26 18:08:30 ..... finished successfully\n"
     ]
    }
   ],
   "source": [
    "STAR --genomeDir /mnt/nfs/mfiers/STAR/hg19_star_db \\\n",
    "     --genomeLoad LoadAndKeep \\\n",
    "     --runThreadN 2 \\\n",
    "     --readFilesIn test.fastq \\\n",
    "     --outFileNamePrefix test."
   ]
  },
  {
   "cell_type": "code",
   "execution_count": 45,
   "metadata": {},
   "outputs": [
    {
     "name": "stdout",
     "output_type": "stream",
     "text": [
      "Usage: STAR  [options]... --genomeDir REFERENCE   --readFilesIn R1.fq R2.fq\n",
      "Spliced Transcripts Alignment to a Reference (c) Alexander Dobin, 2009-2015\n",
      "\n",
      "### versions\n",
      "versionSTAR             020201\n",
      "    int>0: STAR release numeric ID. Please do not change this value!\n",
      "versionGenome           020101 020200\n",
      "    int>0: oldest value of the Genome version compatible with this STAR release. Please do not change this value!\n",
      "\n",
      "### Parameter Files\n",
      "parametersFiles          -\n",
      "    string: name of a user-defined parameters file, \"-\": none. Can only be defined on the command line.\n",
      "\n",
      "### System\n",
      "sysShell            -\n",
      "    string: path to the shell binary, preferably bash, e.g. /bin/bash.\n",
      "                    - ... the default shell is executed, typically /bin/sh. This was reported to fail on some Ubuntu systems - then you need to specify path to bash.\n",
      "\n",
      "### Run Parameters\n",
      "\n",
      "runMode                         alignReads\n",
      "    string: type of the run:\n",
      "                                alignReads             ... map reads\n",
      "                                genomeGenerate         ... generate genome files\n",
      "                                inputAlignmentsFromBAM ... input alignments from BAM. Presently only works with --outWigType and --bamRemoveDuplicates.\n",
      "                                liftOver               ... lift-over of GTF files (--sjdbGTFfile) between genome assemblies using chain file(s) from --genomeChainFiles.\n",
      "\n",
      "runThreadN                      1\n",
      "    int: number of threads to run STAR\n",
      "\n",
      "runDirPerm                      User_RWX\n",
      "    string: permissions for the directories created at the run-time.\n",
      "                                User_RWX ... user-read/write/execute\n",
      "                                All_RWX  ... all-read/write/execute (same as chmod 777)\n",
      "\n",
      "runRNGseed                      777\n",
      "    int: random number generator seed.\n",
      "\n",
      "\n",
      "### Genome Parameters\n",
      "\n",
      "genomeDir                   ./GenomeDir/\n",
      "    string: path to the directory where genome files are stored (for --runMode alignReads) or will be generated (for --runMode generateGenome)\n",
      "\n",
      "genomeLoad                NoSharedMemory\n",
      "    string: mode of shared memory usage for the genome files. Only used with --runMode alignReads.\n",
      "                          LoadAndKeep     ... load genome into shared and keep it in memory after run\n",
      "                          LoadAndRemove   ... load genome into shared but remove it after run\n",
      "                          LoadAndExit     ... load genome into shared memory and exit, keeping the genome in memory for future runs\n",
      "                          Remove          ... do not map anything, just remove loaded genome from memory\n",
      "                          NoSharedMemory  ... do not use shared memory, each job will have its own private copy of the genome\n",
      "\n",
      "genomeFastaFiles            -\n",
      "    string(s): path(s) to the fasta files with the genome sequences, separated by spaces. These files should be plain text FASTA files, they *cannot* be zipped.\n",
      "                            Required for the genome generation (--runMode genomeGenerate). Can also be used in the mapping (--runMode alignReads) to add extra (new) sequences to the genome (e.g. spike-ins).\n",
      "\n",
      "genomeChainFiles            -\n",
      "    string: chain files for genomic liftover. Only used with --runMode liftOver .\n",
      "\n",
      "genomeFileSizes             0\n",
      "    uint(s)>0: genome files exact sizes in bytes. Typically, this should not be defined by the user.\n",
      "\n",
      "genomeConsensusFile         -\n",
      "    string: VCF file with consensus SNPs (i.e. alternative allele is the major (AF>0.5) allele)\n",
      "\n",
      "### Genome Indexing Parameters - only used with --runMode genomeGenerate\n",
      "genomeChrBinNbits           18\n",
      "    int: =log2(chrBin), where chrBin is the size of the bins for genome storage: each chromosome will occupy an integer number of bins. For a genome with large number of contigs, it is recommended to scale this parameter as min(18, log2[max(GenomeLength/NumberOfReferences,ReadLength)]).\n",
      "\n",
      "genomeSAindexNbases         14\n",
      "    int: length (bases) of the SA pre-indexing string. Typically between 10 and 15. Longer strings will use much more memory, but allow faster searches. For small genomes, the parameter --genomeSAindexNbases must be scaled down to min(14, log2(GenomeLength)/2 - 1).\n",
      "\n",
      "genomeSAsparseD             1\n",
      "    int>0: suffux array sparsity, i.e. distance between indices: use bigger numbers to decrease needed RAM at the cost of mapping speed reduction\n",
      "\n",
      "genomeSuffixLengthMax       -1\n",
      "    int: maximum length of the suffixes, has to be longer than read length. -1 = infinite.\n",
      "\n",
      "\n",
      "### Splice Junctions Database\n",
      "sjdbFileChrStartEnd                     -\n",
      "    string(s): path to the files with genomic coordinates (chr <tab> start <tab> end <tab> strand) for the splice junction introns. Multiple files can be supplied wand will be concatenated.\n",
      "\n",
      "sjdbGTFfile                             -\n",
      "    string: path to the GTF file with annotations\n",
      "\n",
      "sjdbGTFchrPrefix                        -\n",
      "    string: prefix for chromosome names in a GTF file (e.g. 'chr' for using ENSMEBL annotations with UCSC genomes)\n",
      "\n",
      "sjdbGTFfeatureExon                      exon\n",
      "    string: feature type in GTF file to be used as exons for building transcripts\n",
      "\n",
      "sjdbGTFtagExonParentTranscript          transcript_id\n",
      "    string: tag name to be used as exons' transcript-parents (default \"transcript_id\" works for GTF files)\n",
      "\n",
      "sjdbGTFtagExonParentGene                gene_id\n",
      "    string: tag name to be used as exons' gene-parents (default \"gene_id\" works for GTF files)\n",
      "\n",
      "sjdbOverhang                            100\n",
      "    int>0: length of the donor/acceptor sequence on each side of the junctions, ideally = (mate_length - 1)\n",
      "\n",
      "sjdbScore                               2\n",
      "    int: extra alignment score for alignmets that cross database junctions\n",
      "\n",
      "sjdbInsertSave                          Basic\n",
      "    string: which files to save when sjdb junctions are inserted on the fly at the mapping step\n",
      "\t\t\t\t\tBasic ... only small junction / transcript files\n",
      "\t\t\t\t\tAll   ... all files including big Genome, SA and SAindex - this will create a complete genome directory\n",
      "\n",
      "### Input Files\n",
      "inputBAMfile                -\n",
      "    string: path to BAM input file, to be used with --runMode inputAlignmentsFromBAM\n",
      "\n",
      "### Read Parameters\n",
      "\n",
      "readFilesType               Fastx\n",
      "    string: format of input read files\n",
      "                            Fastx       ... FASTA or FASTQ\n",
      "                            SAM SE      ... SAM or BAM single-end reads; for BAM use --readFilesCommand samtools view\n",
      "                            SAM PE      ... SAM or BAM paired-end reads; for BAM use --readFilesCommand samtools view\n",
      "\n",
      "readFilesIn                 Read1 Read2\n",
      "    string(s): paths to files that contain input read1 (and, if needed,  read2)\n",
      "\n",
      "readFilesPrefix             -\n",
      "    string: preifx for the read files names, i.e. it will be added in front of the strings in --readFilesIn\n",
      "                            -: no prefix\n",
      "\n",
      "readFilesCommand             -\n",
      "    string(s): command line to execute for each of the input file. This command should generate FASTA or FASTQ text and send it to stdout\n",
      "               For example: zcat - to uncompress .gz files, bzcat - to uncompress .bz2 files, etc.\n",
      "\n",
      "readMapNumber               -1\n",
      "    int: number of reads to map from the beginning of the file\n",
      "                            -1: map all reads\n",
      "\n",
      "readMatesLengthsIn          NotEqual\n",
      "    string: Equal/NotEqual - lengths of names,sequences,qualities for both mates are the same  / not the same. NotEqual is safe in all situations.\n",
      "\n",
      "readNameSeparator           /\n",
      "    string(s): character(s) separating the part of the read names that will be trimmed in output (read name after space is always trimmed)\n",
      "\n",
      "clip3pNbases                 0\n",
      "    int(s): number(s) of bases to clip from 3p of each mate. If one value is given, it will be assumed the same for both mates.\n",
      "\n",
      "clip5pNbases                 0\n",
      "    int(s): number(s) of bases to clip from 5p of each mate. If one value is given, it will be assumed the same for both mates.\n",
      "\n",
      "clip3pAdapterSeq            -\n",
      "    string(s): adapter sequences to clip from 3p of each mate.  If one value is given, it will be assumed the same for both mates.\n",
      "\n",
      "clip3pAdapterMMp            0.1\n",
      "    double(s): max proportion of mismatches for 3p adpater clipping for each mate.  If one value is given, it will be assumed the same for both mates.\n",
      "\n",
      "clip3pAfterAdapterNbases    0\n",
      "    int(s): number of bases to clip from 3p of each mate after the adapter clipping. If one value is given, it will be assumed the same for both mates.\n",
      "\n",
      "\n",
      "### Limits\n",
      "\n",
      "limitGenomeGenerateRAM               31000000000\n",
      "    int>0: maximum available RAM (bytes) for genome generation\n",
      "\n",
      "limitIObufferSize                    150000000\n",
      "    int>0: max available buffers size (bytes) for input/output, per thread\n",
      "\n",
      "limitOutSAMoneReadBytes              100000\n",
      "    int>0: max size of the SAM record (bytes) for one read. Recommended value: >(2*(LengthMate1+LengthMate2+100)*outFilterMultimapNmax\n",
      "\n",
      "limitOutSJoneRead                    1000\n",
      "    int>0: max number of junctions for one read (including all multi-mappers)\n",
      "\n",
      "limitOutSJcollapsed                  1000000\n",
      "    int>0: max number of collapsed junctions\n",
      "\n",
      "limitBAMsortRAM                         0\n",
      "    int>=0: maximum available RAM (bytes) for sorting BAM. If =0, it will be set to the genome index size. 0 value can only be used with --genomeLoad NoSharedMemory option.\n",
      "\n",
      "limitSjdbInsertNsj                     1000000\n",
      "    int>=0: maximum number of junction to be inserted to the genome on the fly at the mapping stage, including those from annotations and those detected in the 1st step of the 2-pass run\n",
      "\n",
      "\n",
      "### Output: general\n",
      "outFileNamePrefix               ./\n",
      "    string: output files name prefix (including full or relative path). Can only be defined on the command line.\n",
      "\n",
      "outTmpDir                       -\n",
      "    string: path to a directory that will be used as temporary by STAR. All contents of this directory will be removed!\n",
      "            - the temp directory will default to outFileNamePrefix_STARtmp\n",
      "\n",
      "outTmpKeep                      None\n",
      "    string: whether to keep the tempporary files after STAR runs is finished\n",
      "                                None ... remove all temporary files\n",
      "                                All .. keep all files\n",
      "\n",
      "outStd                          Log\n",
      "    string: which output will be directed to stdout (standard out)\n",
      "                                Log                    ... log messages\n",
      "                                SAM                    ... alignments in SAM format (which normally are output to Aligned.out.sam file), normal standard output will go into Log.std.out\n",
      "                                BAM_Unsorted           ... alignments in BAM format, unsorted. Requires --outSAMtype BAM Unsorted\n",
      "                                BAM_SortedByCoordinate ... alignments in BAM format, unsorted. Requires --outSAMtype BAM SortedByCoordinate\n",
      "                                BAM_Quant              ... alignments to transcriptome in BAM format, unsorted. Requires --quantMode TranscriptomeSAM\n",
      "\n",
      "outReadsUnmapped                None\n",
      "   string: output of unmapped and partially mapped (i.e. mapped only one mate of a paired end read) reads in separate file(s).\n",
      "                                None    ... no output\n",
      "                                Fastx   ... output in separate fasta/fastq files, Unmapped.out.mate1/2\n",
      "\n",
      "outQSconversionAdd              0\n",
      "   int: add this number to the quality score (e.g. to convert from Illumina to Sanger, use -31)\n",
      "\n",
      "outMultimapperOrder             Old_2.4\n",
      "    string: order of multimapping alignments in the output files\n",
      "                                Old_2.4             ... quasi-random order used before 2.5.0\n",
      "                                Random              ... random order of alignments for each multi-mapper. Read mates (pairs) are always adjacent, all alignment for each read stay together. This option will become default in the future releases.\n",
      "\n",
      "### Output: SAM and BAM\n",
      "outSAMtype                      SAM\n",
      "    strings: type of SAM/BAM output\n",
      "                                1st word:\n",
      "                                BAM  ... output BAM without sorting\n",
      "                                SAM  ... output SAM without sorting\n",
      "                                None ... no SAM/BAM output\n",
      "                                2nd, 3rd:\n",
      "                                Unsorted           ... standard unsorted\n",
      "                                SortedByCoordinate ... sorted by coordinate. This option will allocate extra memory for sorting which can be specified by --limitBAMsortRAM.\n",
      "\n",
      "outSAMmode                      Full\n",
      "    string: mode of SAM output\n",
      "                                None ... no SAM output\n",
      "                                Full ... full SAM output\n",
      "                                NoQS ... full SAM but without quality scores\n",
      "\n",
      "outSAMstrandField                               None\n",
      "    string: Cufflinks-like strand field flag\n",
      "                                None        ... not used\n",
      "                                intronMotif ... strand derived from the intron motif. Reads with inconsistent and/or non-canonical introns are filtered out.\n",
      "\n",
      "outSAMattributes                Standard\n",
      "    string: a string of desired SAM attributes, in the order desired for the output SAM\n",
      "                                NH HI AS nM NM MD jM jI XS ch ... any combination in any order\n",
      "                                Standard   ... NH HI AS nM\n",
      "                                All        ... NH HI AS nM NM MD jM jI ch\n",
      "                                None       ... no attributes\n",
      "\n",
      "outSAMattrIHstart               1\n",
      "    int>=0:                     start value for the IH attribute. 0 may be required by some downstream software, such as Cufflinks or StringTie.\n",
      "\n",
      "outSAMunmapped                  None\n",
      "    string(s): output of unmapped reads in the SAM format\n",
      "                                1st word:\n",
      "                                None   ... no output\n",
      "                                Within ... output unmapped reads within the main SAM file (i.e. Aligned.out.sam)\n",
      "                                2nd word:\n",
      "                                KeepPairs ... record unmapped mate for each alignment, and, in case of unsorted output, keep it adjacent to its mapped mate. Only affects multi-mapping reads.\n",
      "\n",
      "outSAMorder                     Paired\n",
      "    string: type of sorting for the SAM output\n",
      "                                Paired: one mate after the other for all paired alignments\n",
      "                                PairedKeepInputOrder: one mate after the other for all paired alignments, the order is kept the same as in the input FASTQ files\n",
      "\n",
      "outSAMprimaryFlag\t\tOneBestScore\n",
      "    string: which alignments are considered primary - all others will be marked with 0x100 bit in the FLAG\n",
      "                                OneBestScore ... only one alignment with the best score is primary\n",
      "                                AllBestScore ... all alignments with the best score are primary\n",
      "\n",
      "outSAMreadID\t\t\tStandard\n",
      "    string: read ID record type\n",
      "                                Standard ... first word (until space) from the FASTx read ID line, removing /1,/2 from the end\n",
      "                                Number   ... read number (index) in the FASTx file\n",
      "\n",
      "outSAMmapqUnique        255\n",
      "    int: 0 to 255: the MAPQ value for unique mappers\n",
      "\n",
      "outSAMflagOR           0\n",
      "    int: 0 to 65535: sam FLAG will be bitwise OR'd with this value, i.e. FLAG=FLAG | outSAMflagOR. This is applied after all flags have been set by STAR, and after outSAMflagAND. Can be used to set specific bits that are not set otherwise.\n",
      "\n",
      "outSAMflagAND           65535\n",
      "    int: 0 to 65535: sam FLAG will be bitwise AND'd with this value, i.e. FLAG=FLAG & outSAMflagOR. This is applied after all flags have been set by STAR, but before outSAMflagOR. Can be used to unset specific bits that are not set otherwise.\n",
      "\n",
      "outSAMattrRGline        -\n",
      "    string(s): SAM/BAM read group line. The first word contains the read group identifier and must start with \"ID:\", e.g. --outSAMattrRGline ID:xxx CN:yy \"DS:z z z\".\n",
      "            xxx will be added as RG tag to each output alignment. Any spaces in the tag values have to be double quoted.\n",
      "            Comma separated RG lines correspons to different (comma separated) input files in --readFilesIn. Commas have to be surrounded by spaces, e.g.\n",
      "            --outSAMattrRGline ID:xxx , ID:zzz \"DS:z z\" , ID:yyy DS:yyyy\n",
      "\n",
      "outSAMheaderHD          -\n",
      "    strings: @HD (header) line of the SAM header\n",
      "\n",
      "outSAMheaderPG          -\n",
      "    strings: extra @PG (software) line of the SAM header (in addition to STAR)\n",
      "\n",
      "outSAMheaderCommentFile -\n",
      "    string: path to the file with @CO (comment) lines of the SAM header\n",
      "\n",
      "outSAMfilter            None\n",
      "    string(s): filter the output into main SAM/BAM files\n",
      "                        KeepOnlyAddedReferences ... only keep the reads for which all alignments are to the extra reference sequences added with --genomeFastaFiles at the mapping stage.\n",
      "                        KeepAllAddedReferences ...  keep all alignments to the extra reference sequences added with --genomeFastaFiles at the mapping stage.\n",
      "\n",
      "\n",
      "outSAMmultNmax          -1\n",
      "    int: max number of multiple alignments for a read that will be output to the SAM/BAM files.\n",
      "                        -1 ... all alignments (up to --outFilterMultimapNmax) will be output\n",
      "\n",
      "outBAMcompression       1\n",
      "    int: -1 to 10  BAM compression level, -1=default compression (6?), 0=no compression, 10=maximum compression\n",
      "\n",
      "outBAMsortingThreadN    0\n",
      "    int: >=0: number of threads for BAM sorting. 0 will default to min(6,--runThreadN).\n",
      "\n",
      "### BAM processing\n",
      "\n",
      "bamRemoveDuplicatesType  -\n",
      "    string: mark duplicates in the BAM file, for now only works with (i) sorted BAM fed with inputBAMfile, and (ii) for paired-end alignments only\n",
      "                        -                       ... no duplicate removal/marking\n",
      "                        UniqueIdentical         ... mark all multimappers, and duplicate unique mappers. The coordinates, FLAG, CIGAR must be identical\n",
      "                        UniqueIdenticalNotMulti  ... mark duplicate unique mappers but not multimappers.\n",
      "\n",
      "bamRemoveDuplicatesMate2basesN   0\n",
      "    int>0: number of bases from the 5' of mate 2 to use in collapsing (e.g. for RAMPAGE)\n",
      "\n",
      "### Output Wiggle\n",
      "outWigType          None\n",
      "    string(s): type of signal output, e.g. \"bedGraph\" OR \"bedGraph read1_5p\". Requires sorted BAM: --outSAMtype BAM SortedByCoordinate .\n",
      "                    1st word:\n",
      "                    None       ... no signal output\n",
      "                    bedGraph   ... bedGraph format\n",
      "                    wiggle     ... wiggle format\n",
      "                    2nd word:\n",
      "                    read1_5p   ... signal from only 5' of the 1st read, useful for CAGE/RAMPAGE etc\n",
      "                    read2      ... signal from only 2nd read\n",
      "\n",
      "outWigStrand        Stranded\n",
      "    string: strandedness of wiggle/bedGraph output\n",
      "                    Stranded   ...  separate strands, str1 and str2\n",
      "                    Unstranded ...  collapsed strands\n",
      "\n",
      "outWigReferencesPrefix    -\n",
      "    string: prefix matching reference names to include in the output wiggle file, e.g. \"chr\", default \"-\" - include all references\n",
      "\n",
      "outWigNorm              RPM\n",
      "    string: type of normalization for the signal\n",
      "                        RPM    ... reads per million of mapped reads\n",
      "                        None   ... no normalization, \"raw\" counts\n",
      "\n",
      "### Output Filtering\n",
      "outFilterType                   Normal\n",
      "    string: type of filtering\n",
      "                                Normal  ... standard filtering using only current alignment\n",
      "                                BySJout ... keep only those reads that contain junctions that passed filtering into SJ.out.tab\n",
      "\n",
      "outFilterMultimapScoreRange     1\n",
      "    int: the score range below the maximum score for multimapping alignments\n",
      "\n",
      "outFilterMultimapNmax           10\n",
      "    int: maximum number of loci the read is allowed to map to. Alignments (all of them) will be output only if the read maps to no more loci than this value.\n",
      "         Otherwise no alignments will be output, and the read will be counted as \"mapped to too many loci\" in the Log.final.out .\n",
      "\n",
      "outFilterMismatchNmax           10\n",
      "    int: alignment will be output only if it has no more mismatches than this value.\n",
      "\n",
      "outFilterMismatchNoverLmax      0.3\n",
      "    float: alignment will be output only if its ratio of mismatches to *mapped* length is less than or equal to this value.\n",
      "\n",
      "outFilterMismatchNoverReadLmax  1.0\n",
      "    float: alignment will be output only if its ratio of mismatches to *read* length is less than or equal to this value.\n",
      "\n",
      "\n",
      "outFilterScoreMin               0\n",
      "    int: alignment will be output only if its score is higher than or equal to this value.\n",
      "\n",
      "outFilterScoreMinOverLread      0.66\n",
      "    float: same as outFilterScoreMin, but  normalized to read length (sum of mates' lengths for paired-end reads)\n",
      "\n",
      "outFilterMatchNmin              0\n",
      "    int: alignment will be output only if the number of matched bases is higher than or equal to this value.\n",
      "\n",
      "outFilterMatchNminOverLread     0.66\n",
      "    float: sam as outFilterMatchNmin, but normalized to the read length (sum of mates' lengths for paired-end reads).\n",
      "\n",
      "outFilterIntronMotifs           None\n",
      "    string: filter alignment using their motifs\n",
      "\t\t\t\tNone                           ... no filtering\n",
      "\t\t\t\tRemoveNoncanonical             ... filter out alignments that contain non-canonical junctions\n",
      "\t\t\t\tRemoveNoncanonicalUnannotated  ... filter out alignments that contain non-canonical unannotated junctions when using annotated splice junctions database. The annotated non-canonical junctions will be kept.\n",
      "\n",
      "outFilterIntronStrands          RemoveInconsistentStrands\n",
      "    string: filter alignments \n",
      "                RemoveInconsistentStrands      ... remove alignments that have junctions with inconsistent strands\n",
      "                None                           ... no filtering\n",
      "\n",
      "### Output Filtering: Splice Junctions\n",
      "outSJfilterReads                All\n",
      "    string: which reads to consider for collapsed splice junctions output\n",
      "                All: all reads, unique- and multi-mappers\n",
      "                Unique: uniquely mapping reads only\n",
      "\n",
      "outSJfilterOverhangMin          30  12  12  12\n",
      "    4 integers:    minimum overhang length for splice junctions on both sides for: (1) non-canonical motifs, (2) GT/AG and CT/AC motif, (3) GC/AG and CT/GC motif, (4) AT/AC and GT/AT motif. -1 means no output for that motif\n",
      "                                does not apply to annotated junctions\n",
      "\n",
      "outSJfilterCountUniqueMin       3   1   1   1\n",
      "    4 integers: minimum uniquely mapping read count per junction for: (1) non-canonical motifs, (2) GT/AG and CT/AC motif, (3) GC/AG and CT/GC motif, (4) AT/AC and GT/AT motif. -1 means no output for that motif\n",
      "                                Junctions are output if one of outSJfilterCountUniqueMin OR outSJfilterCountTotalMin conditions are satisfied\n",
      "                                does not apply to annotated junctions\n",
      "\n",
      "outSJfilterCountTotalMin     3   1   1   1\n",
      "    4 integers: minimum total (multi-mapping+unique) read count per junction for: (1) non-canonical motifs, (2) GT/AG and CT/AC motif, (3) GC/AG and CT/GC motif, (4) AT/AC and GT/AT motif. -1 means no output for that motif\n",
      "                                Junctions are output if one of outSJfilterCountUniqueMin OR outSJfilterCountTotalMin conditions are satisfied\n",
      "                                does not apply to annotated junctions\n",
      "\n",
      "outSJfilterDistToOtherSJmin     10  0   5   10\n",
      "    4 integers>=0: minimum allowed distance to other junctions' donor/acceptor\n",
      "                                does not apply to annotated junctions\n",
      "\n",
      "outSJfilterIntronMaxVsReadN        50000 100000 200000\n",
      "    N integers>=0: maximum gap allowed for junctions supported by 1,2,3,,,N reads\n",
      "                                i.e. by default junctions supported by 1 read can have gaps <=50000b, by 2 reads: <=100000b, by 3 reads: <=200000. by >=4 reads any gap <=alignIntronMax\n",
      "                                does not apply to annotated junctions\n",
      "\n",
      "### Scoring\n",
      "scoreGap                     0\n",
      "    int: splice junction penalty (independent on intron motif)\n",
      "\n",
      "scoreGapNoncan               -8\n",
      "    int: non-canonical junction penalty (in addition to scoreGap)\n",
      "\n",
      "scoreGapGCAG                 -4\n",
      "    GC/AG and CT/GC junction penalty (in addition to scoreGap)\n",
      "\n",
      "scoreGapATAC                 -8\n",
      "    AT/AC  and GT/AT junction penalty  (in addition to scoreGap)\n",
      "\n",
      "scoreGenomicLengthLog2scale   -0.25\n",
      "    extra score logarithmically scaled with genomic length of the alignment: scoreGenomicLengthLog2scale*log2(genomicLength)\n",
      "\n",
      "scoreDelOpen                 -2\n",
      "    deletion open penalty\n",
      "\n",
      "scoreDelBase                 -2\n",
      "    deletion extension penalty per base (in addition to scoreDelOpen)\n",
      "\n",
      "scoreInsOpen                 -2\n",
      "    insertion open penalty\n",
      "\n",
      "scoreInsBase                 -2\n",
      "    insertion extension penalty per base (in addition to scoreInsOpen)\n",
      "\n",
      "scoreStitchSJshift           1\n",
      "    maximum score reduction while searching for SJ boundaries inthe stitching step\n",
      "\n",
      "\n",
      "### Alignments and Seeding\n",
      "\n",
      "seedSearchStartLmax             50\n",
      "    int>0: defines the search start point through the read - the read is split into pieces no longer than this value\n",
      "\n",
      "seedSearchStartLmaxOverLread    1.0\n",
      "    float: seedSearchStartLmax normalized to read length (sum of mates' lengths for paired-end reads)\n",
      "\n",
      "seedSearchLmax       0\n",
      "    int>=0: defines the maximum length of the seeds, if =0 max seed lengthis infinite\n",
      "\n",
      "seedMultimapNmax      10000\n",
      "    int>0: only pieces that map fewer than this value are utilized in the stitching procedure\n",
      "\n",
      "seedPerReadNmax       1000\n",
      "    int>0: max number of seeds per read\n",
      "\n",
      "seedPerWindowNmax     50\n",
      "    int>0: max number of seeds per window\n",
      "\n",
      "seedNoneLociPerWindow    10\n",
      "    int>0: max number of one seed loci per window\n",
      "\n",
      "seedSplitMin                12\n",
      "    int>0: min length of the seed sequences split by Ns or mate gap\n",
      "\n",
      "alignIntronMin              21\n",
      "    minimum intron size: genomic gap is considered intron if its length>=alignIntronMin, otherwise it is considered Deletion\n",
      "\n",
      "alignIntronMax              0\n",
      "    maximum intron size, if 0, max intron size will be determined by (2^winBinNbits)*winAnchorDistNbins\n",
      "\n",
      "alignMatesGapMax            0\n",
      "    maximum gap between two mates, if 0, max intron gap will be determined by (2^winBinNbits)*winAnchorDistNbins\n",
      "\n",
      "alignSJoverhangMin          5\n",
      "    int>0: minimum overhang (i.e. block size) for spliced alignments\n",
      "\n",
      "alignSJstitchMismatchNmax   0 -1 0 0\n",
      "    4*int>=0: maximum number of mismatches for stitching of the splice junctions (-1: no limit).\n",
      "                            (1) non-canonical motifs, (2) GT/AG and CT/AC motif, (3) GC/AG and CT/GC motif, (4) AT/AC and GT/AT motif.\n",
      "\n",
      "alignSJDBoverhangMin        3\n",
      "    int>0: minimum overhang (i.e. block size) for annotated (sjdb) spliced alignments\n",
      "\n",
      "alignSplicedMateMapLmin     0\n",
      "    int>0: minimum mapped length for a read mate that is spliced\n",
      "\n",
      "alignSplicedMateMapLminOverLmate 0.66\n",
      "    float>0: alignSplicedMateMapLmin normalized to mate length\n",
      "\n",
      "alignWindowsPerReadNmax     10000\n",
      "    int>0: max number of windows per read\n",
      "\n",
      "alignTranscriptsPerWindowNmax       100\n",
      "    int>0: max number of transcripts per window\n",
      "\n",
      "alignTranscriptsPerReadNmax               10000\n",
      "    int>0: max number of different alignments per read to consider\n",
      "\n",
      "alignEndsType           Local\n",
      "    string: type of read ends alignment\n",
      "                        Local             ... standard local alignment with soft-clipping allowed\n",
      "                        EndToEnd          ... force end-to-end read alignment, do not soft-clip\n",
      "                        Extend5pOfRead1   ... fully extend only the 5p of the read1, all other ends: local alignment\n",
      "                        Extend5pOfReads12 ... fully extend only the 5p of the both read1 and read2, all other ends: local alignment\n",
      "\n",
      "alignEndsProtrude       0    ConcordantPair\n",
      "    int, string:        allow protrusion of alignment ends, i.e. start (end) of the +strand mate downstream of the start (end) of the -strand mate\n",
      "                        1st word: int: maximum number of protrusion bases allowed\n",
      "                        2nd word: string: \n",
      "                                            ConcordantPair ... report alignments with non-zero protrusion as concordant pairs\n",
      "                                            DiscordantPair ... report alignments with non-zero protrusion as discordant pairs\n",
      "\n",
      "\n",
      "alignSoftClipAtReferenceEnds Yes\n",
      "    string: allow the soft-clipping of the alignments past the end of the chromosomes\n",
      "                        Yes ... allow\n",
      "                        No  ... prohibit, useful for compatibility with Cufflinks\n",
      "\n",
      "### Windows, Anchors, Binning\n",
      "\n",
      "winAnchorMultimapNmax           50\n",
      "    int>0: max number of loci anchors are allowed to map to\n",
      "\n",
      "winBinNbits                     16\n",
      "    int>0: =log2(winBin), where winBin is the size of the bin for the windows/clustering, each window will occupy an integer number of bins.\n",
      "\n",
      "winAnchorDistNbins              9\n",
      "    int>0: max number of bins between two anchors that allows aggregation of anchors into one window\n",
      "\n",
      "winFlankNbins                   4\n",
      "    int>0: log2(winFlank), where win Flank is the size of the left and right flanking regions for each window\n",
      "\n",
      "winReadCoverageRelativeMin      0.5\n",
      "    float>=0: minimum relative coverage of the read sequence by the seeds in a window, for STARlong algorithm only.\n",
      "\n",
      "winReadCoverageBasesMin      0\n",
      "    int>0: minimum number of bases covered by the seeds in a window , for STARlong algorithm only.\n",
      "\n",
      "### Chimeric Alignments\n",
      "chimOutType                 SeparateSAMold\n",
      "    string(s): type of chimeric output\n",
      "                            1st word:\n",
      "                            SeparateSAMold  ... output old SAM into separate Chimeric.out.sam file\n",
      "                            WithinBAM       ... output into main aligned BAM files (Aligned.*.bam)\n",
      "                            2nd word:\n",
      "                            WithinBAM HardClip  ... hard-clipping in the CIGAR for supplemental chimeric alignments (defaultif no 2nd word is present)\n",
      "                            WithinBAM SoftClip  ... soft-clipping in the CIGAR for supplemental chimeric alignments\n",
      "\n",
      "chimSegmentMin              0\n",
      "    int>=0: minimum length of chimeric segment length, if ==0, no chimeric output\n",
      "\n",
      "chimScoreMin                0\n",
      "    int>=0: minimum total (summed) score of the chimeric segments\n",
      "\n",
      "chimScoreDropMax            20\n",
      "    int>=0: max drop (difference) of chimeric score (the sum of scores of all chimeric segments) from the read length\n",
      "\n",
      "chimScoreSeparation         10\n",
      "    int>=0: minimum difference (separation) between the best chimeric score and the next one\n",
      "\n",
      "chimScoreJunctionNonGTAG    -1\n",
      "    int: penalty for a non-GT/AG chimeric junction\n",
      "\n",
      "chimJunctionOverhangMin     20\n",
      "    int>=0: minimum overhang for a chimeric junction\n",
      "\n",
      "chimSegmentReadGapMax       0\n",
      "    int>=0: maximum gap in the read sequence between chimeric segments\n",
      "\n",
      "chimFilter                  banGenomicN\n",
      "    string(s): different filters for chimeric alignments\n",
      "                            None ... no filtering\n",
      "                            banGenomicN ... Ns are not allowed in the genome sequence around the chimeric junction\n",
      "\n",
      "chimMainSegmentMultNmax        10\n",
      "    int>=1: maximum number of multi-alignments for the main chimeric segment. =1 will prohibit multimapping main segments.\n",
      "\n",
      "### Quantification of Annotations\n",
      "quantMode                   -\n",
      "    string(s): types of quantification requested\n",
      "                            -                ... none\n",
      "                            TranscriptomeSAM ... output SAM/BAM alignments to transcriptome into a separate file\n",
      "                            GeneCounts       ... count reads per gene\n",
      "\n",
      "quantTranscriptomeBAMcompression    1       1\n",
      "    int: -1 to 10  transcriptome BAM compression level, -1=default compression (6?), 0=no compression, 10=maximum compression\n",
      "\n",
      "quantTranscriptomeBan       IndelSoftclipSingleend\n",
      "    string: prohibit various alignment type\n",
      "                            IndelSoftclipSingleend  ... prohibit indels, soft clipping and single-end alignments - compatible with RSEM\n",
      "                            Singleend               ... prohibit single-end alignments\n",
      "\n",
      "### 2-pass Mapping\n",
      "twopassMode                 None\n",
      "    string: 2-pass mapping mode.\n",
      "                            None        ... 1-pass mapping\n",
      "                            Basic       ... basic 2-pass mapping, with all 1st pass junctions inserted into the genome indices on the fly\n",
      "\n",
      "twopass1readsN              -1\n",
      "    int: number of reads to process for the 1st step. Use very large number (or default -1) to map all reads in the first step.\n",
      "\n",
      "For more details see:\n",
      "<https://github.com/alexdobin/STAR>\n",
      "<https://github.com/alexdobin/STAR/blob/master/doc/STARmanual.pdf>\n"
     ]
    }
   ],
   "source": [
    "STAR"
   ]
  },
  {
   "cell_type": "markdown",
   "metadata": {},
   "source": [
    "The output file is now in `test.Aligned.out.sam`. Apart from that we have a number of additional log files generated."
   ]
  },
  {
   "cell_type": "code",
   "execution_count": 11,
   "metadata": {},
   "outputs": [
    {
     "name": "stdout",
     "output_type": "stream",
     "text": [
      "-rw-r--r-- 1 u0038182 domain users 5239034 Sep 26 18:08 test.Aligned.out.sam\n",
      "lrwxrwxrwx 1 u0038182 domain users      37 Sep 26 18:07 test.fastq -> /mnt/nfs/data/RNA-seq/MCF7/test.fastq\n",
      "-rw-r--r-- 1 u0038182 domain users    1830 Sep 26 18:08 test.Log.final.out\n",
      "-rw-r--r-- 1 u0038182 domain users   16039 Sep 26 18:08 test.Log.out\n",
      "-rw-r--r-- 1 u0038182 domain users     246 Sep 26 18:08 test.Log.progress.out\n",
      "-rw-r--r-- 1 u0038182 domain users  134953 Sep 26 18:08 test.SJ.out.tab\n"
     ]
    }
   ],
   "source": [
    "ls -l test.*"
   ]
  },
  {
   "cell_type": "markdown",
   "metadata": {},
   "source": [
    "### SAM file structure\n",
    "\n",
    "A SAM file is a text file containing the alignment of all reads. A SAM files starts with a header:(Please do not use `cat` as this will crash your notebook)"
   ]
  },
  {
   "cell_type": "code",
   "execution_count": 12,
   "metadata": {},
   "outputs": [
    {
     "name": "stdout",
     "output_type": "stream",
     "text": [
      "@HD\tVN:1.4\n",
      "@SQ\tSN:chrM\tLN:16571\n",
      "@SQ\tSN:chr1\tLN:249250621\n",
      "@SQ\tSN:chr2\tLN:243199373\n",
      "@SQ\tSN:chr3\tLN:198022430\n",
      "@SQ\tSN:chr4\tLN:191154276\n",
      "@SQ\tSN:chr5\tLN:180915260\n",
      "@SQ\tSN:chr6\tLN:171115067\n",
      "@SQ\tSN:chr7\tLN:159138663\n",
      "@SQ\tSN:chr8\tLN:146364022\n",
      "@SQ\tSN:chr9\tLN:141213431\n",
      "@SQ\tSN:chr10\tLN:135534747\n",
      "@SQ\tSN:chr11\tLN:135006516\n",
      "@SQ\tSN:chr12\tLN:133851895\n",
      "@SQ\tSN:chr13\tLN:115169878\n",
      "@SQ\tSN:chr14\tLN:107349540\n",
      "@SQ\tSN:chr15\tLN:102531392\n",
      "@SQ\tSN:chr16\tLN:90354753\n",
      "@SQ\tSN:chr17\tLN:81195210\n",
      "@SQ\tSN:chr18\tLN:78077248\n",
      "@SQ\tSN:chr19\tLN:59128983\n",
      "@SQ\tSN:chr20\tLN:63025520\n",
      "@SQ\tSN:chr21\tLN:48129895\n",
      "@SQ\tSN:chr22\tLN:51304566\n",
      "@SQ\tSN:chrX\tLN:155270560\n",
      "@SQ\tSN:chrY\tLN:59373566\n",
      "@PG\tID:STAR\tPN:STAR\tVN:STAR_2.5.4b\tCL:STAR   --runThreadN 2   --genomeDir /mnt/nfs/mfiers/STAR/hg19_star_db   --genomeLoad LoadAndKeep   --readFilesIn test.fastq      --outFileNamePrefix test.\n",
      "@CO\tuser command line: STAR --genomeDir /mnt/nfs/mfiers/STAR/hg19_star_db --genomeLoad LoadAndKeep --runThreadN 2 --readFilesIn test.fastq --outFileNamePrefix test.\n"
     ]
    }
   ],
   "source": [
    "head -40 test.Aligned.out.sam | grep '^@'"
   ]
  },
  {
   "cell_type": "markdown",
   "metadata": {},
   "source": [
    "Followed by the alignments:"
   ]
  },
  {
   "cell_type": "code",
   "execution_count": 13,
   "metadata": {},
   "outputs": [
    {
     "name": "stdout",
     "output_type": "stream",
     "text": [
      "SRR867127.1\t16\tchr11\t73373455\t255\t50M\t*\t0\t0\tGGTTGGGGAACAGGTGAGTTCTATTTGAGACTTCCAGCCCTAGAAAGCTG\tGD?@@FFB@FHDHHF?EDIHGHE@GHGFACF>GGIIIHFH?FDFFD?@@@\tNH:i:1\tHI:i:1\tAS:i:49\tnM:i:0\n",
      "SRR867127.2\t16\tchr2\t232324890\t255\t50M\t*\t0\t0\tACAGCAAGATCATTTTTAGCAAAAACATCGCTGATACCAGTTTTTAATTC\tIHCIIIHGF>AHFCGEHIIGBIIHGE<HIDIHHGFAGFHHHDDDFDDC@@\tNH:i:1\tHI:i:1\tAS:i:49\tnM:i:0\n",
      "SRR867127.3\t16\tchr8\t37556053\t255\t50M\t*\t0\t0\tACCACCCCTATGGCAAGAGCCACTTATCCACAGCGGGGGGCCTGGCCGTG\t9A9'HE>HGGJJIIIIGIIIG@IHEJHGHDHEGIGIGFFHDFFFDFF@@@\tNH:i:1\tHI:i:1\tAS:i:49\tnM:i:0\n",
      "SRR867127.4\t0\tchr12\t49522065\t255\t50M\t*\t0\t0\tCACAAACTGGATGCTGCGCTTGGTTTTGATGGTGGCAATGGCAGCATTGA\t@@@FFFFDFBDHHGGHEEHIJIGFGHGDGIGGFHGHGGIJJIJICHIJHE\tNH:i:1\tHI:i:1\tAS:i:49\tnM:i:0\n",
      "SRR867127.5\t16\tchr16\t3726056\t255\t50M\t*\t0\t0\tGGAAAACTCCTTGCAGTCGGATTTCAGGTGGATGATGATTTTTGTCCCGG\t>FJIHCJJIJIJIJJJIIHJJHIGGGEGIIJIIJIGIHHHHFFFDFF@CC\tNH:i:1\tHI:i:1\tAS:i:49\tnM:i:0\n",
      "SRR867127.6\t16\tchr17\t17184449\t255\t50M\t*\t0\t0\tGAGCTGAGAGCTGTCGGACACTGTTCACGAACTGCTCCAGGGCAGACGCC\tIHGFFGHCGDHGB>IIIDF?EHEGCGHHDHHEGEGBJHHHGFFFFFF@C@\tNH:i:1\tHI:i:1\tAS:i:49\tnM:i:0\n",
      "SRR867127.7\t0\tchr8\t144939948\t255\t50M\t*\t0\t0\tGAAAACACACCAAAAAACTTATGAAACACCTCGATGGACAAAGGAAAAGT\tCCCFFFFFHHHHHJJJJJJJJJJJJJJJJJJJJJJJJJJJJJJJJJJJJJ\tNH:i:1\tHI:i:1\tAS:i:49\tnM:i:0\n",
      "SRR867127.8\t0\tchr7\t138764466\t255\t50M\t*\t0\t0\tGGAAAGCAAGCCTGTGCCCTTTCTGGTGGTCACAGCTTCAGGTGTTTGCA\tCCCFFFFFHHHHHJJJJJJJJIIJJJHIIGJJJJJJJJJIJJGIIJJJJI\tNH:i:1\tHI:i:1\tAS:i:49\tnM:i:0\n",
      "SRR867127.9\t16\tchrM\t15498\t255\t50M\t*\t0\t0\tGGCGACCCAGACAATTATACCCTAGCCAACCCCTTAAACACCCCTCCCCA\tFFHIHJJIJJHGJIGGHF=JJIHJJIIHGJJIHGGIHFFDHHFDDFFCCB\tNH:i:1\tHI:i:1\tAS:i:49\tnM:i:0\n",
      "SRR867127.10\t0\tchr2\t220036772\t255\t50M\t*\t0\t0\tAGANAAAAGATCAGGGTTGAAGGTCCCAGCAGTCCTTGGCTCCATNAGAC\tCCC#4BDFHHHHGJJJIIJJJJJFHIJIIIJJJJJJJJJJJJJJJ#0?FG\tNH:i:1\tHI:i:1\tAS:i:47\tnM:i:0\n",
      "SRR867127.11\t16\tchr10\t43883023\t255\t50M\t*\t0\t0\tTGTTGGGACCACTGTGCTTCAACACCCAATCCATCTCGGTTCTGTGGGAC\tHEEJIIGDHDFDGCEEIIGFEDD;GGGFIIHEG@GHIHHHHHFFFFF@@C\tNH:i:1\tHI:i:1\tAS:i:49\tnM:i:0\n",
      "SRR867127.12\t0\tchr1\t19544873\t255\t50M\t*\t0\t0\tGAGAAATATAATGACCCACATGTTAATTTATATTAAAAACTAAAAATAAA\tCCCFFFFFHHHHGJIJJJJIIJIJIIIJJIGHIJGIJJJJJJJJJJJJIJ\tNH:i:1\tHI:i:1\tAS:i:49\tnM:i:0\n",
      "SRR867127.13\t16\tchr22\t29193101\t255\t3S47M\t*\t0\t0\tTCTCATCCCCAAGCGCTGTCTTAACTCCTGGTTCTCAACTACAAGGCCAT\tCHFC@CIIGHHHHGGF@@ABGDFA?AHGIG@EIHBCGHFHHGDDFFD@@@\tNH:i:1\tHI:i:1\tAS:i:46\tnM:i:0\n",
      "SRR867127.14\t0\tchr22\t19779888\t0\t50M\t*\t0\t0\tTAAGAAAGTGGTGAATCCCCTGTTTGAGAAAAGGCCTAAGAATTTTGGCA\t1?<DDDDFFHHHFFGIIIGIHFEHHHDGHICHHGGHIEGHIJIIDHHIIB\tNH:i:8\tHI:i:1\tAS:i:49\tnM:i:0\n",
      "SRR867127.14\t272\tchr14\t70352737\t0\t50M\t*\t0\t0\tTGCCAAAATTCTTAGGCCTTTTCTCAAACAGGGGATTCACCACTTTCTTA\tBIIHHDIIJIHGEIHGGHHCIHGDHHHEFHIGIIIGFFHHHFFDDDD<?1\tNH:i:8\tHI:i:2\tAS:i:49\tnM:i:0\n",
      "SRR867127.14\t256\tchr9\t136215845\t0\t50M\t*\t0\t0\tTAAGAAAGTGGTGAATCCCCTGTTTGAGAAAAGGCCTAAGAATTTTGGCA\t1?<DDDDFFHHHFFGIIIGIHFEHHHDGHICHHGGHIEGHIJIIDHHIIB\tNH:i:8\tHI:i:3\tAS:i:49\tnM:i:0\n",
      "SRR867127.14\t256\tchr4\t57222370\t0\t1S49M\t*\t0\t0\tTAAGAAAGTGGTGAATCCCCTGTTTGAGAAAAGGCCTAAGAATTTTGGCA\t1?<DDDDFFHHHFFGIIIGIHFEHHHDGHICHHGGHIEGHIJIIDHHIIB\tNH:i:8\tHI:i:4\tAS:i:48\tnM:i:0\n",
      "SRR867127.14\t272\tchr4\t189271058\t0\t49M1S\t*\t0\t0\tTGCCAAAATTCTTAGGCCTTTTCTCAAACAGGGGATTCACCACTTTCTTA\tBIIHHDIIJIHGEIHGGHHCIHGDHHHEFHIGIIIGFFHHHFFDDDD<?1\tNH:i:8\tHI:i:5\tAS:i:48\tnM:i:0\n",
      "SRR867127.14\t256\tchr7\t102395665\t0\t1S49M\t*\t0\t0\tTAAGAAAGTGGTGAATCCCCTGTTTGAGAAAAGGCCTAAGAATTTTGGCA\t1?<DDDDFFHHHFFGIIIGIHFEHHHDGHICHHGGHIEGHIJIIDHHIIB\tNH:i:8\tHI:i:6\tAS:i:48\tnM:i:0\n",
      "SRR867127.14\t272\tchr7\t76745389\t0\t49M1S\t*\t0\t0\tTGCCAAAATTCTTAGGCCTTTTCTCAAACAGGGGATTCACCACTTTCTTA\tBIIHHDIIJIHGEIHGGHHCIHGDHHHEFHIGIIIGFFHHHFFDDDD<?1\tNH:i:8\tHI:i:7\tAS:i:48\tnM:i:0\n",
      "SRR867127.14\t256\tchr5\t78825191\t0\t1S49M\t*\t0\t0\tTAAGAAAGTGGTGAATCCCCTGTTTGAGAAAAGGCCTAAGAATTTTGGCA\t1?<DDDDFFHHHFFGIIIGIHFEHHHDGHICHHGGHIEGHIJIIDHHIIB\tNH:i:8\tHI:i:8\tAS:i:48\tnM:i:0\n",
      "SRR867127.15\t0\tchr2\t177135111\t255\t37M26440N13M\t*\t0\t0\tTTTGAGTCGGTGGACTGAACATGACTGATGTATATAGCTGCAGAACCTTG\tBCCFFFEFHHFHHIJJJJJIJJJIJJIEIIIIIIJJJJJJJJJJJJJJJJ\tNH:i:1\tHI:i:1\tAS:i:48\tnM:i:0\n",
      "SRR867127.16\t16\tchrX\t153717375\t3\t50M\t*\t0\t0\tGGGTGGGTCCCAGTCCTGTGCTGTCTTCCTTGATGGCAGGGCTGTCCCTG\tJJIJIGFDJJJIEJIJJJJIIHGJIIHEIGIEIJIIJHFHFHFFFFF@CC\tNH:i:2\tHI:i:1\tAS:i:49\tnM:i:0\n",
      "SRR867127.16\t272\tchrX\t153717375\t3\t47M1224N3M\t*\t0\t0\tGGGTGGGTCCCAGTCCTGTGCTGTCTTCCTTGATGGCAGGGCTGTCCCTG\tJJIJIGFDJJJIEJIJJJJIIHGJIIHEIGIEIJIIJHFHFHFFFFF@CC\tNH:i:2\tHI:i:2\tAS:i:49\tnM:i:0\n",
      "SRR867127.17\t0\tchr6\t26217188\t255\t50M\t*\t0\t0\tTGTTAGGAAGCCACTATGTCTGGACGTGGAAAGCAAGGCGGCAAAGCTCG\tCCCFFFFFHHHHHJJJJJJIJJJJJJDHIJJJGIJJJIBIJIJJJJJHHH\tNH:i:1\tHI:i:1\tAS:i:49\tnM:i:0\n",
      "SRR867127.19\t0\tchrM\t13426\t255\t50M\t*\t0\t0\tCAAAACCATACCTCTCACTTCAACCTCCCTCACCATTGGCAGCCTAGCAT\tB@BDDDFFFBFFFHHIIJJJJJJJJJJJJIJJJJIJJJJJJJJJJJJJII\tNH:i:1\tHI:i:1\tAS:i:49\tnM:i:0\n",
      "SRR867127.20\t0\tchr5\t133326704\t255\t50M\t*\t0\t0\tCAGTAATCTCGGTGCCTAGTGTATTGTCGGTATTCCATTTCTCTGTAAAC\tB@@DDFFFHGFGHJJJJJJFHCHJJIFHIJAEHIGIGGIJEHFHGFHHII\tNH:i:1\tHI:i:1\tAS:i:49\tnM:i:0\n",
      "SRR867127.21\t0\tchr15\t85341168\t255\t50M\t*\t0\t0\tGCCAGGTTTTCCACAAATGTGCATTCTGCCCCATGGCCTTCAAGACTGCC\tCCCFFFDDHHHHHJJJJJCHHIJJJJJJIJJJIHIJJJIJJJJIJJJJJJ\tNH:i:1\tHI:i:1\tAS:i:49\tnM:i:0\n",
      "SRR867127.22\t0\tchr12\t111948491\t255\t50M\t*\t0\t0\tTCTAGCCCTTACCCTTTATCCCATTACTGTTTTCTTTTCCAAAATGTTAG\tCCCFFFFFHHHHHJJJJIJJJJIJJIJJJJJJJIJJJJIIJJJJJJIIJJ\tNH:i:1\tHI:i:1\tAS:i:49\tnM:i:0\n",
      "SRR867127.23\t16\tchr17\t75495932\t255\t50M\t*\t0\t0\tCCCTCAGAGCCCATGGTAACGAACCCCTAGAAAGGAGAGAACGGGCGTCA\tHHACIIGGDDD<D9@IEIHEDADEE>?AGHHFC<?FCBDFAHDDDDD@?@\tNH:i:1\tHI:i:1\tAS:i:49\tnM:i:0\n",
      "SRR867127.24\t0\tchr12\t85796524\t0\t50M\t*\t0\t0\tCAACAGTGTAAAAGTGTTCCTATTTCTCCACATCCTCACCAGCACCTGTT\t@@@FFFDDFHDDAGAGAFHHIHIJIJIIFGGIEIJDGIIAFHIJGHGGDF\tNH:i:7\tHI:i:1\tAS:i:49\tnM:i:0\n",
      "SRR867127.24\t256\tchr1\t248432600\t0\t50M\t*\t0\t0\tCAACAGTGTAAAAGTGTTCCTATTTCTCCACATCCTCACCAGCACCTGTT\t@@@FFFDDFHDDAGAGAFHHIHIJIJIIFGGIEIJDGIIAFHIJGHGGDF\tNH:i:7\tHI:i:2\tAS:i:49\tnM:i:0\n",
      "SRR867127.24\t256\tchr5\t152142836\t0\t50M\t*\t0\t0\tCAACAGTGTAAAAGTGTTCCTATTTCTCCACATCCTCACCAGCACCTGTT\t@@@FFFDDFHDDAGAGAFHHIHIJIJIIFGGIEIJDGIIAFHIJGHGGDF\tNH:i:7\tHI:i:3\tAS:i:49\tnM:i:0\n",
      "SRR867127.24\t256\tchr2\t148907123\t0\t50M\t*\t0\t0\tCAACAGTGTAAAAGTGTTCCTATTTCTCCACATCCTCACCAGCACCTGTT\t@@@FFFDDFHDDAGAGAFHHIHIJIJIIFGGIEIJDGIIAFHIJGHGGDF\tNH:i:7\tHI:i:4\tAS:i:49\tnM:i:0\n",
      "SRR867127.24\t272\tchr4\t109992953\t0\t50M\t*\t0\t0\tAACAGGTGCTGGTGAGGATGTGGAGAAATAGGAACACTTTTACACTGTTG\tFDGGHGJIHFAIIGDJIEIGGFIIJIJIHIHHFAGAGADDHFDDFFF@@@\tNH:i:7\tHI:i:5\tAS:i:49\tnM:i:0\n",
      "SRR867127.24\t272\tchr2\t70964206\t0\t50M\t*\t0\t0\tAACAGGTGCTGGTGAGGATGTGGAGAAATAGGAACACTTTTACACTGTTG\tFDGGHGJIHFAIIGDJIEIGGFIIJIJIHIHHFAGAGADDHFDDFFF@@@\tNH:i:7\tHI:i:6\tAS:i:49\tnM:i:0\n",
      "SRR867127.24\t256\tchr4\t127782623\t0\t50M\t*\t0\t0\tCAACAGTGTAAAAGTGTTCCTATTTCTCCACATCCTCACCAGCACCTGTT\t@@@FFFDDFHDDAGAGAFHHIHIJIJIIFGGIEIJDGIIAFHIJGHGGDF\tNH:i:7\tHI:i:7\tAS:i:49\tnM:i:0\n",
      "SRR867127.25\t0\tchr19\t55899341\t255\t50M\t*\t0\t0\tCAAGAATGCTCGCGCCACGCTCAGCAGCATCAGACACATGATCCGCAAGA\tCCCFFFFFHHHHHJJJJJIJIJJJJJJIJJJJJJJJJIIJJIJJJJJJJJ\tNH:i:1\tHI:i:1\tAS:i:49\tnM:i:0\n",
      "SRR867127.26\t0\tchr19\t49298589\t255\t50M\t*\t0\t0\tTCGTATTGCACTTCAGGTGAGTCATTGGTAGGGAGGCGAGTGCTGGCGTG\t;?<DDDBB>A:CF3CBB:<<3C<<EH:CAFBE7G<FHH67788==B7A;A\tNH:i:1\tHI:i:1\tAS:i:49\tnM:i:0\n",
      "SRR867127.27\t0\tchr5\t113545803\t255\t48M2S\t*\t0\t0\tGTTTTTGCATTTTTGTGCTTTTTGTTTGTAATTATGCTGTTTAAAATGAC\tC@CFFFFFHHHHHJJGIJJJJJJJJJJJHJJJJJJJJJJJJJJJJJJJJJ\tNH:i:1\tHI:i:1\tAS:i:37\tnM:i:5\n",
      "SRR867127.28\t0\tchr1\t156006196\t3\t50M\t*\t0\t0\tCTGGAATTTCCAACAGTTCCCACCAAAAAGTGCTGAATGAACCAGAATAG\tCCCFFFFFHHGHHJJJJJJJJJJJJJJJJJEHIJJJJJJJJJJJJIJJJJ\tNH:i:2\tHI:i:1\tAS:i:49\tnM:i:0\n",
      "SRR867127.28\t256\tchr3\t148703075\t3\t50M\t*\t0\t0\tCTGGAATTTCCAACAGTTCCCACCAAAAAGTGCTGAATGAACCAGAATAG\tCCCFFFFFHHGHHJJJJJJJJJJJJJJJJJEHIJJJJJJJJJJJJIJJJJ\tNH:i:2\tHI:i:2\tAS:i:49\tnM:i:0\n",
      "SRR867127.29\t16\tchr1\t52840530\t255\t40M532N10M\t*\t0\t0\tGATGGCTCTCAGGAAGCTCTGTTCCAGAACAGAGGAATTTTTGATGGCCG\tIJJHFIDIHGJIGJJJJHGHIIIGGGGJJGIGJIIJJHHHHHFFDBF@@@\tNH:i:1\tHI:i:1\tAS:i:50\tnM:i:0\n",
      "SRR867127.30\t0\tchr2\t32843749\t255\t50M\t*\t0\t0\tTTTTTCTAAAGGGCTCCTTTTTTCCTGGACTATGTGGTTTTATGACTAAA\t@C@FDFFEFHHHHIJJJGGIJGGGIICGCGGJJIGIHBFHHHIGIGHCGE\tNH:i:1\tHI:i:1\tAS:i:49\tnM:i:0\n",
      "SRR867127.31\t16\tchr7\t75932344\t255\t50M\t*\t0\t0\tCCCGGACGAGCTGACGGTCAAGACCAAGGATGGCGTGGTGGAGATCACCG\tJJJJJIJJJJJJIIIJJJJIIGEJJJJJJJJJJJJHHHHHHHFFFFFCCC\tNH:i:1\tHI:i:1\tAS:i:49\tnM:i:0\n",
      "SRR867127.32\t0\tchr4\t169848667\t255\t50M\t*\t0\t0\tGAAATTGCCTGTAGCATCTAGTCTACTTGAAGGAAGTGGAGACATAAGGA\t@@@DDFFFFHHDFIIIIJGGIEHGHGIEEBGGIJIIIJJBGAGGGFFHII\tNH:i:1\tHI:i:1\tAS:i:49\tnM:i:0\n",
      "SRR867127.33\t16\tchr18\t55143872\t255\t12S38M\t*\t0\t0\tCTCTTCCGATCTCGGCGCCGCAGCCTGGAGAAGTGGCAAGACGATCTGAG\tDB@?ADDDBHHAEGEIIGGIIFIIIIJIGGGHG@IEEGHHHHFFFFFC@@\tNH:i:1\tHI:i:1\tAS:i:37\tnM:i:0\n",
      "SRR867127.34\t0\tchr8\t124265881\t255\t50M\t*\t0\t0\tCAGTTGTTAATTCTTTTGCTTCCTCTAGGCCGCCCACGCGGTCTTCCTCT\t@CCDFFEFHHHHHJJJJIJJIIIIIIJJJIJIIJJIIHGIJGIIIJJJJJ\tNH:i:1\tHI:i:1\tAS:i:49\tnM:i:0\n",
      "SRR867127.35\t16\tchr11\t4141109\t255\t50M\t*\t0\t0\tTGAGAGTATATAACAACACAGCTCGATATGTGGATCAAGGTGGGAACAAG\tIJJJJJJGJJJJHHIIJIJJJJJJJJJJJJIJJJIJJHGHHHFFFFFCCC\tNH:i:1\tHI:i:1\tAS:i:49\tnM:i:0\n",
      "SRR867127.36\t16\tchr10\t124648507\t255\t50M\t*\t0\t0\tATAGCTAATGGTTGAAGTTGAAAGTGATCCATACGAATGGAGAGCAGCTG\tEIIIGEIIIIIGEBIHCEGHIIHCGHE9EGECIHGGGHHDHDDFFDDCC@\tNH:i:1\tHI:i:1\tAS:i:49\tnM:i:0\n",
      "SRR867127.37\t16\tchr6\t108533025\t255\t50M\t*\t0\t0\tGCAAAAACTGTGCAAATAAGACCAAGCCAGTAACTTTAGTTACGACACTG\t##IIGFB@DC?9*IG?*GE??;:JJJJJJJIGHIGGIHHHHHFFFFDC@B\tNH:i:1\tHI:i:1\tAS:i:49\tnM:i:0\n",
      "SRR867127.38\t0\tchr20\t18541357\t255\t50M\t*\t0\t0\tGAAGCTGGCTGTCTCCAGTGCCTGTTAAGCTGAGGATACAACCAGGAAAT\tCC@FFFFFHGHHHIJJJJGIIJIJGIIJIJJJJJJJJJJJJJIJJIIGHH\tNH:i:1\tHI:i:1\tAS:i:49\tnM:i:0\n",
      "SRR867127.39\t0\tchr12\t124882685\t255\t43M2319N7M\t*\t0\t0\tTCTTCTTCTGTCCAGCGAGAACTCTCATTCAGCTCCATGGAGGCCAGCTC\t@@CFDFDDFFCFHIDGHEHGIIIIGIAGGC@<DFGHGIHIBDHCDGEGGG\tNH:i:1\tHI:i:1\tAS:i:49\tnM:i:0\n",
      "SRR867127.40\t0\tchr19\t3984172\t255\t50M\t*\t0\t0\tCCGGGTATCAGTGAAGCGTGTCTCCCCGGCCCGGGCCGAGGCGATGATGC\t@@@FF@DDFADHHIIDEG?EHHIGIIIGEHGGB@F>8@/=BB@B=?A;;>\tNH:i:1\tHI:i:1\tAS:i:49\tnM:i:0\n",
      "SRR867127.41\t16\tchr11\t65108516\t3\t29M325N11M10S\t*\t0\t0\tACGACTTTCCTTCCCATCTATTAAGCCAGACACAGACCAGCAGCCCGCAG\tIIHCEGIHIHGGIHGIEEGGFFJJJJJJJIIJJJIJIHHHHHFFFFF@CB\tNH:i:2\tHI:i:1\tAS:i:40\tnM:i:0\n",
      "SRR867127.41\t272\tchr11\t65108516\t3\t29M325N11M80722N10M\t*\t0\t0\tACGACTTTCCTTCCCATCTATTAAGCCAGACACAGACCAGCAGCCCGCAG\tIIHCEGIHIHGGIHGIEEGGFFJJJJJJJIIJJJIJIHHHHHFFFFF@CB\tNH:i:2\tHI:i:2\tAS:i:40\tnM:i:0\n",
      "SRR867127.43\t0\tchr7\t44841048\t3\t50M\t*\t0\t0\tCCAGATCATTCCTTCTGTAGCTCAGGAGAGCACCCCTCCACCCCATTTGC\tCCCFFFFFHHHHHJJJJJJJJJIJJJIIEHIIJIJJJJJJJJJJJJJJJI\tNH:i:2\tHI:i:1\tAS:i:49\tnM:i:0\n",
      "SRR867127.43\t256\tchr6\t24977236\t3\t50M\t*\t0\t0\tCCAGATCATTCCTTCTGTAGCTCAGGAGAGCACCCCTCCACCCCATTTGC\tCCCFFFFFHHHHHJJJJJJJJJIJJJIIEHIIJIJJJJJJJJJJJJJJJI\tNH:i:2\tHI:i:2\tAS:i:49\tnM:i:0\n",
      "SRR867127.44\t0\tchr1\t28865086\t255\t50M\t*\t0\t0\tAAAAGAACGATCCTCCACTTGACCAAGAAAAAAGTGATTCTCCCAGAAGC\tCCCFFFFFHHHHHJJJHIJJJJJJJJJIJJJJJJBFHIJJJJJJIIIJJI\tNH:i:1\tHI:i:1\tAS:i:49\tnM:i:0\n",
      "SRR867127.45\t16\tchr12\t53805659\t255\t49M1S\t*\t0\t0\tTATACATACATAATGTTTTTCCTTTCTTAATTTTGTCTTTTTGTTTGGGG\tEFB??@@BGIIGGJGIIJJJIGFJIGGGIIHHEGHGIFHFHFDDD?FC@@\tNH:i:1\tHI:i:1\tAS:i:48\tnM:i:0\n",
      "SRR867127.46\t16\tchr12\t74934499\t255\t50M\t*\t0\t0\tTGGGATGATGGTAAAGGAGAAAGGCCACAGTCCAATCCCTCTGCCTTCAG\tHF@DDH@DGGAIIHHCIHEGGIHGGFC;BIG>AGD:IHHBHDDDD??;@?\tNH:i:1\tHI:i:1\tAS:i:49\tnM:i:0\n",
      "SRR867127.47\t16\tchr11\t1780303\t255\t15M428N35M\t*\t0\t0\tACTTGTGGTGGATCCAGCAAGCGATGTCCAGCAGTTTGCAGTGGATGGAG\tFJJJJIJJJJJJIJJJJJJJJJJJJJJJJJJJJJJJIHGHHHFFFFFCCC\tNH:i:1\tHI:i:1\tAS:i:50\tnM:i:0\n",
      "SRR867127.49\t16\tchrX\t122778473\t255\t50M\t*\t0\t0\tTAAAAGTGGGTGACTGTTATAAGTTTCATTCTTCCACTGGCCATACAGAC\tHIIEIGHIHGGHFIGGHEEGGIIGCHCBGHGGFEEEHDFHHHDDDDD;@@\tNH:i:1\tHI:i:1\tAS:i:49\tnM:i:0\n",
      "SRR867127.50\t0\tchr17\t36883142\t255\t50M\t*\t0\t0\tCCAGGGTAGAGTGGGCAATTCTCACCTTCAAAGAGTCCCCGCCTGCCCAG\t?@@DDD2=DBD<AEF?FIEDCEGEIFGGC>GFBHIFDBGGHIIGIGEC>C\tNH:i:1\tHI:i:1\tAS:i:49\tnM:i:0\n",
      "SRR867127.51\t16\tchr5\t110077766\t255\t25M1640N24M1S\t*\t0\t0\tCTGGATTTGGTATTGGACTTGCAAGTCTCTTTACAGAAAATGTATTGGCG\tFG?3GIGHFDHEIGGDGBHGD>IHEEGIHHJHEHGEHFDFHDEDDFD@@@\tNH:i:1\tHI:i:1\tAS:i:48\tnM:i:0\n",
      "SRR867127.52\t16\tchrM\t333\t255\t50M\t*\t0\t0\tACTTAAACACATCTCTGCCAAACCCCAAAAACAAAGAACCCTAACACCAG\tGIGJJJJIIIHGHDHEJIGIHDJIJIIJJJJJJJJIIHGGHFDDDBFC@@\tNH:i:1\tHI:i:1\tAS:i:49\tnM:i:0\n",
      "SRR867127.54\t0\tchr12\t65271833\t255\t50M\t*\t0\t0\tGAAGGGGATGGATGAGGTAACACACAGTTTGGGATACGTATCTGTTGAAT\tCBCFFFFFHHHHHJJJJGHIHIJIIIJIJJJJJIJJJJHIJJJJJJJJJJ\tNH:i:1\tHI:i:1\tAS:i:49\tnM:i:0\n",
      "SRR867127.55\t16\tchr17\t56581461\t255\t50M\t*\t0\t0\tCTCGAAGGAGCGCCCACACAGAGCAGGTCCGCTTGTAGATGTTGCGCTTC\tFFHHHHHJJJJIJJJJJIJJJJJJJJJIJJIJJJJJJHHHHHFFFFFCCC\tNH:i:1\tHI:i:1\tAS:i:49\tnM:i:0\n",
      "SRR867127.56\t0\tchrX\t23802884\t255\t50M\t*\t0\t0\tCTTCTGACTCAACAAATGGGGAGAGCAAATTGAAAATGCGTAAATTGGAA\tCCCFFFFFHHHHHJJJJJIIJGGGIJJJJIJGGIHIIIJJFHIGIIHIJE\tNH:i:1\tHI:i:1\tAS:i:49\tnM:i:0\n",
      "SRR867127.57\t0\tchr8\t67342504\t255\t50M\t*\t0\t0\tATGAATACTAAATGTTAAGTTCTAGGCAATTATACGGGGACTCAGAAGGA\t@@CFF4ABFFFDHIGIIIIFHHHAHGIHEIIIGIIGGIIGDEIEHFHGIA\tNH:i:1\tHI:i:1\tAS:i:49\tnM:i:0\n",
      "SRR867127.58\t0\tchr11\t63743759\t255\t3S47M\t*\t0\t0\tAAGGTCACACCTGGAGACCTACAGGAGGCCAGAGTGAAGGGGTCCGTTCT\tCCCFFFFFHHHHHJJJJJJJJJJJJIJJJJJJJJHHIJJJJJGIJJJJJJ\tNH:i:1\tHI:i:1\tAS:i:46\tnM:i:0\n",
      "SRR867127.59\t16\tchr1\t117503939\t255\t50M\t*\t0\t0\tCGGGTGGTGGACACGAAGAGTGGGGAGGCGAATGTCCGATTCACGGTTTC\tGJJIJIIHEGJJIIIJIIFGGAGJIEJIHFHGHBEIIHHDFDDFFFF@@@\tNH:i:1\tHI:i:1\tAS:i:49\tnM:i:0\n"
     ]
    }
   ],
   "source": [
    "head -100 test.Aligned.out.sam | grep -v '^@'"
   ]
  },
  {
   "cell_type": "markdown",
   "metadata": {},
   "source": [
    "As you may notice, the SAM file is unsorted and uncompressed. To be able to quickly access the data we tend to sort the SAM file and convert it to a BAM file, which is a compressed (much smaller) version of a SAM file. The last step is to create an index for quick access.\n",
    "\n",
    "We use `samtools` to do this. The first step sorts and outputs `bam`:"
   ]
  },
  {
   "cell_type": "code",
   "execution_count": 14,
   "metadata": {},
   "outputs": [],
   "source": [
    "samtools sort -o test.bam test.Aligned.out.sam"
   ]
  },
  {
   "cell_type": "code",
   "execution_count": 15,
   "metadata": {},
   "outputs": [
    {
     "name": "stdout",
     "output_type": "stream",
     "text": [
      "Usage: samtools sort [options...] [in.bam]\n",
      "Options:\n",
      "  -l INT     Set compression level, from 0 (uncompressed) to 9 (best)\n",
      "  -m INT     Set maximum memory per thread; suffix K/M/G recognized [768M]\n",
      "  -n         Sort by read name\n",
      "  -t TAG     Sort by value of TAG. Uses position as secondary index (or read name if -n is set)\n",
      "  -o FILE    Write final output to FILE rather than standard output\n",
      "  -T PREFIX  Write temporary files to PREFIX.nnnn.bam\n",
      "      --input-fmt-option OPT[=VAL]\n",
      "               Specify a single input file format option in the form\n",
      "               of OPTION or OPTION=VALUE\n",
      "  -O, --output-fmt FORMAT[,OPT[=VAL]]...\n",
      "               Specify output format (SAM, BAM, CRAM)\n",
      "      --output-fmt-option OPT[=VAL]\n",
      "               Specify a single output file format option in the form\n",
      "               of OPTION or OPTION=VALUE\n",
      "      --reference FILE\n",
      "               Reference sequence FASTA FILE [null]\n",
      "  -@, --threads INT\n",
      "               Number of additional threads to use [0]\n"
     ]
    }
   ],
   "source": [
    "samtools sort"
   ]
  },
  {
   "cell_type": "code",
   "execution_count": 16,
   "metadata": {},
   "outputs": [
    {
     "name": "stdout",
     "output_type": "stream",
     "text": [
      "-rw-r--r-- 1 u0038182 domain users 5239034 Sep 26 18:08 test.Aligned.out.sam\n",
      "-rw-r--r-- 1 u0038182 domain users 1573049 Sep 26 18:08 test.bam\n"
     ]
    }
   ],
   "source": [
    "ls -l test*[bs]am"
   ]
  },
  {
   "cell_type": "markdown",
   "metadata": {},
   "source": [
    "As you can see, the output bam file is much smaller. We will now generate an index, again using `samtools`:"
   ]
  },
  {
   "cell_type": "code",
   "execution_count": 17,
   "metadata": {},
   "outputs": [],
   "source": [
    "samtools index test.bam"
   ]
  },
  {
   "cell_type": "code",
   "execution_count": 18,
   "metadata": {},
   "outputs": [
    {
     "name": "stdout",
     "output_type": "stream",
     "text": [
      "-rw-r--r-- 1 u0038182 domain users 5239034 Sep 26 18:08 test.Aligned.out.sam\n",
      "-rw-r--r-- 1 u0038182 domain users 1573049 Sep 26 18:08 test.bam\n",
      "-rw-r--r-- 1 u0038182 domain users 1761048 Sep 26 18:09 test.bam.bai\n"
     ]
    }
   ],
   "source": [
    "ls -l test*[bs]a[mi]"
   ]
  },
  {
   "cell_type": "markdown",
   "metadata": {},
   "source": [
    "The procedure is exactly the same for the full fastq files (NS1, NS2, S1 and S2). We've already performed the alignments. We will create a link to this data: "
   ]
  },
  {
   "cell_type": "markdown",
   "metadata": {},
   "source": [
    "### inspect the BAM file(s)"
   ]
  },
  {
   "cell_type": "code",
   "execution_count": 19,
   "metadata": {},
   "outputs": [
    {
     "name": "stdout",
     "output_type": "stream",
     "text": [
      "-rw-r--r-- 1 u0038182 domain users 1573049 Sep 26 18:08 test.bam\n",
      "-rw-r--r-- 1 u0038182 domain users 1761048 Sep 26 18:09 test.bam.bai\n"
     ]
    }
   ],
   "source": [
    "ls -l *.ba[mi]"
   ]
  },
  {
   "cell_type": "markdown",
   "metadata": {},
   "source": [
    "Now we have the full set of bam files. Note, there is an extra bam file (`S1-chr21.bam`) which contains only the reads of chromosome 21. We'll use this for manual inspection.\n",
    "\n",
    "You can have a look at any one of them, but ensure that you use `head` - otherwise the notebook will crash:"
   ]
  },
  {
   "cell_type": "code",
   "execution_count": 20,
   "metadata": {},
   "outputs": [
    {
     "name": "stdout",
     "output_type": "stream",
     "text": [
      "SRR867127.21188\t0\tchrM\t86\t255\t50M\t*\t0\t0\tCATTGCGAGACGCTGGAGCCGGAGCACCCTATGTCGCAGTATCTGTCTTT\tCCCFFFFFHHHHHJIJIIJJJJIIIJJJIIIJJHIIIHHHIJJJJHHGGH\tNH:i:1\tHI:i:1\tAS:i:49\tnM:i:0\n",
      "SRR867127.9187\t16\tchrM\t115\t255\t50M\t*\t0\t0\tTATGTCGCAGTATCTGTCTTTGATTCCTGCCTCATCCTATTATTTATCGC\tJJJJJJJJJJJJJJJJJIJJIJJJIJJJJJJJJJJJJHHHHHFFFFFCCC\tNH:i:1\tHI:i:1\tAS:i:47\tnM:i:1\n",
      "SRR867127.11621\t16\tchrM\t214\t255\t50M\t*\t0\t0\tAATTAATGCTTGTAGGACATAATAATAACAATTGAATGTCTGCACAGCCG\tJJIJJJJJJJJJIJJJIIIGJIGJJIJJIJJJJJJJJHHHHHFFFFFCCC\tNH:i:1\tHI:i:1\tAS:i:49\tnM:i:0\n",
      "samtools view: writing to standard output failed: Broken pipe\n",
      "samtools view: error closing standard output: -1\n"
     ]
    }
   ],
   "source": [
    "samtools view test.bam | head -3"
   ]
  },
  {
   "cell_type": "markdown",
   "metadata": {},
   "source": [
    "The format of the BAM output is the same as that of the SAM output.\n",
    "\n",
    "With `samtools idxstats` you can see how many reads map to each chromosome"
   ]
  },
  {
   "cell_type": "code",
   "execution_count": 21,
   "metadata": {},
   "outputs": [
    {
     "name": "stdout",
     "output_type": "stream",
     "text": [
      "chrM\t16571\t878\t0\n",
      "chr1\t249250621\t2662\t0\n",
      "chr2\t243199373\t1845\t0\n",
      "chr3\t198022430\t1391\t0\n",
      "chr4\t191154276\t795\t0\n",
      "chr5\t180915260\t1530\t0\n",
      "chr6\t171115067\t1381\t0\n",
      "chr7\t159138663\t1386\t0\n",
      "chr8\t146364022\t1024\t0\n",
      "chr9\t141213431\t1302\t0\n",
      "chr10\t135534747\t899\t0\n",
      "chr11\t135006516\t1502\t0\n",
      "chr12\t133851895\t2304\t0\n",
      "chr13\t115169878\t395\t0\n",
      "chr14\t107349540\t916\t0\n",
      "chr15\t102531392\t975\t0\n",
      "chr16\t90354753\t1701\t0\n",
      "chr17\t81195210\t1923\t0\n",
      "chr18\t78077248\t291\t0\n",
      "chr19\t59128983\t1457\t0\n",
      "chr20\t63025520\t904\t0\n",
      "chr21\t48129895\t234\t0\n",
      "chr22\t51304566\t559\t0\n",
      "chrX\t155270560\t980\t0\n",
      "chrY\t59373566\t72\t0\n",
      "*\t0\t0\t0\n"
     ]
    }
   ],
   "source": [
    "samtools idxstats test.bam"
   ]
  },
  {
   "cell_type": "code",
   "execution_count": 22,
   "metadata": {},
   "outputs": [
    {
     "name": "stdout",
     "output_type": "stream",
     "text": [
      "test.bam\n"
     ]
    }
   ],
   "source": [
    "ls *.bam"
   ]
  },
  {
   "cell_type": "markdown",
   "metadata": {},
   "source": [
    "Running `samtools flagstat` tells us what the distribution of mapping flags (column 2 in the sam/bam file) is:\n",
    "\n",
    "    0x0001\tp\tthe read is paired in sequencing\n",
    "    0x0002\tP\tthe read is mapped in a proper pair\n",
    "    0x0004\tu\tthe query sequence itself is unmapped\n",
    "    0x0008\tU\tthe mate is unmapped\n",
    "    0x0010\tr\tstrand of the query (1 for reverse)\n",
    "    0x0020\tR\tstrand of the mate\n",
    "    0x0040\t1\tthe read is the first read in a pair\n",
    "    0x0080\t2\tthe read is the second read in a pair\n",
    "    0x0100\ts\tthe alignment is not primary\n",
    "    0x0200\tf\tthe read fails platform/vendor quality checks\n",
    "    0x0400\td\tthe read is either a PCR or an optical duplicate\n",
    "    0x0800\tS\tthe alignment is supplementary\n",
    "    \n",
    "See [here](http://www.htslib.org/doc/samtools.html) for a more extensive explanation of the `samtools flagstat` output"
   ]
  },
  {
   "cell_type": "code",
   "execution_count": 23,
   "metadata": {},
   "outputs": [
    {
     "name": "stdout",
     "output_type": "stream",
     "text": [
      "29306 + 0 in total (QC-passed reads + QC-failed reads)\n",
      "6041 + 0 secondary\n",
      "0 + 0 supplementary\n",
      "0 + 0 duplicates\n",
      "29306 + 0 mapped (100.00% : N/A)\n",
      "0 + 0 paired in sequencing\n",
      "0 + 0 read1\n",
      "0 + 0 read2\n",
      "0 + 0 properly paired (N/A : N/A)\n",
      "0 + 0 with itself and mate mapped\n",
      "0 + 0 singletons (N/A : N/A)\n",
      "0 + 0 with mate mapped to a different chr\n",
      "0 + 0 with mate mapped to a different chr (mapQ>=5)\n"
     ]
    }
   ],
   "source": [
    "samtools flagstat test.bam"
   ]
  },
  {
   "cell_type": "markdown",
   "metadata": {},
   "source": [
    "# reads to gene counts"
   ]
  },
  {
   "cell_type": "markdown",
   "metadata": {},
   "source": [
    "First we'll make a symbolic link to (**a part of!**) the human annotation.\n",
    "\n",
    "Note, if you want to do this for your own project, a full gtf file (containing all chromosomes) can be found in:\n",
    "\n",
    "    /mnt/nfs/data/RNA-seq/gencode.v19.nopseudo.plus.sort.gtf"
   ]
  },
  {
   "cell_type": "code",
   "execution_count": 24,
   "metadata": {},
   "outputs": [
    {
     "name": "stdout",
     "output_type": "stream",
     "text": [
      "lrwxrwxrwx 1 u0038182 domain users 60 Sep 26 18:09 gencode.v19.nopseudo.plus.sort.gtf -> /mnt/storage/data/RNA-seq/gencode.v19.nopseudo.plus.sort.gtf\n"
     ]
    }
   ],
   "source": [
    "ln -sf /mnt/storage/data/RNA-seq/gencode.v19.nopseudo.plus.sort.gtf .\n",
    "ls -l *gtf"
   ]
  },
  {
   "cell_type": "markdown",
   "metadata": {},
   "source": [
    "Have a look (use `head`!):"
   ]
  },
  {
   "cell_type": "code",
   "execution_count": 25,
   "metadata": {},
   "outputs": [
    {
     "name": "stdout",
     "output_type": "stream",
     "text": [
      "chr17\tHAVANA\texon\t7565097\t7565332\t.\t-\t.\tgene_id \"ENSG00000141510.11\"; transcript_id \"ENST00000413465.2\"; gene_type \"protein_coding\"; gene_status \"KNOWN\"; gene_name \"TP53\"; transcript_type \"protein_coding\"; transcript_status \"PUTATIVE\"; transcript_name \"TP53-018\"; exon_number 7;  exon_id \"ENSE00001657961.2\";  level 2; tag \"basic\"; havana_gene \"OTTHUMG00000162125.4\"; havana_transcript \"OTTHUMT00000440236.1\";\n",
      "chr17\tHAVANA\tgene\t7565097\t7590856\t.\t-\t.\tgene_id \"ENSG00000141510.11\"; transcript_id \"ENSG00000141510.11\"; gene_type \"protein_coding\"; gene_status \"KNOWN\"; gene_name \"TP53\"; transcript_type \"protein_coding\"; transcript_status \"KNOWN\"; transcript_name \"TP53\"; level 2; havana_gene \"OTTHUMG00000162125.4\";\n",
      "chr17\tHAVANA\ttranscript\t7565097\t7579912\t.\t-\t.\tgene_id \"ENSG00000141510.11\"; transcript_id \"ENST00000413465.2\"; gene_type \"protein_coding\"; gene_status \"KNOWN\"; gene_name \"TP53\"; transcript_type \"protein_coding\"; transcript_status \"PUTATIVE\"; transcript_name \"TP53-018\"; level 2; tag \"basic\"; havana_gene \"OTTHUMG00000162125.4\"; havana_transcript \"OTTHUMT00000440236.1\";\n",
      "chr17\tHAVANA\tUTR\t7565097\t7565259\t.\t-\t.\tgene_id \"ENSG00000141510.11\"; transcript_id \"ENST00000413465.2\"; gene_type \"protein_coding\"; gene_status \"KNOWN\"; gene_name \"TP53\"; transcript_type \"protein_coding\"; transcript_status \"PUTATIVE\"; transcript_name \"TP53-018\"; level 2; tag \"basic\"; havana_gene \"OTTHUMG00000162125.4\"; havana_transcript \"OTTHUMT00000440236.1\";\n",
      "chr17\tHAVANA\tstop_codon\t7565257\t7565259\t.\t-\t0\tgene_id \"ENSG00000141510.11\"; transcript_id \"ENST00000413465.2\"; gene_type \"protein_coding\"; gene_status \"KNOWN\"; gene_name \"TP53\"; transcript_type \"protein_coding\"; transcript_status \"PUTATIVE\"; transcript_name \"TP53-018\"; exon_number 7;  exon_id \"ENSE00001657961.2\";  level 2; tag \"basic\"; havana_gene \"OTTHUMG00000162125.4\"; havana_transcript \"OTTHUMT00000440236.1\";\n",
      "chr17\tHAVANA\tCDS\t7565260\t7565332\t.\t-\t1\tgene_id \"ENSG00000141510.11\"; transcript_id \"ENST00000413465.2\"; gene_type \"protein_coding\"; gene_status \"KNOWN\"; gene_name \"TP53\"; transcript_type \"protein_coding\"; transcript_status \"PUTATIVE\"; transcript_name \"TP53-018\"; exon_number 7;  exon_id \"ENSE00001657961.2\";  level 2; tag \"basic\"; havana_gene \"OTTHUMG00000162125.4\"; havana_transcript \"OTTHUMT00000440236.1\";\n",
      "chr17\tHAVANA\texon\t7569404\t7569562\t.\t-\t.\tgene_id \"ENSG00000141510.11\"; transcript_id \"ENST00000359597.4\"; gene_type \"protein_coding\"; gene_status \"KNOWN\"; gene_name \"TP53\"; transcript_type \"protein_coding\"; transcript_status \"PUTATIVE\"; transcript_name \"TP53-019\"; exon_number 9;  exon_id \"ENSE00002204316.1\";  level 2; tag \"basic\"; havana_gene \"OTTHUMG00000162125.4\"; havana_transcript \"OTTHUMT00000440237.1\";\n",
      "chr17\tHAVANA\ttranscript\t7569404\t7579912\t.\t-\t.\tgene_id \"ENSG00000141510.11\"; transcript_id \"ENST00000359597.4\"; gene_type \"protein_coding\"; gene_status \"KNOWN\"; gene_name \"TP53\"; transcript_type \"protein_coding\"; transcript_status \"PUTATIVE\"; transcript_name \"TP53-019\"; level 2; tag \"basic\"; havana_gene \"OTTHUMG00000162125.4\"; havana_transcript \"OTTHUMT00000440237.1\";\n",
      "chr17\tHAVANA\tUTR\t7569404\t7569526\t.\t-\t.\tgene_id \"ENSG00000141510.11\"; transcript_id \"ENST00000359597.4\"; gene_type \"protein_coding\"; gene_status \"KNOWN\"; gene_name \"TP53\"; transcript_type \"protein_coding\"; transcript_status \"PUTATIVE\"; transcript_name \"TP53-019\"; level 2; tag \"basic\"; havana_gene \"OTTHUMG00000162125.4\"; havana_transcript \"OTTHUMT00000440237.1\";\n",
      "chr17\tHAVANA\tstop_codon\t7569524\t7569526\t.\t-\t0\tgene_id \"ENSG00000141510.11\"; transcript_id \"ENST00000359597.4\"; gene_type \"protein_coding\"; gene_status \"KNOWN\"; gene_name \"TP53\"; transcript_type \"protein_coding\"; transcript_status \"PUTATIVE\"; transcript_name \"TP53-019\"; exon_number 9;  exon_id \"ENSE00002204316.1\";  level 2; tag \"basic\"; havana_gene \"OTTHUMG00000162125.4\"; havana_transcript \"OTTHUMT00000440237.1\";\n",
      "chr17\tHAVANA\tCDS\t7569527\t7569562\t.\t-\t0\tgene_id \"ENSG00000141510.11\"; transcript_id \"ENST00000359597.4\"; gene_type \"protein_coding\"; gene_status \"KNOWN\"; gene_name \"TP53\"; transcript_type \"protein_coding\"; transcript_status \"PUTATIVE\"; transcript_name \"TP53-019\"; exon_number 9;  exon_id \"ENSE00002204316.1\";  level 2; tag \"basic\"; havana_gene \"OTTHUMG00000162125.4\"; havana_transcript \"OTTHUMT00000440237.1\";\n",
      "chr17\tHAVANA\texon\t7571720\t7573008\t.\t-\t.\tgene_id \"ENSG00000141510.11\"; transcript_id \"ENST00000269305.4\"; gene_type \"protein_coding\"; gene_status \"KNOWN\"; gene_name \"TP53\"; transcript_type \"protein_coding\"; transcript_status \"KNOWN\"; transcript_name \"TP53-001\"; exon_number 11;  exon_id \"ENSE00003605891.1\";  level 2; tag \"basic\"; tag \"appris_principal\"; tag \"CCDS\"; ccdsid \"CCDS11118.1\"; havana_gene \"OTTHUMG00000162125.4\"; havana_transcript \"OTTHUMT00000367397.1\";\n",
      "chr17\tHAVANA\texon\t7571720\t7573008\t.\t-\t.\tgene_id \"ENSG00000141510.11\"; transcript_id \"ENST00000504290.1\"; gene_type \"protein_coding\"; gene_status \"KNOWN\"; gene_name \"TP53\"; transcript_type \"retained_intron\"; transcript_status \"KNOWN\"; transcript_name \"TP53-006\"; exon_number 8;  exon_id \"ENSE00003492844.1\";  level 2; havana_gene \"OTTHUMG00000162125.4\"; havana_transcript \"OTTHUMT00000367402.1\";\n",
      "chr17\tHAVANA\texon\t7571720\t7573008\t.\t-\t.\tgene_id \"ENSG00000141510.11\"; transcript_id \"ENST00000504937.1\"; gene_type \"protein_coding\"; gene_status \"KNOWN\"; gene_name \"TP53\"; transcript_type \"retained_intron\"; transcript_status \"KNOWN\"; transcript_name \"TP53-008\"; exon_number 7;  exon_id \"ENSE00003492844.1\";  level 2; havana_gene \"OTTHUMG00000162125.4\"; havana_transcript \"OTTHUMT00000367404.1\";\n",
      "chr17\tHAVANA\texon\t7571720\t7573008\t.\t-\t.\tgene_id \"ENSG00000141510.11\"; transcript_id \"ENST00000510385.1\"; gene_type \"protein_coding\"; gene_status \"KNOWN\"; gene_name \"TP53\"; transcript_type \"retained_intron\"; transcript_status \"KNOWN\"; transcript_name \"TP53-007\"; exon_number 8;  exon_id \"ENSE00003492844.1\";  level 2; havana_gene \"OTTHUMG00000162125.4\"; havana_transcript \"OTTHUMT00000367403.1\";\n",
      "chr17\tHAVANA\ttranscript\t7571720\t7578811\t.\t-\t.\tgene_id \"ENSG00000141510.11\"; transcript_id \"ENST00000504290.1\"; gene_type \"protein_coding\"; gene_status \"KNOWN\"; gene_name \"TP53\"; transcript_type \"retained_intron\"; transcript_status \"KNOWN\"; transcript_name \"TP53-006\"; level 2; havana_gene \"OTTHUMG00000162125.4\"; havana_transcript \"OTTHUMT00000367402.1\";\n",
      "chr17\tHAVANA\ttranscript\t7571720\t7578811\t.\t-\t.\tgene_id \"ENSG00000141510.11\"; transcript_id \"ENST00000504937.1\"; gene_type \"protein_coding\"; gene_status \"KNOWN\"; gene_name \"TP53\"; transcript_type \"retained_intron\"; transcript_status \"KNOWN\"; transcript_name \"TP53-008\"; level 2; havana_gene \"OTTHUMG00000162125.4\"; havana_transcript \"OTTHUMT00000367404.1\";\n",
      "chr17\tHAVANA\ttranscript\t7571720\t7578811\t.\t-\t.\tgene_id \"ENSG00000141510.11\"; transcript_id \"ENST00000510385.1\"; gene_type \"protein_coding\"; gene_status \"KNOWN\"; gene_name \"TP53\"; transcript_type \"retained_intron\"; transcript_status \"KNOWN\"; transcript_name \"TP53-007\"; level 2; havana_gene \"OTTHUMG00000162125.4\"; havana_transcript \"OTTHUMT00000367403.1\";\n",
      "chr17\tHAVANA\ttranscript\t7571720\t7590856\t.\t-\t.\tgene_id \"ENSG00000141510.11\"; transcript_id \"ENST00000269305.4\"; gene_type \"protein_coding\"; gene_status \"KNOWN\"; gene_name \"TP53\"; transcript_type \"protein_coding\"; transcript_status \"KNOWN\"; transcript_name \"TP53-001\"; level 2; tag \"basic\"; tag \"appris_principal\"; tag \"CCDS\"; ccdsid \"CCDS11118.1\"; havana_gene \"OTTHUMG00000162125.4\"; havana_transcript \"OTTHUMT00000367397.1\";\n",
      "chr17\tHAVANA\tUTR\t7571720\t7572929\t.\t-\t.\tgene_id \"ENSG00000141510.11\"; transcript_id \"ENST00000269305.4\"; gene_type \"protein_coding\"; gene_status \"KNOWN\"; gene_name \"TP53\"; transcript_type \"protein_coding\"; transcript_status \"KNOWN\"; transcript_name \"TP53-001\"; level 2; tag \"basic\"; tag \"appris_principal\"; tag \"CCDS\"; ccdsid \"CCDS11118.1\"; havana_gene \"OTTHUMG00000162125.4\"; havana_transcript \"OTTHUMT00000367397.1\";\n",
      "chr17\tHAVANA\texon\t7571722\t7573008\t.\t-\t.\tgene_id \"ENSG00000141510.11\"; transcript_id \"ENST00000420246.2\"; gene_type \"protein_coding\"; gene_status \"KNOWN\"; gene_name \"TP53\"; transcript_type \"protein_coding\"; transcript_status \"KNOWN\"; transcript_name \"TP53-005\"; exon_number 12;  exon_id \"ENSE00002034209.1\";  level 2; tag \"NMD_exception\"; tag \"basic\"; tag \"CCDS\"; ccdsid \"CCDS45606.1\"; havana_gene \"OTTHUMG00000162125.4\"; havana_transcript \"OTTHUMT00000367401.1\";\n",
      "chr17\tHAVANA\texon\t7571722\t7573008\t.\t-\t.\tgene_id \"ENSG00000141510.11\"; transcript_id \"ENST00000455263.2\"; gene_type \"protein_coding\"; gene_status \"KNOWN\"; gene_name \"TP53\"; transcript_type \"protein_coding\"; transcript_status \"KNOWN\"; transcript_name \"TP53-004\"; exon_number 12;  exon_id \"ENSE00002034209.1\";  level 2; tag \"NMD_exception\"; tag \"basic\"; tag \"CCDS\"; ccdsid \"CCDS45605.1\"; havana_gene \"OTTHUMG00000162125.4\"; havana_transcript \"OTTHUMT00000367400.1\";\n",
      "chr17\tHAVANA\ttranscript\t7571722\t7590799\t.\t-\t.\tgene_id \"ENSG00000141510.11\"; transcript_id \"ENST00000420246.2\"; gene_type \"protein_coding\"; gene_status \"KNOWN\"; gene_name \"TP53\"; transcript_type \"protein_coding\"; transcript_status \"KNOWN\"; transcript_name \"TP53-005\"; level 2; tag \"NMD_exception\"; tag \"basic\"; tag \"CCDS\"; ccdsid \"CCDS45606.1\"; havana_gene \"OTTHUMG00000162125.4\"; havana_transcript \"OTTHUMT00000367401.1\";\n",
      "chr17\tHAVANA\ttranscript\t7571722\t7590799\t.\t-\t.\tgene_id \"ENSG00000141510.11\"; transcript_id \"ENST00000455263.2\"; gene_type \"protein_coding\"; gene_status \"KNOWN\"; gene_name \"TP53\"; transcript_type \"protein_coding\"; transcript_status \"KNOWN\"; transcript_name \"TP53-004\"; level 2; tag \"NMD_exception\"; tag \"basic\"; tag \"CCDS\"; ccdsid \"CCDS45605.1\"; havana_gene \"OTTHUMG00000162125.4\"; havana_transcript \"OTTHUMT00000367400.1\";\n",
      "chr17\tHAVANA\tUTR\t7571722\t7573008\t.\t-\t.\tgene_id \"ENSG00000141510.11\"; transcript_id \"ENST00000420246.2\"; gene_type \"protein_coding\"; gene_status \"KNOWN\"; gene_name \"TP53\"; transcript_type \"protein_coding\"; transcript_status \"KNOWN\"; transcript_name \"TP53-005\"; level 2; tag \"NMD_exception\"; tag \"basic\"; tag \"CCDS\"; ccdsid \"CCDS45606.1\"; havana_gene \"OTTHUMG00000162125.4\"; havana_transcript \"OTTHUMT00000367401.1\";\n",
      "chr17\tHAVANA\tUTR\t7571722\t7573008\t.\t-\t.\tgene_id \"ENSG00000141510.11\"; transcript_id \"ENST00000455263.2\"; gene_type \"protein_coding\"; gene_status \"KNOWN\"; gene_name \"TP53\"; transcript_type \"protein_coding\"; transcript_status \"KNOWN\"; transcript_name \"TP53-004\"; level 2; tag \"NMD_exception\"; tag \"basic\"; tag \"CCDS\"; ccdsid \"CCDS45605.1\"; havana_gene \"OTTHUMG00000162125.4\"; havana_transcript \"OTTHUMT00000367400.1\";\n",
      "chr17\tHAVANA\texon\t7571739\t7573008\t.\t-\t.\tgene_id \"ENSG00000141510.11\"; transcript_id \"ENST00000445888.2\"; gene_type \"protein_coding\"; gene_status \"KNOWN\"; gene_name \"TP53\"; transcript_type \"protein_coding\"; transcript_status \"KNOWN\"; transcript_name \"TP53-002\"; exon_number 11;  exon_id \"ENSE00002037735.1\";  level 2; tag \"alternative_5_UTR\"; tag \"basic\"; tag \"appris_principal\"; tag \"CCDS\"; ccdsid \"CCDS11118.1\"; havana_gene \"OTTHUMG00000162125.4\"; havana_transcript \"OTTHUMT00000367398.1\";\n",
      "chr17\tHAVANA\ttranscript\t7571739\t7590805\t.\t-\t.\tgene_id \"ENSG00000141510.11\"; transcript_id \"ENST00000445888.2\"; gene_type \"protein_coding\"; gene_status \"KNOWN\"; gene_name \"TP53\"; transcript_type \"protein_coding\"; transcript_status \"KNOWN\"; transcript_name \"TP53-002\"; level 2; tag \"alternative_5_UTR\"; tag \"basic\"; tag \"appris_principal\"; tag \"CCDS\"; ccdsid \"CCDS11118.1\"; havana_gene \"OTTHUMG00000162125.4\"; havana_transcript \"OTTHUMT00000367398.1\";\n",
      "chr17\tHAVANA\tUTR\t7571739\t7572929\t.\t-\t.\tgene_id \"ENSG00000141510.11\"; transcript_id \"ENST00000445888.2\"; gene_type \"protein_coding\"; gene_status \"KNOWN\"; gene_name \"TP53\"; transcript_type \"protein_coding\"; transcript_status \"KNOWN\"; transcript_name \"TP53-002\"; level 2; tag \"alternative_5_UTR\"; tag \"basic\"; tag \"appris_principal\"; tag \"CCDS\"; ccdsid \"CCDS11118.1\"; havana_gene \"OTTHUMG00000162125.4\"; havana_transcript \"OTTHUMT00000367398.1\";\n",
      "chr17\tHAVANA\texon\t7572887\t7573008\t.\t-\t.\tgene_id \"ENSG00000141510.11\"; transcript_id \"ENST00000576024.1\"; gene_type \"protein_coding\"; gene_status \"KNOWN\"; gene_name \"TP53\"; transcript_type \"protein_coding\"; transcript_status \"PUTATIVE\"; transcript_name \"TP53-017\"; exon_number 2;  exon_id \"ENSE00002226620.2\";  level 2; tag \"mRNA_start_NF\"; tag \"cds_start_NF\"; havana_gene \"OTTHUMG00000162125.4\"; havana_transcript \"OTTHUMT00000440238.1\";\n",
      "chr17\tHAVANA\ttranscript\t7572887\t7576905\t.\t-\t.\tgene_id \"ENSG00000141510.11\"; transcript_id \"ENST00000576024.1\"; gene_type \"protein_coding\"; gene_status \"KNOWN\"; gene_name \"TP53\"; transcript_type \"protein_coding\"; transcript_status \"PUTATIVE\"; transcript_name \"TP53-017\"; level 2; tag \"mRNA_start_NF\"; tag \"cds_start_NF\"; havana_gene \"OTTHUMG00000162125.4\"; havana_transcript \"OTTHUMT00000440238.1\";\n",
      "chr17\tHAVANA\tUTR\t7572887\t7572969\t.\t-\t.\tgene_id \"ENSG00000141510.11\"; transcript_id \"ENST00000576024.1\"; gene_type \"protein_coding\"; gene_status \"KNOWN\"; gene_name \"TP53\"; transcript_type \"protein_coding\"; transcript_status \"PUTATIVE\"; transcript_name \"TP53-017\"; level 2; tag \"mRNA_start_NF\"; tag \"cds_start_NF\"; havana_gene \"OTTHUMG00000162125.4\"; havana_transcript \"OTTHUMT00000440238.1\";\n",
      "chr17\tHAVANA\tstop_codon\t7572927\t7572929\t.\t-\t0\tgene_id \"ENSG00000141510.11\"; transcript_id \"ENST00000269305.4\"; gene_type \"protein_coding\"; gene_status \"KNOWN\"; gene_name \"TP53\"; transcript_type \"protein_coding\"; transcript_status \"KNOWN\"; transcript_name \"TP53-001\"; exon_number 11;  exon_id \"ENSE00003605891.1\";  level 2; tag \"basic\"; tag \"appris_principal\"; tag \"CCDS\"; ccdsid \"CCDS11118.1\"; havana_gene \"OTTHUMG00000162125.4\"; havana_transcript \"OTTHUMT00000367397.1\";\n",
      "chr17\tHAVANA\tstop_codon\t7572927\t7572929\t.\t-\t0\tgene_id \"ENSG00000141510.11\"; transcript_id \"ENST00000445888.2\"; gene_type \"protein_coding\"; gene_status \"KNOWN\"; gene_name \"TP53\"; transcript_type \"protein_coding\"; transcript_status \"KNOWN\"; transcript_name \"TP53-002\"; exon_number 11;  exon_id \"ENSE00002037735.1\";  level 2; tag \"alternative_5_UTR\"; tag \"basic\"; tag \"appris_principal\"; tag \"CCDS\"; ccdsid \"CCDS11118.1\"; havana_gene \"OTTHUMG00000162125.4\"; havana_transcript \"OTTHUMT00000367398.1\";\n",
      "chr17\tHAVANA\tCDS\t7572930\t7573008\t.\t-\t1\tgene_id \"ENSG00000141510.11\"; transcript_id \"ENST00000269305.4\"; gene_type \"protein_coding\"; gene_status \"KNOWN\"; gene_name \"TP53\"; transcript_type \"protein_coding\"; transcript_status \"KNOWN\"; transcript_name \"TP53-001\"; exon_number 11;  exon_id \"ENSE00003605891.1\";  level 2; tag \"basic\"; tag \"appris_principal\"; tag \"CCDS\"; ccdsid \"CCDS11118.1\"; havana_gene \"OTTHUMG00000162125.4\"; havana_transcript \"OTTHUMT00000367397.1\";\n",
      "chr17\tHAVANA\tCDS\t7572930\t7573008\t.\t-\t1\tgene_id \"ENSG00000141510.11\"; transcript_id \"ENST00000445888.2\"; gene_type \"protein_coding\"; gene_status \"KNOWN\"; gene_name \"TP53\"; transcript_type \"protein_coding\"; transcript_status \"KNOWN\"; transcript_name \"TP53-002\"; exon_number 11;  exon_id \"ENSE00002037735.1\";  level 2; tag \"alternative_5_UTR\"; tag \"basic\"; tag \"appris_principal\"; tag \"CCDS\"; ccdsid \"CCDS11118.1\"; havana_gene \"OTTHUMG00000162125.4\"; havana_transcript \"OTTHUMT00000367398.1\";\n",
      "chr17\tHAVANA\tstop_codon\t7572967\t7572969\t.\t-\t0\tgene_id \"ENSG00000141510.11\"; transcript_id \"ENST00000576024.1\"; gene_type \"protein_coding\"; gene_status \"KNOWN\"; gene_name \"TP53\"; transcript_type \"protein_coding\"; transcript_status \"PUTATIVE\"; transcript_name \"TP53-017\"; exon_number 2;  exon_id \"ENSE00002226620.2\";  level 2; tag \"mRNA_start_NF\"; tag \"cds_start_NF\"; havana_gene \"OTTHUMG00000162125.4\"; havana_transcript \"OTTHUMT00000440238.1\";\n",
      "chr17\tHAVANA\tCDS\t7572970\t7573008\t.\t-\t0\tgene_id \"ENSG00000141510.11\"; transcript_id \"ENST00000576024.1\"; gene_type \"protein_coding\"; gene_status \"KNOWN\"; gene_name \"TP53\"; transcript_type \"protein_coding\"; transcript_status \"PUTATIVE\"; transcript_name \"TP53-017\"; exon_number 2;  exon_id \"ENSE00002226620.2\";  level 2; tag \"mRNA_start_NF\"; tag \"cds_start_NF\"; havana_gene \"OTTHUMG00000162125.4\"; havana_transcript \"OTTHUMT00000440238.1\";\n",
      "chr17\tHAVANA\tCDS\t7573927\t7574033\t.\t-\t0\tgene_id \"ENSG00000141510.11\"; transcript_id \"ENST00000269305.4\"; gene_type \"protein_coding\"; gene_status \"KNOWN\"; gene_name \"TP53\"; transcript_type \"protein_coding\"; transcript_status \"KNOWN\"; transcript_name \"TP53-001\"; exon_number 10;  exon_id \"ENSE00003545950.1\";  level 2; tag \"basic\"; tag \"appris_principal\"; tag \"CCDS\"; ccdsid \"CCDS11118.1\"; havana_gene \"OTTHUMG00000162125.4\"; havana_transcript \"OTTHUMT00000367397.1\";\n",
      "chr17\tHAVANA\tCDS\t7573927\t7574033\t.\t-\t0\tgene_id \"ENSG00000141510.11\"; transcript_id \"ENST00000445888.2\"; gene_type \"protein_coding\"; gene_status \"KNOWN\"; gene_name \"TP53\"; transcript_type \"protein_coding\"; transcript_status \"KNOWN\"; transcript_name \"TP53-002\"; exon_number 10;  exon_id \"ENSE00003545950.1\";  level 2; tag \"alternative_5_UTR\"; tag \"basic\"; tag \"appris_principal\"; tag \"CCDS\"; ccdsid \"CCDS11118.1\"; havana_gene \"OTTHUMG00000162125.4\"; havana_transcript \"OTTHUMT00000367398.1\";\n",
      "chr17\tHAVANA\texon\t7573927\t7574033\t.\t-\t.\tgene_id \"ENSG00000141510.11\"; transcript_id \"ENST00000269305.4\"; gene_type \"protein_coding\"; gene_status \"KNOWN\"; gene_name \"TP53\"; transcript_type \"protein_coding\"; transcript_status \"KNOWN\"; transcript_name \"TP53-001\"; exon_number 10;  exon_id \"ENSE00003545950.1\";  level 2; tag \"basic\"; tag \"appris_principal\"; tag \"CCDS\"; ccdsid \"CCDS11118.1\"; havana_gene \"OTTHUMG00000162125.4\"; havana_transcript \"OTTHUMT00000367397.1\";\n",
      "chr17\tHAVANA\texon\t7573927\t7574033\t.\t-\t.\tgene_id \"ENSG00000141510.11\"; transcript_id \"ENST00000420246.2\"; gene_type \"protein_coding\"; gene_status \"KNOWN\"; gene_name \"TP53\"; transcript_type \"protein_coding\"; transcript_status \"KNOWN\"; transcript_name \"TP53-005\"; exon_number 11;  exon_id \"ENSE00003634848.1\";  level 2; tag \"NMD_exception\"; tag \"basic\"; tag \"CCDS\"; ccdsid \"CCDS45606.1\"; havana_gene \"OTTHUMG00000162125.4\"; havana_transcript \"OTTHUMT00000367401.1\";\n",
      "chr17\tHAVANA\texon\t7573927\t7574033\t.\t-\t.\tgene_id \"ENSG00000141510.11\"; transcript_id \"ENST00000445888.2\"; gene_type \"protein_coding\"; gene_status \"KNOWN\"; gene_name \"TP53\"; transcript_type \"protein_coding\"; transcript_status \"KNOWN\"; transcript_name \"TP53-002\"; exon_number 10;  exon_id \"ENSE00003545950.1\";  level 2; tag \"alternative_5_UTR\"; tag \"basic\"; tag \"appris_principal\"; tag \"CCDS\"; ccdsid \"CCDS11118.1\"; havana_gene \"OTTHUMG00000162125.4\"; havana_transcript \"OTTHUMT00000367398.1\";\n",
      "chr17\tHAVANA\texon\t7573927\t7574033\t.\t-\t.\tgene_id \"ENSG00000141510.11\"; transcript_id \"ENST00000455263.2\"; gene_type \"protein_coding\"; gene_status \"KNOWN\"; gene_name \"TP53\"; transcript_type \"protein_coding\"; transcript_status \"KNOWN\"; transcript_name \"TP53-004\"; exon_number 11;  exon_id \"ENSE00003634848.1\";  level 2; tag \"NMD_exception\"; tag \"basic\"; tag \"CCDS\"; ccdsid \"CCDS45605.1\"; havana_gene \"OTTHUMG00000162125.4\"; havana_transcript \"OTTHUMT00000367400.1\";\n",
      "chr17\tHAVANA\texon\t7573927\t7574033\t.\t-\t.\tgene_id \"ENSG00000141510.11\"; transcript_id \"ENST00000504290.1\"; gene_type \"protein_coding\"; gene_status \"KNOWN\"; gene_name \"TP53\"; transcript_type \"retained_intron\"; transcript_status \"KNOWN\"; transcript_name \"TP53-006\"; exon_number 7;  exon_id \"ENSE00003634848.1\";  level 2; havana_gene \"OTTHUMG00000162125.4\"; havana_transcript \"OTTHUMT00000367402.1\";\n",
      "chr17\tHAVANA\texon\t7573927\t7574033\t.\t-\t.\tgene_id \"ENSG00000141510.11\"; transcript_id \"ENST00000504937.1\"; gene_type \"protein_coding\"; gene_status \"KNOWN\"; gene_name \"TP53\"; transcript_type \"retained_intron\"; transcript_status \"KNOWN\"; transcript_name \"TP53-008\"; exon_number 6;  exon_id \"ENSE00003634848.1\";  level 2; havana_gene \"OTTHUMG00000162125.4\"; havana_transcript \"OTTHUMT00000367404.1\";\n",
      "chr17\tHAVANA\texon\t7573927\t7574033\t.\t-\t.\tgene_id \"ENSG00000141510.11\"; transcript_id \"ENST00000510385.1\"; gene_type \"protein_coding\"; gene_status \"KNOWN\"; gene_name \"TP53\"; transcript_type \"retained_intron\"; transcript_status \"KNOWN\"; transcript_name \"TP53-007\"; exon_number 7;  exon_id \"ENSE00003634848.1\";  level 2; havana_gene \"OTTHUMG00000162125.4\"; havana_transcript \"OTTHUMT00000367403.1\";\n",
      "chr17\tHAVANA\tUTR\t7573927\t7574033\t.\t-\t.\tgene_id \"ENSG00000141510.11\"; transcript_id \"ENST00000420246.2\"; gene_type \"protein_coding\"; gene_status \"KNOWN\"; gene_name \"TP53\"; transcript_type \"protein_coding\"; transcript_status \"KNOWN\"; transcript_name \"TP53-005\"; level 2; tag \"NMD_exception\"; tag \"basic\"; tag \"CCDS\"; ccdsid \"CCDS45606.1\"; havana_gene \"OTTHUMG00000162125.4\"; havana_transcript \"OTTHUMT00000367401.1\";\n",
      "chr17\tHAVANA\tUTR\t7573927\t7574033\t.\t-\t.\tgene_id \"ENSG00000141510.11\"; transcript_id \"ENST00000455263.2\"; gene_type \"protein_coding\"; gene_status \"KNOWN\"; gene_name \"TP53\"; transcript_type \"protein_coding\"; transcript_status \"KNOWN\"; transcript_name \"TP53-004\"; level 2; tag \"NMD_exception\"; tag \"basic\"; tag \"CCDS\"; ccdsid \"CCDS45605.1\"; havana_gene \"OTTHUMG00000162125.4\"; havana_transcript \"OTTHUMT00000367400.1\";\n",
      "chr17\tHAVANA\texon\t7576525\t7576584\t.\t-\t.\tgene_id \"ENSG00000141510.11\"; transcript_id \"ENST00000455263.2\"; gene_type \"protein_coding\"; gene_status \"KNOWN\"; gene_name \"TP53\"; transcript_type \"protein_coding\"; transcript_status \"KNOWN\"; transcript_name \"TP53-004\"; exon_number 10;  exon_id \"ENSE00003511286.1\";  level 2; tag \"NMD_exception\"; tag \"basic\"; tag \"CCDS\"; ccdsid \"CCDS45605.1\"; havana_gene \"OTTHUMG00000162125.4\"; havana_transcript \"OTTHUMT00000367400.1\";\n",
      "chr17\tHAVANA\texon\t7576525\t7576584\t.\t-\t.\tgene_id \"ENSG00000141510.11\"; transcript_id \"ENST00000504290.1\"; gene_type \"protein_coding\"; gene_status \"KNOWN\"; gene_name \"TP53\"; transcript_type \"retained_intron\"; transcript_status \"KNOWN\"; transcript_name \"TP53-006\"; exon_number 6;  exon_id \"ENSE00003576506.1\";  level 2; havana_gene \"OTTHUMG00000162125.4\"; havana_transcript \"OTTHUMT00000367402.1\";\n",
      "chr17\tHAVANA\texon\t7576525\t7576657\t.\t-\t.\tgene_id \"ENSG00000141510.11\"; transcript_id \"ENST00000420246.2\"; gene_type \"protein_coding\"; gene_status \"KNOWN\"; gene_name \"TP53\"; transcript_type \"protein_coding\"; transcript_status \"KNOWN\"; transcript_name \"TP53-005\"; exon_number 10;  exon_id \"ENSE00003552110.1\";  level 2; tag \"NMD_exception\"; tag \"basic\"; tag \"CCDS\"; ccdsid \"CCDS45606.1\"; havana_gene \"OTTHUMG00000162125.4\"; havana_transcript \"OTTHUMT00000367401.1\";\n",
      "chr17\tHAVANA\texon\t7576525\t7576657\t.\t-\t.\tgene_id \"ENSG00000141510.11\"; transcript_id \"ENST00000510385.1\"; gene_type \"protein_coding\"; gene_status \"KNOWN\"; gene_name \"TP53\"; transcript_type \"retained_intron\"; transcript_status \"KNOWN\"; transcript_name \"TP53-007\"; exon_number 6;  exon_id \"ENSE00003496026.1\";  level 2; havana_gene \"OTTHUMG00000162125.4\"; havana_transcript \"OTTHUMT00000367403.1\";\n",
      "chr17\tHAVANA\tUTR\t7576525\t7576539\t.\t-\t.\tgene_id \"ENSG00000141510.11\"; transcript_id \"ENST00000455263.2\"; gene_type \"protein_coding\"; gene_status \"KNOWN\"; gene_name \"TP53\"; transcript_type \"protein_coding\"; transcript_status \"KNOWN\"; transcript_name \"TP53-004\"; level 2; tag \"NMD_exception\"; tag \"basic\"; tag \"CCDS\"; ccdsid \"CCDS45605.1\"; havana_gene \"OTTHUMG00000162125.4\"; havana_transcript \"OTTHUMT00000367400.1\";\n",
      "chr17\tHAVANA\tUTR\t7576525\t7576627\t.\t-\t.\tgene_id \"ENSG00000141510.11\"; transcript_id \"ENST00000420246.2\"; gene_type \"protein_coding\"; gene_status \"KNOWN\"; gene_name \"TP53\"; transcript_type \"protein_coding\"; transcript_status \"KNOWN\"; transcript_name \"TP53-005\"; level 2; tag \"NMD_exception\"; tag \"basic\"; tag \"CCDS\"; ccdsid \"CCDS45606.1\"; havana_gene \"OTTHUMG00000162125.4\"; havana_transcript \"OTTHUMT00000367401.1\";\n",
      "chr17\tHAVANA\tstop_codon\t7576537\t7576539\t.\t-\t0\tgene_id \"ENSG00000141510.11\"; transcript_id \"ENST00000455263.2\"; gene_type \"protein_coding\"; gene_status \"KNOWN\"; gene_name \"TP53\"; transcript_type \"protein_coding\"; transcript_status \"KNOWN\"; transcript_name \"TP53-004\"; exon_number 10;  exon_id \"ENSE00003511286.1\";  level 2; tag \"NMD_exception\"; tag \"basic\"; tag \"CCDS\"; ccdsid \"CCDS45605.1\"; havana_gene \"OTTHUMG00000162125.4\"; havana_transcript \"OTTHUMT00000367400.1\";\n",
      "chr17\tHAVANA\tCDS\t7576540\t7576584\t.\t-\t0\tgene_id \"ENSG00000141510.11\"; transcript_id \"ENST00000455263.2\"; gene_type \"protein_coding\"; gene_status \"KNOWN\"; gene_name \"TP53\"; transcript_type \"protein_coding\"; transcript_status \"KNOWN\"; transcript_name \"TP53-004\"; exon_number 10;  exon_id \"ENSE00003511286.1\";  level 2; tag \"NMD_exception\"; tag \"basic\"; tag \"CCDS\"; ccdsid \"CCDS45605.1\"; havana_gene \"OTTHUMG00000162125.4\"; havana_transcript \"OTTHUMT00000367400.1\";\n",
      "chr17\tHAVANA\tstop_codon\t7576625\t7576627\t.\t-\t0\tgene_id \"ENSG00000141510.11\"; transcript_id \"ENST00000420246.2\"; gene_type \"protein_coding\"; gene_status \"KNOWN\"; gene_name \"TP53\"; transcript_type \"protein_coding\"; transcript_status \"KNOWN\"; transcript_name \"TP53-005\"; exon_number 10;  exon_id \"ENSE00003552110.1\";  level 2; tag \"NMD_exception\"; tag \"basic\"; tag \"CCDS\"; ccdsid \"CCDS45606.1\"; havana_gene \"OTTHUMG00000162125.4\"; havana_transcript \"OTTHUMT00000367401.1\";\n",
      "chr17\tHAVANA\tCDS\t7576628\t7576657\t.\t-\t0\tgene_id \"ENSG00000141510.11\"; transcript_id \"ENST00000420246.2\"; gene_type \"protein_coding\"; gene_status \"KNOWN\"; gene_name \"TP53\"; transcript_type \"protein_coding\"; transcript_status \"KNOWN\"; transcript_name \"TP53-005\"; exon_number 10;  exon_id \"ENSE00003552110.1\";  level 2; tag \"NMD_exception\"; tag \"basic\"; tag \"CCDS\"; ccdsid \"CCDS45606.1\"; havana_gene \"OTTHUMG00000162125.4\"; havana_transcript \"OTTHUMT00000367401.1\";\n",
      "chr17\tHAVANA\tCDS\t7576853\t7576905\t.\t-\t2\tgene_id \"ENSG00000141510.11\"; transcript_id \"ENST00000576024.1\"; gene_type \"protein_coding\"; gene_status \"KNOWN\"; gene_name \"TP53\"; transcript_type \"protein_coding\"; transcript_status \"PUTATIVE\"; transcript_name \"TP53-017\"; exon_number 1;  exon_id \"ENSE00002672443.1\";  level 2; tag \"mRNA_start_NF\"; tag \"cds_start_NF\"; havana_gene \"OTTHUMG00000162125.4\"; havana_transcript \"OTTHUMT00000440238.1\";\n",
      "chr17\tHAVANA\tCDS\t7576853\t7576926\t.\t-\t2\tgene_id \"ENSG00000141510.11\"; transcript_id \"ENST00000269305.4\"; gene_type \"protein_coding\"; gene_status \"KNOWN\"; gene_name \"TP53\"; transcript_type \"protein_coding\"; transcript_status \"KNOWN\"; transcript_name \"TP53-001\"; exon_number 9;  exon_id \"ENSE00003636029.1\";  level 2; tag \"basic\"; tag \"appris_principal\"; tag \"CCDS\"; ccdsid \"CCDS11118.1\"; havana_gene \"OTTHUMG00000162125.4\"; havana_transcript \"OTTHUMT00000367397.1\";\n",
      "chr17\tHAVANA\tCDS\t7576853\t7576926\t.\t-\t2\tgene_id \"ENSG00000141510.11\"; transcript_id \"ENST00000359597.4\"; gene_type \"protein_coding\"; gene_status \"KNOWN\"; gene_name \"TP53\"; transcript_type \"protein_coding\"; transcript_status \"PUTATIVE\"; transcript_name \"TP53-019\"; exon_number 8;  exon_id \"ENSE00003636029.1\";  level 2; tag \"basic\"; havana_gene \"OTTHUMG00000162125.4\"; havana_transcript \"OTTHUMT00000440237.1\";\n",
      "chr17\tHAVANA\tCDS\t7576853\t7576926\t.\t-\t2\tgene_id \"ENSG00000141510.11\"; transcript_id \"ENST00000420246.2\"; gene_type \"protein_coding\"; gene_status \"KNOWN\"; gene_name \"TP53\"; transcript_type \"protein_coding\"; transcript_status \"KNOWN\"; transcript_name \"TP53-005\"; exon_number 9;  exon_id \"ENSE00003636029.1\";  level 2; tag \"NMD_exception\"; tag \"basic\"; tag \"CCDS\"; ccdsid \"CCDS45606.1\"; havana_gene \"OTTHUMG00000162125.4\"; havana_transcript \"OTTHUMT00000367401.1\";\n",
      "chr17\tHAVANA\tCDS\t7576853\t7576926\t.\t-\t2\tgene_id \"ENSG00000141510.11\"; transcript_id \"ENST00000445888.2\"; gene_type \"protein_coding\"; gene_status \"KNOWN\"; gene_name \"TP53\"; transcript_type \"protein_coding\"; transcript_status \"KNOWN\"; transcript_name \"TP53-002\"; exon_number 9;  exon_id \"ENSE00003636029.1\";  level 2; tag \"alternative_5_UTR\"; tag \"basic\"; tag \"appris_principal\"; tag \"CCDS\"; ccdsid \"CCDS11118.1\"; havana_gene \"OTTHUMG00000162125.4\"; havana_transcript \"OTTHUMT00000367398.1\";\n",
      "chr17\tHAVANA\tCDS\t7576853\t7576926\t.\t-\t2\tgene_id \"ENSG00000141510.11\"; transcript_id \"ENST00000455263.2\"; gene_type \"protein_coding\"; gene_status \"KNOWN\"; gene_name \"TP53\"; transcript_type \"protein_coding\"; transcript_status \"KNOWN\"; transcript_name \"TP53-004\"; exon_number 9;  exon_id \"ENSE00003636029.1\";  level 2; tag \"NMD_exception\"; tag \"basic\"; tag \"CCDS\"; ccdsid \"CCDS45605.1\"; havana_gene \"OTTHUMG00000162125.4\"; havana_transcript \"OTTHUMT00000367400.1\";\n",
      "chr17\tHAVANA\tCDS\t7576853\t7576926\t.\t-\t2\tgene_id \"ENSG00000141510.11\"; transcript_id \"ENST00000509690.1\"; gene_type \"protein_coding\"; gene_status \"KNOWN\"; gene_name \"TP53\"; transcript_type \"protein_coding\"; transcript_status \"KNOWN\"; transcript_name \"TP53-015\"; exon_number 6;  exon_id \"ENSE00003669712.1\";  level 2; tag \"mRNA_end_NF\"; tag \"cds_end_NF\"; havana_gene \"OTTHUMG00000162125.4\"; havana_transcript \"OTTHUMT00000367411.2\";\n",
      "chr17\tHAVANA\texon\t7576853\t7576905\t.\t-\t.\tgene_id \"ENSG00000141510.11\"; transcript_id \"ENST00000576024.1\"; gene_type \"protein_coding\"; gene_status \"KNOWN\"; gene_name \"TP53\"; transcript_type \"protein_coding\"; transcript_status \"PUTATIVE\"; transcript_name \"TP53-017\"; exon_number 1;  exon_id \"ENSE00002672443.1\";  level 2; tag \"mRNA_start_NF\"; tag \"cds_start_NF\"; havana_gene \"OTTHUMG00000162125.4\"; havana_transcript \"OTTHUMT00000440238.1\";\n",
      "chr17\tHAVANA\texon\t7576853\t7576926\t.\t-\t.\tgene_id \"ENSG00000141510.11\"; transcript_id \"ENST00000269305.4\"; gene_type \"protein_coding\"; gene_status \"KNOWN\"; gene_name \"TP53\"; transcript_type \"protein_coding\"; transcript_status \"KNOWN\"; transcript_name \"TP53-001\"; exon_number 9;  exon_id \"ENSE00003636029.1\";  level 2; tag \"basic\"; tag \"appris_principal\"; tag \"CCDS\"; ccdsid \"CCDS11118.1\"; havana_gene \"OTTHUMG00000162125.4\"; havana_transcript \"OTTHUMT00000367397.1\";\n",
      "chr17\tHAVANA\texon\t7576853\t7576926\t.\t-\t.\tgene_id \"ENSG00000141510.11\"; transcript_id \"ENST00000359597.4\"; gene_type \"protein_coding\"; gene_status \"KNOWN\"; gene_name \"TP53\"; transcript_type \"protein_coding\"; transcript_status \"PUTATIVE\"; transcript_name \"TP53-019\"; exon_number 8;  exon_id \"ENSE00003636029.1\";  level 2; tag \"basic\"; havana_gene \"OTTHUMG00000162125.4\"; havana_transcript \"OTTHUMT00000440237.1\";\n",
      "chr17\tHAVANA\texon\t7576853\t7576926\t.\t-\t.\tgene_id \"ENSG00000141510.11\"; transcript_id \"ENST00000420246.2\"; gene_type \"protein_coding\"; gene_status \"KNOWN\"; gene_name \"TP53\"; transcript_type \"protein_coding\"; transcript_status \"KNOWN\"; transcript_name \"TP53-005\"; exon_number 9;  exon_id \"ENSE00003636029.1\";  level 2; tag \"NMD_exception\"; tag \"basic\"; tag \"CCDS\"; ccdsid \"CCDS45606.1\"; havana_gene \"OTTHUMG00000162125.4\"; havana_transcript \"OTTHUMT00000367401.1\";\n",
      "chr17\tHAVANA\texon\t7576853\t7576926\t.\t-\t.\tgene_id \"ENSG00000141510.11\"; transcript_id \"ENST00000445888.2\"; gene_type \"protein_coding\"; gene_status \"KNOWN\"; gene_name \"TP53\"; transcript_type \"protein_coding\"; transcript_status \"KNOWN\"; transcript_name \"TP53-002\"; exon_number 9;  exon_id \"ENSE00003636029.1\";  level 2; tag \"alternative_5_UTR\"; tag \"basic\"; tag \"appris_principal\"; tag \"CCDS\"; ccdsid \"CCDS11118.1\"; havana_gene \"OTTHUMG00000162125.4\"; havana_transcript \"OTTHUMT00000367398.1\";\n",
      "chr17\tHAVANA\texon\t7576853\t7576926\t.\t-\t.\tgene_id \"ENSG00000141510.11\"; transcript_id \"ENST00000455263.2\"; gene_type \"protein_coding\"; gene_status \"KNOWN\"; gene_name \"TP53\"; transcript_type \"protein_coding\"; transcript_status \"KNOWN\"; transcript_name \"TP53-004\"; exon_number 9;  exon_id \"ENSE00003636029.1\";  level 2; tag \"NMD_exception\"; tag \"basic\"; tag \"CCDS\"; ccdsid \"CCDS45605.1\"; havana_gene \"OTTHUMG00000162125.4\"; havana_transcript \"OTTHUMT00000367400.1\";\n",
      "chr17\tHAVANA\texon\t7576853\t7576926\t.\t-\t.\tgene_id \"ENSG00000141510.11\"; transcript_id \"ENST00000504290.1\"; gene_type \"protein_coding\"; gene_status \"KNOWN\"; gene_name \"TP53\"; transcript_type \"retained_intron\"; transcript_status \"KNOWN\"; transcript_name \"TP53-006\"; exon_number 5;  exon_id \"ENSE00003516179.1\";  level 2; havana_gene \"OTTHUMG00000162125.4\"; havana_transcript \"OTTHUMT00000367402.1\";\n",
      "chr17\tHAVANA\texon\t7576853\t7576926\t.\t-\t.\tgene_id \"ENSG00000141510.11\"; transcript_id \"ENST00000504937.1\"; gene_type \"protein_coding\"; gene_status \"KNOWN\"; gene_name \"TP53\"; transcript_type \"retained_intron\"; transcript_status \"KNOWN\"; transcript_name \"TP53-008\"; exon_number 5;  exon_id \"ENSE00003516179.1\";  level 2; havana_gene \"OTTHUMG00000162125.4\"; havana_transcript \"OTTHUMT00000367404.1\";\n",
      "chr17\tHAVANA\texon\t7576853\t7576926\t.\t-\t.\tgene_id \"ENSG00000141510.11\"; transcript_id \"ENST00000509690.1\"; gene_type \"protein_coding\"; gene_status \"KNOWN\"; gene_name \"TP53\"; transcript_type \"protein_coding\"; transcript_status \"KNOWN\"; transcript_name \"TP53-015\"; exon_number 6;  exon_id \"ENSE00003669712.1\";  level 2; tag \"mRNA_end_NF\"; tag \"cds_end_NF\"; havana_gene \"OTTHUMG00000162125.4\"; havana_transcript \"OTTHUMT00000367411.2\";\n",
      "chr17\tHAVANA\texon\t7576853\t7576926\t.\t-\t.\tgene_id \"ENSG00000141510.11\"; transcript_id \"ENST00000510385.1\"; gene_type \"protein_coding\"; gene_status \"KNOWN\"; gene_name \"TP53\"; transcript_type \"retained_intron\"; transcript_status \"KNOWN\"; transcript_name \"TP53-007\"; exon_number 5;  exon_id \"ENSE00003516179.1\";  level 2; havana_gene \"OTTHUMG00000162125.4\"; havana_transcript \"OTTHUMT00000367403.1\";\n",
      "chr17\tHAVANA\ttranscript\t7576853\t7590805\t.\t-\t.\tgene_id \"ENSG00000141510.11\"; transcript_id \"ENST00000509690.1\"; gene_type \"protein_coding\"; gene_status \"KNOWN\"; gene_name \"TP53\"; transcript_type \"protein_coding\"; transcript_status \"KNOWN\"; transcript_name \"TP53-015\"; level 2; tag \"mRNA_end_NF\"; tag \"cds_end_NF\"; havana_gene \"OTTHUMG00000162125.4\"; havana_transcript \"OTTHUMT00000367411.2\";\n",
      "chr17\tHAVANA\tCDS\t7577019\t7577155\t.\t-\t1\tgene_id \"ENSG00000141510.11\"; transcript_id \"ENST00000269305.4\"; gene_type \"protein_coding\"; gene_status \"KNOWN\"; gene_name \"TP53\"; transcript_type \"protein_coding\"; transcript_status \"KNOWN\"; transcript_name \"TP53-001\"; exon_number 8;  exon_id \"ENSE00003586720.1\";  level 2; tag \"basic\"; tag \"appris_principal\"; tag \"CCDS\"; ccdsid \"CCDS11118.1\"; havana_gene \"OTTHUMG00000162125.4\"; havana_transcript \"OTTHUMT00000367397.1\";\n",
      "chr17\tHAVANA\tCDS\t7577019\t7577155\t.\t-\t1\tgene_id \"ENSG00000141510.11\"; transcript_id \"ENST00000359597.4\"; gene_type \"protein_coding\"; gene_status \"KNOWN\"; gene_name \"TP53\"; transcript_type \"protein_coding\"; transcript_status \"PUTATIVE\"; transcript_name \"TP53-019\"; exon_number 7;  exon_id \"ENSE00003586720.1\";  level 2; tag \"basic\"; havana_gene \"OTTHUMG00000162125.4\"; havana_transcript \"OTTHUMT00000440237.1\";\n",
      "chr17\tHAVANA\tCDS\t7577019\t7577155\t.\t-\t1\tgene_id \"ENSG00000141510.11\"; transcript_id \"ENST00000420246.2\"; gene_type \"protein_coding\"; gene_status \"KNOWN\"; gene_name \"TP53\"; transcript_type \"protein_coding\"; transcript_status \"KNOWN\"; transcript_name \"TP53-005\"; exon_number 8;  exon_id \"ENSE00003586720.1\";  level 2; tag \"NMD_exception\"; tag \"basic\"; tag \"CCDS\"; ccdsid \"CCDS45606.1\"; havana_gene \"OTTHUMG00000162125.4\"; havana_transcript \"OTTHUMT00000367401.1\";\n",
      "chr17\tHAVANA\tCDS\t7577019\t7577155\t.\t-\t1\tgene_id \"ENSG00000141510.11\"; transcript_id \"ENST00000445888.2\"; gene_type \"protein_coding\"; gene_status \"KNOWN\"; gene_name \"TP53\"; transcript_type \"protein_coding\"; transcript_status \"KNOWN\"; transcript_name \"TP53-002\"; exon_number 8;  exon_id \"ENSE00003586720.1\";  level 2; tag \"alternative_5_UTR\"; tag \"basic\"; tag \"appris_principal\"; tag \"CCDS\"; ccdsid \"CCDS11118.1\"; havana_gene \"OTTHUMG00000162125.4\"; havana_transcript \"OTTHUMT00000367398.1\";\n",
      "chr17\tHAVANA\tCDS\t7577019\t7577155\t.\t-\t1\tgene_id \"ENSG00000141510.11\"; transcript_id \"ENST00000455263.2\"; gene_type \"protein_coding\"; gene_status \"KNOWN\"; gene_name \"TP53\"; transcript_type \"protein_coding\"; transcript_status \"KNOWN\"; transcript_name \"TP53-004\"; exon_number 8;  exon_id \"ENSE00003586720.1\";  level 2; tag \"NMD_exception\"; tag \"basic\"; tag \"CCDS\"; ccdsid \"CCDS45605.1\"; havana_gene \"OTTHUMG00000162125.4\"; havana_transcript \"OTTHUMT00000367400.1\";\n",
      "chr17\tHAVANA\tCDS\t7577019\t7577155\t.\t-\t1\tgene_id \"ENSG00000141510.11\"; transcript_id \"ENST00000509690.1\"; gene_type \"protein_coding\"; gene_status \"KNOWN\"; gene_name \"TP53\"; transcript_type \"protein_coding\"; transcript_status \"KNOWN\"; transcript_name \"TP53-015\"; exon_number 5;  exon_id \"ENSE00003586720.1\";  level 2; tag \"mRNA_end_NF\"; tag \"cds_end_NF\"; havana_gene \"OTTHUMG00000162125.4\"; havana_transcript \"OTTHUMT00000367411.2\";\n",
      "chr17\tHAVANA\texon\t7577019\t7577155\t.\t-\t.\tgene_id \"ENSG00000141510.11\"; transcript_id \"ENST00000269305.4\"; gene_type \"protein_coding\"; gene_status \"KNOWN\"; gene_name \"TP53\"; transcript_type \"protein_coding\"; transcript_status \"KNOWN\"; transcript_name \"TP53-001\"; exon_number 8;  exon_id \"ENSE00003586720.1\";  level 2; tag \"basic\"; tag \"appris_principal\"; tag \"CCDS\"; ccdsid \"CCDS11118.1\"; havana_gene \"OTTHUMG00000162125.4\"; havana_transcript \"OTTHUMT00000367397.1\";\n",
      "chr17\tHAVANA\texon\t7577019\t7577155\t.\t-\t.\tgene_id \"ENSG00000141510.11\"; transcript_id \"ENST00000359597.4\"; gene_type \"protein_coding\"; gene_status \"KNOWN\"; gene_name \"TP53\"; transcript_type \"protein_coding\"; transcript_status \"PUTATIVE\"; transcript_name \"TP53-019\"; exon_number 7;  exon_id \"ENSE00003586720.1\";  level 2; tag \"basic\"; havana_gene \"OTTHUMG00000162125.4\"; havana_transcript \"OTTHUMT00000440237.1\";\n",
      "chr17\tHAVANA\texon\t7577019\t7577155\t.\t-\t.\tgene_id \"ENSG00000141510.11\"; transcript_id \"ENST00000420246.2\"; gene_type \"protein_coding\"; gene_status \"KNOWN\"; gene_name \"TP53\"; transcript_type \"protein_coding\"; transcript_status \"KNOWN\"; transcript_name \"TP53-005\"; exon_number 8;  exon_id \"ENSE00003586720.1\";  level 2; tag \"NMD_exception\"; tag \"basic\"; tag \"CCDS\"; ccdsid \"CCDS45606.1\"; havana_gene \"OTTHUMG00000162125.4\"; havana_transcript \"OTTHUMT00000367401.1\";\n",
      "chr17\tHAVANA\texon\t7577019\t7577155\t.\t-\t.\tgene_id \"ENSG00000141510.11\"; transcript_id \"ENST00000445888.2\"; gene_type \"protein_coding\"; gene_status \"KNOWN\"; gene_name \"TP53\"; transcript_type \"protein_coding\"; transcript_status \"KNOWN\"; transcript_name \"TP53-002\"; exon_number 8;  exon_id \"ENSE00003586720.1\";  level 2; tag \"alternative_5_UTR\"; tag \"basic\"; tag \"appris_principal\"; tag \"CCDS\"; ccdsid \"CCDS11118.1\"; havana_gene \"OTTHUMG00000162125.4\"; havana_transcript \"OTTHUMT00000367398.1\";\n",
      "chr17\tHAVANA\texon\t7577019\t7577155\t.\t-\t.\tgene_id \"ENSG00000141510.11\"; transcript_id \"ENST00000455263.2\"; gene_type \"protein_coding\"; gene_status \"KNOWN\"; gene_name \"TP53\"; transcript_type \"protein_coding\"; transcript_status \"KNOWN\"; transcript_name \"TP53-004\"; exon_number 8;  exon_id \"ENSE00003586720.1\";  level 2; tag \"NMD_exception\"; tag \"basic\"; tag \"CCDS\"; ccdsid \"CCDS45605.1\"; havana_gene \"OTTHUMG00000162125.4\"; havana_transcript \"OTTHUMT00000367400.1\";\n",
      "chr17\tHAVANA\texon\t7577019\t7577155\t.\t-\t.\tgene_id \"ENSG00000141510.11\"; transcript_id \"ENST00000504290.1\"; gene_type \"protein_coding\"; gene_status \"KNOWN\"; gene_name \"TP53\"; transcript_type \"retained_intron\"; transcript_status \"KNOWN\"; transcript_name \"TP53-006\"; exon_number 4;  exon_id \"ENSE00003692058.1\";  level 2; havana_gene \"OTTHUMG00000162125.4\"; havana_transcript \"OTTHUMT00000367402.1\";\n",
      "chr17\tHAVANA\texon\t7577019\t7577155\t.\t-\t.\tgene_id \"ENSG00000141510.11\"; transcript_id \"ENST00000504937.1\"; gene_type \"protein_coding\"; gene_status \"KNOWN\"; gene_name \"TP53\"; transcript_type \"retained_intron\"; transcript_status \"KNOWN\"; transcript_name \"TP53-008\"; exon_number 4;  exon_id \"ENSE00003692058.1\";  level 2; havana_gene \"OTTHUMG00000162125.4\"; havana_transcript \"OTTHUMT00000367404.1\";\n",
      "chr17\tHAVANA\texon\t7577019\t7577155\t.\t-\t.\tgene_id \"ENSG00000141510.11\"; transcript_id \"ENST00000509690.1\"; gene_type \"protein_coding\"; gene_status \"KNOWN\"; gene_name \"TP53\"; transcript_type \"protein_coding\"; transcript_status \"KNOWN\"; transcript_name \"TP53-015\"; exon_number 5;  exon_id \"ENSE00003586720.1\";  level 2; tag \"mRNA_end_NF\"; tag \"cds_end_NF\"; havana_gene \"OTTHUMG00000162125.4\"; havana_transcript \"OTTHUMT00000367411.2\";\n",
      "chr17\tHAVANA\texon\t7577019\t7577155\t.\t-\t.\tgene_id \"ENSG00000141510.11\"; transcript_id \"ENST00000510385.1\"; gene_type \"protein_coding\"; gene_status \"KNOWN\"; gene_name \"TP53\"; transcript_type \"retained_intron\"; transcript_status \"KNOWN\"; transcript_name \"TP53-007\"; exon_number 4;  exon_id \"ENSE00003692058.1\";  level 2; havana_gene \"OTTHUMG00000162125.4\"; havana_transcript \"OTTHUMT00000367403.1\";\n",
      "chr17\tHAVANA\tCDS\t7577499\t7577608\t.\t-\t0\tgene_id \"ENSG00000141510.11\"; transcript_id \"ENST00000269305.4\"; gene_type \"protein_coding\"; gene_status \"KNOWN\"; gene_name \"TP53\"; transcript_type \"protein_coding\"; transcript_status \"KNOWN\"; transcript_name \"TP53-001\"; exon_number 7;  exon_id \"ENSE00003504863.1\";  level 2; tag \"basic\"; tag \"appris_principal\"; tag \"CCDS\"; ccdsid \"CCDS11118.1\"; havana_gene \"OTTHUMG00000162125.4\"; havana_transcript \"OTTHUMT00000367397.1\";\n",
      "chr17\tHAVANA\tCDS\t7577499\t7577608\t.\t-\t0\tgene_id \"ENSG00000141510.11\"; transcript_id \"ENST00000359597.4\"; gene_type \"protein_coding\"; gene_status \"KNOWN\"; gene_name \"TP53\"; transcript_type \"protein_coding\"; transcript_status \"PUTATIVE\"; transcript_name \"TP53-019\"; exon_number 6;  exon_id \"ENSE00003504863.1\";  level 2; tag \"basic\"; havana_gene \"OTTHUMG00000162125.4\"; havana_transcript \"OTTHUMT00000440237.1\";\n",
      "chr17\tHAVANA\tCDS\t7577499\t7577608\t.\t-\t0\tgene_id \"ENSG00000141510.11\"; transcript_id \"ENST00000413465.2\"; gene_type \"protein_coding\"; gene_status \"KNOWN\"; gene_name \"TP53\"; transcript_type \"protein_coding\"; transcript_status \"PUTATIVE\"; transcript_name \"TP53-018\"; exon_number 6;  exon_id \"ENSE00003504863.1\";  level 2; tag \"basic\"; havana_gene \"OTTHUMG00000162125.4\"; havana_transcript \"OTTHUMT00000440236.1\";\n",
      "chr17\tHAVANA\tCDS\t7577499\t7577608\t.\t-\t0\tgene_id \"ENSG00000141510.11\"; transcript_id \"ENST00000420246.2\"; gene_type \"protein_coding\"; gene_status \"KNOWN\"; gene_name \"TP53\"; transcript_type \"protein_coding\"; transcript_status \"KNOWN\"; transcript_name \"TP53-005\"; exon_number 7;  exon_id \"ENSE00003504863.1\";  level 2; tag \"NMD_exception\"; tag \"basic\"; tag \"CCDS\"; ccdsid \"CCDS45606.1\"; havana_gene \"OTTHUMG00000162125.4\"; havana_transcript \"OTTHUMT00000367401.1\";\n",
      "chr17\tHAVANA\tCDS\t7577499\t7577608\t.\t-\t0\tgene_id \"ENSG00000141510.11\"; transcript_id \"ENST00000445888.2\"; gene_type \"protein_coding\"; gene_status \"KNOWN\"; gene_name \"TP53\"; transcript_type \"protein_coding\"; transcript_status \"KNOWN\"; transcript_name \"TP53-002\"; exon_number 7;  exon_id \"ENSE00003504863.1\";  level 2; tag \"alternative_5_UTR\"; tag \"basic\"; tag \"appris_principal\"; tag \"CCDS\"; ccdsid \"CCDS11118.1\"; havana_gene \"OTTHUMG00000162125.4\"; havana_transcript \"OTTHUMT00000367398.1\";\n",
      "chr17\tHAVANA\tCDS\t7577499\t7577608\t.\t-\t0\tgene_id \"ENSG00000141510.11\"; transcript_id \"ENST00000455263.2\"; gene_type \"protein_coding\"; gene_status \"KNOWN\"; gene_name \"TP53\"; transcript_type \"protein_coding\"; transcript_status \"KNOWN\"; transcript_name \"TP53-004\"; exon_number 7;  exon_id \"ENSE00003504863.1\";  level 2; tag \"NMD_exception\"; tag \"basic\"; tag \"CCDS\"; ccdsid \"CCDS45605.1\"; havana_gene \"OTTHUMG00000162125.4\"; havana_transcript \"OTTHUMT00000367400.1\";\n",
      "chr17\tHAVANA\tCDS\t7577499\t7577608\t.\t-\t0\tgene_id \"ENSG00000141510.11\"; transcript_id \"ENST00000509690.1\"; gene_type \"protein_coding\"; gene_status \"KNOWN\"; gene_name \"TP53\"; transcript_type \"protein_coding\"; transcript_status \"KNOWN\"; transcript_name \"TP53-015\"; exon_number 4;  exon_id \"ENSE00003504863.1\";  level 2; tag \"mRNA_end_NF\"; tag \"cds_end_NF\"; havana_gene \"OTTHUMG00000162125.4\"; havana_transcript \"OTTHUMT00000367411.2\";\n",
      "chr17\tHAVANA\texon\t7577499\t7577608\t.\t-\t.\tgene_id \"ENSG00000141510.11\"; transcript_id \"ENST00000269305.4\"; gene_type \"protein_coding\"; gene_status \"KNOWN\"; gene_name \"TP53\"; transcript_type \"protein_coding\"; transcript_status \"KNOWN\"; transcript_name \"TP53-001\"; exon_number 7;  exon_id \"ENSE00003504863.1\";  level 2; tag \"basic\"; tag \"appris_principal\"; tag \"CCDS\"; ccdsid \"CCDS11118.1\"; havana_gene \"OTTHUMG00000162125.4\"; havana_transcript \"OTTHUMT00000367397.1\";\n",
      "chr17\tHAVANA\texon\t7577499\t7577608\t.\t-\t.\tgene_id \"ENSG00000141510.11\"; transcript_id \"ENST00000359597.4\"; gene_type \"protein_coding\"; gene_status \"KNOWN\"; gene_name \"TP53\"; transcript_type \"protein_coding\"; transcript_status \"PUTATIVE\"; transcript_name \"TP53-019\"; exon_number 6;  exon_id \"ENSE00003504863.1\";  level 2; tag \"basic\"; havana_gene \"OTTHUMG00000162125.4\"; havana_transcript \"OTTHUMT00000440237.1\";\n",
      "chr17\tHAVANA\texon\t7577499\t7577608\t.\t-\t.\tgene_id \"ENSG00000141510.11\"; transcript_id \"ENST00000413465.2\"; gene_type \"protein_coding\"; gene_status \"KNOWN\"; gene_name \"TP53\"; transcript_type \"protein_coding\"; transcript_status \"PUTATIVE\"; transcript_name \"TP53-018\"; exon_number 6;  exon_id \"ENSE00003504863.1\";  level 2; tag \"basic\"; havana_gene \"OTTHUMG00000162125.4\"; havana_transcript \"OTTHUMT00000440236.1\";\n",
      "chr17\tHAVANA\texon\t7577499\t7577608\t.\t-\t.\tgene_id \"ENSG00000141510.11\"; transcript_id \"ENST00000420246.2\"; gene_type \"protein_coding\"; gene_status \"KNOWN\"; gene_name \"TP53\"; transcript_type \"protein_coding\"; transcript_status \"KNOWN\"; transcript_name \"TP53-005\"; exon_number 7;  exon_id \"ENSE00003504863.1\";  level 2; tag \"NMD_exception\"; tag \"basic\"; tag \"CCDS\"; ccdsid \"CCDS45606.1\"; havana_gene \"OTTHUMG00000162125.4\"; havana_transcript \"OTTHUMT00000367401.1\";\n",
      "chr17\tHAVANA\texon\t7577499\t7577608\t.\t-\t.\tgene_id \"ENSG00000141510.11\"; transcript_id \"ENST00000445888.2\"; gene_type \"protein_coding\"; gene_status \"KNOWN\"; gene_name \"TP53\"; transcript_type \"protein_coding\"; transcript_status \"KNOWN\"; transcript_name \"TP53-002\"; exon_number 7;  exon_id \"ENSE00003504863.1\";  level 2; tag \"alternative_5_UTR\"; tag \"basic\"; tag \"appris_principal\"; tag \"CCDS\"; ccdsid \"CCDS11118.1\"; havana_gene \"OTTHUMG00000162125.4\"; havana_transcript \"OTTHUMT00000367398.1\";\n",
      "chr17\tHAVANA\texon\t7577499\t7577608\t.\t-\t.\tgene_id \"ENSG00000141510.11\"; transcript_id \"ENST00000455263.2\"; gene_type \"protein_coding\"; gene_status \"KNOWN\"; gene_name \"TP53\"; transcript_type \"protein_coding\"; transcript_status \"KNOWN\"; transcript_name \"TP53-004\"; exon_number 7;  exon_id \"ENSE00003504863.1\";  level 2; tag \"NMD_exception\"; tag \"basic\"; tag \"CCDS\"; ccdsid \"CCDS45605.1\"; havana_gene \"OTTHUMG00000162125.4\"; havana_transcript \"OTTHUMT00000367400.1\";\n",
      "chr17\tHAVANA\texon\t7577499\t7577608\t.\t-\t.\tgene_id \"ENSG00000141510.11\"; transcript_id \"ENST00000504290.1\"; gene_type \"protein_coding\"; gene_status \"KNOWN\"; gene_name \"TP53\"; transcript_type \"retained_intron\"; transcript_status \"KNOWN\"; transcript_name \"TP53-006\"; exon_number 3;  exon_id \"ENSE00003475276.1\";  level 2; havana_gene \"OTTHUMG00000162125.4\"; havana_transcript \"OTTHUMT00000367402.1\";\n",
      "chr17\tHAVANA\texon\t7577499\t7577608\t.\t-\t.\tgene_id \"ENSG00000141510.11\"; transcript_id \"ENST00000504937.1\"; gene_type \"protein_coding\"; gene_status \"KNOWN\"; gene_name \"TP53\"; transcript_type \"retained_intron\"; transcript_status \"KNOWN\"; transcript_name \"TP53-008\"; exon_number 3;  exon_id \"ENSE00003475276.1\";  level 2; havana_gene \"OTTHUMG00000162125.4\"; havana_transcript \"OTTHUMT00000367404.1\";\n",
      "chr17\tHAVANA\texon\t7577499\t7577608\t.\t-\t.\tgene_id \"ENSG00000141510.11\"; transcript_id \"ENST00000509690.1\"; gene_type \"protein_coding\"; gene_status \"KNOWN\"; gene_name \"TP53\"; transcript_type \"protein_coding\"; transcript_status \"KNOWN\"; transcript_name \"TP53-015\"; exon_number 4;  exon_id \"ENSE00003504863.1\";  level 2; tag \"mRNA_end_NF\"; tag \"cds_end_NF\"; havana_gene \"OTTHUMG00000162125.4\"; havana_transcript \"OTTHUMT00000367411.2\";\n",
      "chr17\tHAVANA\texon\t7577499\t7577608\t.\t-\t.\tgene_id \"ENSG00000141510.11\"; transcript_id \"ENST00000510385.1\"; gene_type \"protein_coding\"; gene_status \"KNOWN\"; gene_name \"TP53\"; transcript_type \"retained_intron\"; transcript_status \"KNOWN\"; transcript_name \"TP53-007\"; exon_number 3;  exon_id \"ENSE00003475276.1\";  level 2; havana_gene \"OTTHUMG00000162125.4\"; havana_transcript \"OTTHUMT00000367403.1\";\n",
      "chr17\tHAVANA\tCDS\t7577535\t7577608\t.\t-\t0\tgene_id \"ENSG00000141510.11\"; transcript_id \"ENST00000514944.1\"; gene_type \"protein_coding\"; gene_status \"KNOWN\"; gene_name \"TP53\"; transcript_type \"protein_coding\"; transcript_status \"NOVEL\"; transcript_name \"TP53-013\"; exon_number 6;  exon_id \"ENSE00002048269.1\";  level 2; tag \"mRNA_end_NF\"; tag \"cds_end_NF\"; havana_gene \"OTTHUMG00000162125.4\"; havana_transcript \"OTTHUMT00000367409.1\";\n",
      "chr17\tHAVANA\texon\t7577535\t7577608\t.\t-\t.\tgene_id \"ENSG00000141510.11\"; transcript_id \"ENST00000514944.1\"; gene_type \"protein_coding\"; gene_status \"KNOWN\"; gene_name \"TP53\"; transcript_type \"protein_coding\"; transcript_status \"NOVEL\"; transcript_name \"TP53-013\"; exon_number 6;  exon_id \"ENSE00002048269.1\";  level 2; tag \"mRNA_end_NF\"; tag \"cds_end_NF\"; havana_gene \"OTTHUMG00000162125.4\"; havana_transcript \"OTTHUMT00000367409.1\";\n",
      "chr17\tHAVANA\ttranscript\t7577535\t7590745\t.\t-\t.\tgene_id \"ENSG00000141510.11\"; transcript_id \"ENST00000514944.1\"; gene_type \"protein_coding\"; gene_status \"KNOWN\"; gene_name \"TP53\"; transcript_type \"protein_coding\"; transcript_status \"NOVEL\"; transcript_name \"TP53-013\"; level 2; tag \"mRNA_end_NF\"; tag \"cds_end_NF\"; havana_gene \"OTTHUMG00000162125.4\"; havana_transcript \"OTTHUMT00000367409.1\";\n",
      "chr17\tHAVANA\texon\t7577572\t7577608\t.\t-\t.\tgene_id \"ENSG00000141510.11\"; transcript_id \"ENST00000574684.1\"; gene_type \"protein_coding\"; gene_status \"KNOWN\"; gene_name \"TP53\"; transcript_type \"processed_transcript\"; transcript_status \"KNOWN\"; transcript_name \"TP53-016\"; exon_number 2;  exon_id \"ENSE00002677565.1\";  level 2; tag \"NMD_likely_if_extended\"; tag \"basic\"; havana_gene \"OTTHUMG00000162125.4\"; havana_transcript \"OTTHUMT00000440239.1\";\n",
      "chr17\tHAVANA\ttranscript\t7577572\t7578437\t.\t-\t.\tgene_id \"ENSG00000141510.11\"; transcript_id \"ENST00000574684.1\"; gene_type \"protein_coding\"; gene_status \"KNOWN\"; gene_name \"TP53\"; transcript_type \"processed_transcript\"; transcript_status \"KNOWN\"; transcript_name \"TP53-016\"; level 2; tag \"NMD_likely_if_extended\"; tag \"basic\"; havana_gene \"OTTHUMG00000162125.4\"; havana_transcript \"OTTHUMT00000440239.1\";\n",
      "chr17\tHAVANA\texon\t7577844\t7578289\t.\t-\t.\tgene_id \"ENSG00000141510.11\"; transcript_id \"ENST00000505014.1\"; gene_type \"protein_coding\"; gene_status \"KNOWN\"; gene_name \"TP53\"; transcript_type \"retained_intron\"; transcript_status \"KNOWN\"; transcript_name \"TP53-009\"; exon_number 5;  exon_id \"ENSE00002076714.1\";  level 2; havana_gene \"OTTHUMG00000162125.4\"; havana_transcript \"OTTHUMT00000367405.1\";\n",
      "chr17\tHAVANA\ttranscript\t7577844\t7590805\t.\t-\t.\tgene_id \"ENSG00000141510.11\"; transcript_id \"ENST00000505014.1\"; gene_type \"protein_coding\"; gene_status \"KNOWN\"; gene_name \"TP53\"; transcript_type \"retained_intron\"; transcript_status \"KNOWN\"; transcript_name \"TP53-009\"; level 2; havana_gene \"OTTHUMG00000162125.4\"; havana_transcript \"OTTHUMT00000367405.1\";\n",
      "chr17\tHAVANA\tCDS\t7578177\t7578289\t.\t-\t2\tgene_id \"ENSG00000141510.11\"; transcript_id \"ENST00000269305.4\"; gene_type \"protein_coding\"; gene_status \"KNOWN\"; gene_name \"TP53\"; transcript_type \"protein_coding\"; transcript_status \"KNOWN\"; transcript_name \"TP53-001\"; exon_number 6;  exon_id \"ENSE00003462942.1\";  level 2; tag \"basic\"; tag \"appris_principal\"; tag \"CCDS\"; ccdsid \"CCDS11118.1\"; havana_gene \"OTTHUMG00000162125.4\"; havana_transcript \"OTTHUMT00000367397.1\";\n",
      "chr17\tHAVANA\tCDS\t7578177\t7578289\t.\t-\t2\tgene_id \"ENSG00000141510.11\"; transcript_id \"ENST00000359597.4\"; gene_type \"protein_coding\"; gene_status \"KNOWN\"; gene_name \"TP53\"; transcript_type \"protein_coding\"; transcript_status \"PUTATIVE\"; transcript_name \"TP53-019\"; exon_number 5;  exon_id \"ENSE00003462942.1\";  level 2; tag \"basic\"; havana_gene \"OTTHUMG00000162125.4\"; havana_transcript \"OTTHUMT00000440237.1\";\n",
      "chr17\tHAVANA\tCDS\t7578177\t7578289\t.\t-\t2\tgene_id \"ENSG00000141510.11\"; transcript_id \"ENST00000413465.2\"; gene_type \"protein_coding\"; gene_status \"KNOWN\"; gene_name \"TP53\"; transcript_type \"protein_coding\"; transcript_status \"PUTATIVE\"; transcript_name \"TP53-018\"; exon_number 5;  exon_id \"ENSE00003462942.1\";  level 2; tag \"basic\"; havana_gene \"OTTHUMG00000162125.4\"; havana_transcript \"OTTHUMT00000440236.1\";\n",
      "chr17\tHAVANA\tCDS\t7578177\t7578289\t.\t-\t2\tgene_id \"ENSG00000141510.11\"; transcript_id \"ENST00000420246.2\"; gene_type \"protein_coding\"; gene_status \"KNOWN\"; gene_name \"TP53\"; transcript_type \"protein_coding\"; transcript_status \"KNOWN\"; transcript_name \"TP53-005\"; exon_number 6;  exon_id \"ENSE00003462942.1\";  level 2; tag \"NMD_exception\"; tag \"basic\"; tag \"CCDS\"; ccdsid \"CCDS45606.1\"; havana_gene \"OTTHUMG00000162125.4\"; havana_transcript \"OTTHUMT00000367401.1\";\n",
      "chr17\tHAVANA\tCDS\t7578177\t7578289\t.\t-\t2\tgene_id \"ENSG00000141510.11\"; transcript_id \"ENST00000445888.2\"; gene_type \"protein_coding\"; gene_status \"KNOWN\"; gene_name \"TP53\"; transcript_type \"protein_coding\"; transcript_status \"KNOWN\"; transcript_name \"TP53-002\"; exon_number 6;  exon_id \"ENSE00003462942.1\";  level 2; tag \"alternative_5_UTR\"; tag \"basic\"; tag \"appris_principal\"; tag \"CCDS\"; ccdsid \"CCDS11118.1\"; havana_gene \"OTTHUMG00000162125.4\"; havana_transcript \"OTTHUMT00000367398.1\";\n",
      "chr17\tHAVANA\tCDS\t7578177\t7578289\t.\t-\t2\tgene_id \"ENSG00000141510.11\"; transcript_id \"ENST00000455263.2\"; gene_type \"protein_coding\"; gene_status \"KNOWN\"; gene_name \"TP53\"; transcript_type \"protein_coding\"; transcript_status \"KNOWN\"; transcript_name \"TP53-004\"; exon_number 6;  exon_id \"ENSE00003462942.1\";  level 2; tag \"NMD_exception\"; tag \"basic\"; tag \"CCDS\"; ccdsid \"CCDS45605.1\"; havana_gene \"OTTHUMG00000162125.4\"; havana_transcript \"OTTHUMT00000367400.1\";\n",
      "chr17\tHAVANA\tCDS\t7578177\t7578289\t.\t-\t2\tgene_id \"ENSG00000141510.11\"; transcript_id \"ENST00000509690.1\"; gene_type \"protein_coding\"; gene_status \"KNOWN\"; gene_name \"TP53\"; transcript_type \"protein_coding\"; transcript_status \"KNOWN\"; transcript_name \"TP53-015\"; exon_number 3;  exon_id \"ENSE00003462942.1\";  level 2; tag \"mRNA_end_NF\"; tag \"cds_end_NF\"; havana_gene \"OTTHUMG00000162125.4\"; havana_transcript \"OTTHUMT00000367411.2\";\n",
      "chr17\tHAVANA\tCDS\t7578177\t7578289\t.\t-\t2\tgene_id \"ENSG00000141510.11\"; transcript_id \"ENST00000514944.1\"; gene_type \"protein_coding\"; gene_status \"KNOWN\"; gene_name \"TP53\"; transcript_type \"protein_coding\"; transcript_status \"NOVEL\"; transcript_name \"TP53-013\"; exon_number 5;  exon_id \"ENSE00003462942.1\";  level 2; tag \"mRNA_end_NF\"; tag \"cds_end_NF\"; havana_gene \"OTTHUMG00000162125.4\"; havana_transcript \"OTTHUMT00000367409.1\";\n",
      "chr17\tHAVANA\texon\t7578177\t7578289\t.\t-\t.\tgene_id \"ENSG00000141510.11\"; transcript_id \"ENST00000269305.4\"; gene_type \"protein_coding\"; gene_status \"KNOWN\"; gene_name \"TP53\"; transcript_type \"protein_coding\"; transcript_status \"KNOWN\"; transcript_name \"TP53-001\"; exon_number 6;  exon_id \"ENSE00003462942.1\";  level 2; tag \"basic\"; tag \"appris_principal\"; tag \"CCDS\"; ccdsid \"CCDS11118.1\"; havana_gene \"OTTHUMG00000162125.4\"; havana_transcript \"OTTHUMT00000367397.1\";\n",
      "chr17\tHAVANA\texon\t7578177\t7578289\t.\t-\t.\tgene_id \"ENSG00000141510.11\"; transcript_id \"ENST00000359597.4\"; gene_type \"protein_coding\"; gene_status \"KNOWN\"; gene_name \"TP53\"; transcript_type \"protein_coding\"; transcript_status \"PUTATIVE\"; transcript_name \"TP53-019\"; exon_number 5;  exon_id \"ENSE00003462942.1\";  level 2; tag \"basic\"; havana_gene \"OTTHUMG00000162125.4\"; havana_transcript \"OTTHUMT00000440237.1\";\n",
      "chr17\tHAVANA\texon\t7578177\t7578289\t.\t-\t.\tgene_id \"ENSG00000141510.11\"; transcript_id \"ENST00000413465.2\"; gene_type \"protein_coding\"; gene_status \"KNOWN\"; gene_name \"TP53\"; transcript_type \"protein_coding\"; transcript_status \"PUTATIVE\"; transcript_name \"TP53-018\"; exon_number 5;  exon_id \"ENSE00003462942.1\";  level 2; tag \"basic\"; havana_gene \"OTTHUMG00000162125.4\"; havana_transcript \"OTTHUMT00000440236.1\";\n",
      "chr17\tHAVANA\texon\t7578177\t7578289\t.\t-\t.\tgene_id \"ENSG00000141510.11\"; transcript_id \"ENST00000420246.2\"; gene_type \"protein_coding\"; gene_status \"KNOWN\"; gene_name \"TP53\"; transcript_type \"protein_coding\"; transcript_status \"KNOWN\"; transcript_name \"TP53-005\"; exon_number 6;  exon_id \"ENSE00003462942.1\";  level 2; tag \"NMD_exception\"; tag \"basic\"; tag \"CCDS\"; ccdsid \"CCDS45606.1\"; havana_gene \"OTTHUMG00000162125.4\"; havana_transcript \"OTTHUMT00000367401.1\";\n",
      "chr17\tHAVANA\texon\t7578177\t7578289\t.\t-\t.\tgene_id \"ENSG00000141510.11\"; transcript_id \"ENST00000445888.2\"; gene_type \"protein_coding\"; gene_status \"KNOWN\"; gene_name \"TP53\"; transcript_type \"protein_coding\"; transcript_status \"KNOWN\"; transcript_name \"TP53-002\"; exon_number 6;  exon_id \"ENSE00003462942.1\";  level 2; tag \"alternative_5_UTR\"; tag \"basic\"; tag \"appris_principal\"; tag \"CCDS\"; ccdsid \"CCDS11118.1\"; havana_gene \"OTTHUMG00000162125.4\"; havana_transcript \"OTTHUMT00000367398.1\";\n",
      "chr17\tHAVANA\texon\t7578177\t7578289\t.\t-\t.\tgene_id \"ENSG00000141510.11\"; transcript_id \"ENST00000455263.2\"; gene_type \"protein_coding\"; gene_status \"KNOWN\"; gene_name \"TP53\"; transcript_type \"protein_coding\"; transcript_status \"KNOWN\"; transcript_name \"TP53-004\"; exon_number 6;  exon_id \"ENSE00003462942.1\";  level 2; tag \"NMD_exception\"; tag \"basic\"; tag \"CCDS\"; ccdsid \"CCDS45605.1\"; havana_gene \"OTTHUMG00000162125.4\"; havana_transcript \"OTTHUMT00000367400.1\";\n",
      "chr17\tHAVANA\texon\t7578177\t7578289\t.\t-\t.\tgene_id \"ENSG00000141510.11\"; transcript_id \"ENST00000504290.1\"; gene_type \"protein_coding\"; gene_status \"KNOWN\"; gene_name \"TP53\"; transcript_type \"retained_intron\"; transcript_status \"KNOWN\"; transcript_name \"TP53-006\"; exon_number 2;  exon_id \"ENSE00003465983.1\";  level 2; havana_gene \"OTTHUMG00000162125.4\"; havana_transcript \"OTTHUMT00000367402.1\";\n",
      "chr17\tHAVANA\texon\t7578177\t7578289\t.\t-\t.\tgene_id \"ENSG00000141510.11\"; transcript_id \"ENST00000504937.1\"; gene_type \"protein_coding\"; gene_status \"KNOWN\"; gene_name \"TP53\"; transcript_type \"retained_intron\"; transcript_status \"KNOWN\"; transcript_name \"TP53-008\"; exon_number 2;  exon_id \"ENSE00003465983.1\";  level 2; havana_gene \"OTTHUMG00000162125.4\"; havana_transcript \"OTTHUMT00000367404.1\";\n",
      "chr17\tHAVANA\texon\t7578177\t7578289\t.\t-\t.\tgene_id \"ENSG00000141510.11\"; transcript_id \"ENST00000509690.1\"; gene_type \"protein_coding\"; gene_status \"KNOWN\"; gene_name \"TP53\"; transcript_type \"protein_coding\"; transcript_status \"KNOWN\"; transcript_name \"TP53-015\"; exon_number 3;  exon_id \"ENSE00003462942.1\";  level 2; tag \"mRNA_end_NF\"; tag \"cds_end_NF\"; havana_gene \"OTTHUMG00000162125.4\"; havana_transcript \"OTTHUMT00000367411.2\";\n",
      "chr17\tHAVANA\texon\t7578177\t7578289\t.\t-\t.\tgene_id \"ENSG00000141510.11\"; transcript_id \"ENST00000510385.1\"; gene_type \"protein_coding\"; gene_status \"KNOWN\"; gene_name \"TP53\"; transcript_type \"retained_intron\"; transcript_status \"KNOWN\"; transcript_name \"TP53-007\"; exon_number 2;  exon_id \"ENSE00003465983.1\";  level 2; havana_gene \"OTTHUMG00000162125.4\"; havana_transcript \"OTTHUMT00000367403.1\";\n",
      "chr17\tHAVANA\texon\t7578177\t7578289\t.\t-\t.\tgene_id \"ENSG00000141510.11\"; transcript_id \"ENST00000514944.1\"; gene_type \"protein_coding\"; gene_status \"KNOWN\"; gene_name \"TP53\"; transcript_type \"protein_coding\"; transcript_status \"NOVEL\"; transcript_name \"TP53-013\"; exon_number 5;  exon_id \"ENSE00003462942.1\";  level 2; tag \"mRNA_end_NF\"; tag \"cds_end_NF\"; havana_gene \"OTTHUMG00000162125.4\"; havana_transcript \"OTTHUMT00000367409.1\";\n",
      "chr17\tHAVANA\tCDS\t7578371\t7578533\t.\t-\t0\tgene_id \"ENSG00000141510.11\"; transcript_id \"ENST00000509690.1\"; gene_type \"protein_coding\"; gene_status \"KNOWN\"; gene_name \"TP53\"; transcript_type \"protein_coding\"; transcript_status \"KNOWN\"; transcript_name \"TP53-015\"; exon_number 2;  exon_id \"ENSE00003656695.1\";  level 2; tag \"mRNA_end_NF\"; tag \"cds_end_NF\"; havana_gene \"OTTHUMG00000162125.4\"; havana_transcript \"OTTHUMT00000367411.2\";\n",
      "chr17\tHAVANA\tCDS\t7578371\t7578554\t.\t-\t0\tgene_id \"ENSG00000141510.11\"; transcript_id \"ENST00000269305.4\"; gene_type \"protein_coding\"; gene_status \"KNOWN\"; gene_name \"TP53\"; transcript_type \"protein_coding\"; transcript_status \"KNOWN\"; transcript_name \"TP53-001\"; exon_number 5;  exon_id \"ENSE00003518480.1\";  level 2; tag \"basic\"; tag \"appris_principal\"; tag \"CCDS\"; ccdsid \"CCDS11118.1\"; havana_gene \"OTTHUMG00000162125.4\"; havana_transcript \"OTTHUMT00000367397.1\";\n",
      "chr17\tHAVANA\tCDS\t7578371\t7578554\t.\t-\t0\tgene_id \"ENSG00000141510.11\"; transcript_id \"ENST00000359597.4\"; gene_type \"protein_coding\"; gene_status \"KNOWN\"; gene_name \"TP53\"; transcript_type \"protein_coding\"; transcript_status \"PUTATIVE\"; transcript_name \"TP53-019\"; exon_number 4;  exon_id \"ENSE00003518480.1\";  level 2; tag \"basic\"; havana_gene \"OTTHUMG00000162125.4\"; havana_transcript \"OTTHUMT00000440237.1\";\n",
      "chr17\tHAVANA\tCDS\t7578371\t7578554\t.\t-\t0\tgene_id \"ENSG00000141510.11\"; transcript_id \"ENST00000413465.2\"; gene_type \"protein_coding\"; gene_status \"KNOWN\"; gene_name \"TP53\"; transcript_type \"protein_coding\"; transcript_status \"PUTATIVE\"; transcript_name \"TP53-018\"; exon_number 4;  exon_id \"ENSE00003518480.1\";  level 2; tag \"basic\"; havana_gene \"OTTHUMG00000162125.4\"; havana_transcript \"OTTHUMT00000440236.1\";\n",
      "chr17\tHAVANA\tCDS\t7578371\t7578554\t.\t-\t0\tgene_id \"ENSG00000141510.11\"; transcript_id \"ENST00000420246.2\"; gene_type \"protein_coding\"; gene_status \"KNOWN\"; gene_name \"TP53\"; transcript_type \"protein_coding\"; transcript_status \"KNOWN\"; transcript_name \"TP53-005\"; exon_number 5;  exon_id \"ENSE00003518480.1\";  level 2; tag \"NMD_exception\"; tag \"basic\"; tag \"CCDS\"; ccdsid \"CCDS45606.1\"; havana_gene \"OTTHUMG00000162125.4\"; havana_transcript \"OTTHUMT00000367401.1\";\n",
      "chr17\tHAVANA\tCDS\t7578371\t7578554\t.\t-\t0\tgene_id \"ENSG00000141510.11\"; transcript_id \"ENST00000445888.2\"; gene_type \"protein_coding\"; gene_status \"KNOWN\"; gene_name \"TP53\"; transcript_type \"protein_coding\"; transcript_status \"KNOWN\"; transcript_name \"TP53-002\"; exon_number 5;  exon_id \"ENSE00003518480.1\";  level 2; tag \"alternative_5_UTR\"; tag \"basic\"; tag \"appris_principal\"; tag \"CCDS\"; ccdsid \"CCDS11118.1\"; havana_gene \"OTTHUMG00000162125.4\"; havana_transcript \"OTTHUMT00000367398.1\";\n",
      "chr17\tHAVANA\tCDS\t7578371\t7578554\t.\t-\t0\tgene_id \"ENSG00000141510.11\"; transcript_id \"ENST00000455263.2\"; gene_type \"protein_coding\"; gene_status \"KNOWN\"; gene_name \"TP53\"; transcript_type \"protein_coding\"; transcript_status \"KNOWN\"; transcript_name \"TP53-004\"; exon_number 5;  exon_id \"ENSE00003518480.1\";  level 2; tag \"NMD_exception\"; tag \"basic\"; tag \"CCDS\"; ccdsid \"CCDS45605.1\"; havana_gene \"OTTHUMG00000162125.4\"; havana_transcript \"OTTHUMT00000367400.1\";\n",
      "chr17\tHAVANA\tCDS\t7578371\t7578554\t.\t-\t0\tgene_id \"ENSG00000141510.11\"; transcript_id \"ENST00000514944.1\"; gene_type \"protein_coding\"; gene_status \"KNOWN\"; gene_name \"TP53\"; transcript_type \"protein_coding\"; transcript_status \"NOVEL\"; transcript_name \"TP53-013\"; exon_number 4;  exon_id \"ENSE00003518480.1\";  level 2; tag \"mRNA_end_NF\"; tag \"cds_end_NF\"; havana_gene \"OTTHUMG00000162125.4\"; havana_transcript \"OTTHUMT00000367409.1\";\n",
      "chr17\tHAVANA\texon\t7578371\t7578437\t.\t-\t.\tgene_id \"ENSG00000141510.11\"; transcript_id \"ENST00000574684.1\"; gene_type \"protein_coding\"; gene_status \"KNOWN\"; gene_name \"TP53\"; transcript_type \"processed_transcript\"; transcript_status \"KNOWN\"; transcript_name \"TP53-016\"; exon_number 1;  exon_id \"ENSE00002670535.1\";  level 2; tag \"NMD_likely_if_extended\"; tag \"basic\"; havana_gene \"OTTHUMG00000162125.4\"; havana_transcript \"OTTHUMT00000440239.1\";\n",
      "chr17\tHAVANA\texon\t7578371\t7578554\t.\t-\t.\tgene_id \"ENSG00000141510.11\"; transcript_id \"ENST00000269305.4\"; gene_type \"protein_coding\"; gene_status \"KNOWN\"; gene_name \"TP53\"; transcript_type \"protein_coding\"; transcript_status \"KNOWN\"; transcript_name \"TP53-001\"; exon_number 5;  exon_id \"ENSE00003518480.1\";  level 2; tag \"basic\"; tag \"appris_principal\"; tag \"CCDS\"; ccdsid \"CCDS11118.1\"; havana_gene \"OTTHUMG00000162125.4\"; havana_transcript \"OTTHUMT00000367397.1\";\n",
      "chr17\tHAVANA\texon\t7578371\t7578554\t.\t-\t.\tgene_id \"ENSG00000141510.11\"; transcript_id \"ENST00000359597.4\"; gene_type \"protein_coding\"; gene_status \"KNOWN\"; gene_name \"TP53\"; transcript_type \"protein_coding\"; transcript_status \"PUTATIVE\"; transcript_name \"TP53-019\"; exon_number 4;  exon_id \"ENSE00003518480.1\";  level 2; tag \"basic\"; havana_gene \"OTTHUMG00000162125.4\"; havana_transcript \"OTTHUMT00000440237.1\";\n",
      "chr17\tHAVANA\texon\t7578371\t7578554\t.\t-\t.\tgene_id \"ENSG00000141510.11\"; transcript_id \"ENST00000413465.2\"; gene_type \"protein_coding\"; gene_status \"KNOWN\"; gene_name \"TP53\"; transcript_type \"protein_coding\"; transcript_status \"PUTATIVE\"; transcript_name \"TP53-018\"; exon_number 4;  exon_id \"ENSE00003518480.1\";  level 2; tag \"basic\"; havana_gene \"OTTHUMG00000162125.4\"; havana_transcript \"OTTHUMT00000440236.1\";\n",
      "chr17\tHAVANA\texon\t7578371\t7578554\t.\t-\t.\tgene_id \"ENSG00000141510.11\"; transcript_id \"ENST00000420246.2\"; gene_type \"protein_coding\"; gene_status \"KNOWN\"; gene_name \"TP53\"; transcript_type \"protein_coding\"; transcript_status \"KNOWN\"; transcript_name \"TP53-005\"; exon_number 5;  exon_id \"ENSE00003518480.1\";  level 2; tag \"NMD_exception\"; tag \"basic\"; tag \"CCDS\"; ccdsid \"CCDS45606.1\"; havana_gene \"OTTHUMG00000162125.4\"; havana_transcript \"OTTHUMT00000367401.1\";\n",
      "chr17\tHAVANA\texon\t7578371\t7578554\t.\t-\t.\tgene_id \"ENSG00000141510.11\"; transcript_id \"ENST00000445888.2\"; gene_type \"protein_coding\"; gene_status \"KNOWN\"; gene_name \"TP53\"; transcript_type \"protein_coding\"; transcript_status \"KNOWN\"; transcript_name \"TP53-002\"; exon_number 5;  exon_id \"ENSE00003518480.1\";  level 2; tag \"alternative_5_UTR\"; tag \"basic\"; tag \"appris_principal\"; tag \"CCDS\"; ccdsid \"CCDS11118.1\"; havana_gene \"OTTHUMG00000162125.4\"; havana_transcript \"OTTHUMT00000367398.1\";\n",
      "chr17\tHAVANA\texon\t7578371\t7578554\t.\t-\t.\tgene_id \"ENSG00000141510.11\"; transcript_id \"ENST00000455263.2\"; gene_type \"protein_coding\"; gene_status \"KNOWN\"; gene_name \"TP53\"; transcript_type \"protein_coding\"; transcript_status \"KNOWN\"; transcript_name \"TP53-004\"; exon_number 5;  exon_id \"ENSE00003518480.1\";  level 2; tag \"NMD_exception\"; tag \"basic\"; tag \"CCDS\"; ccdsid \"CCDS45605.1\"; havana_gene \"OTTHUMG00000162125.4\"; havana_transcript \"OTTHUMT00000367400.1\";\n",
      "chr17\tHAVANA\texon\t7578371\t7578554\t.\t-\t.\tgene_id \"ENSG00000141510.11\"; transcript_id \"ENST00000505014.1\"; gene_type \"protein_coding\"; gene_status \"KNOWN\"; gene_name \"TP53\"; transcript_type \"retained_intron\"; transcript_status \"KNOWN\"; transcript_name \"TP53-009\"; exon_number 4;  exon_id \"ENSE00003520683.1\";  level 2; havana_gene \"OTTHUMG00000162125.4\"; havana_transcript \"OTTHUMT00000367405.1\";\n",
      "chr17\tHAVANA\texon\t7578371\t7578554\t.\t-\t.\tgene_id \"ENSG00000141510.11\"; transcript_id \"ENST00000509690.1\"; gene_type \"protein_coding\"; gene_status \"KNOWN\"; gene_name \"TP53\"; transcript_type \"protein_coding\"; transcript_status \"KNOWN\"; transcript_name \"TP53-015\"; exon_number 2;  exon_id \"ENSE00003656695.1\";  level 2; tag \"mRNA_end_NF\"; tag \"cds_end_NF\"; havana_gene \"OTTHUMG00000162125.4\"; havana_transcript \"OTTHUMT00000367411.2\";\n",
      "chr17\tHAVANA\texon\t7578371\t7578554\t.\t-\t.\tgene_id \"ENSG00000141510.11\"; transcript_id \"ENST00000514944.1\"; gene_type \"protein_coding\"; gene_status \"KNOWN\"; gene_name \"TP53\"; transcript_type \"protein_coding\"; transcript_status \"NOVEL\"; transcript_name \"TP53-013\"; exon_number 4;  exon_id \"ENSE00003518480.1\";  level 2; tag \"mRNA_end_NF\"; tag \"cds_end_NF\"; havana_gene \"OTTHUMG00000162125.4\"; havana_transcript \"OTTHUMT00000367409.1\";\n",
      "chr17\tHAVANA\texon\t7578371\t7578811\t.\t-\t.\tgene_id \"ENSG00000141510.11\"; transcript_id \"ENST00000504290.1\"; gene_type \"protein_coding\"; gene_status \"KNOWN\"; gene_name \"TP53\"; transcript_type \"retained_intron\"; transcript_status \"KNOWN\"; transcript_name \"TP53-006\"; exon_number 1;  exon_id \"ENSE00002064269.1\";  level 2; havana_gene \"OTTHUMG00000162125.4\"; havana_transcript \"OTTHUMT00000367402.1\";\n",
      "chr17\tHAVANA\texon\t7578371\t7578811\t.\t-\t.\tgene_id \"ENSG00000141510.11\"; transcript_id \"ENST00000504937.1\"; gene_type \"protein_coding\"; gene_status \"KNOWN\"; gene_name \"TP53\"; transcript_type \"retained_intron\"; transcript_status \"KNOWN\"; transcript_name \"TP53-008\"; exon_number 1;  exon_id \"ENSE00002064269.1\";  level 2; havana_gene \"OTTHUMG00000162125.4\"; havana_transcript \"OTTHUMT00000367404.1\";\n",
      "chr17\tHAVANA\texon\t7578371\t7578811\t.\t-\t.\tgene_id \"ENSG00000141510.11\"; transcript_id \"ENST00000510385.1\"; gene_type \"protein_coding\"; gene_status \"KNOWN\"; gene_name \"TP53\"; transcript_type \"retained_intron\"; transcript_status \"KNOWN\"; transcript_name \"TP53-007\"; exon_number 1;  exon_id \"ENSE00002064269.1\";  level 2; havana_gene \"OTTHUMG00000162125.4\"; havana_transcript \"OTTHUMT00000367403.1\";\n",
      "chr17\tHAVANA\tCDS\t7578434\t7578554\t.\t-\t0\tgene_id \"ENSG00000141510.11\"; transcript_id \"ENST00000508793.1\"; gene_type \"protein_coding\"; gene_status \"KNOWN\"; gene_name \"TP53\"; transcript_type \"protein_coding\"; transcript_status \"KNOWN\"; transcript_name \"TP53-014\"; exon_number 5;  exon_id \"ENSE00002073243.1\";  level 2; tag \"alternative_5_UTR\"; tag \"mRNA_end_NF\"; tag \"cds_end_NF\"; havana_gene \"OTTHUMG00000162125.4\"; havana_transcript \"OTTHUMT00000367410.1\";\n",
      "chr17\tHAVANA\texon\t7578434\t7578554\t.\t-\t.\tgene_id \"ENSG00000141510.11\"; transcript_id \"ENST00000508793.1\"; gene_type \"protein_coding\"; gene_status \"KNOWN\"; gene_name \"TP53\"; transcript_type \"protein_coding\"; transcript_status \"KNOWN\"; transcript_name \"TP53-014\"; exon_number 5;  exon_id \"ENSE00002073243.1\";  level 2; tag \"alternative_5_UTR\"; tag \"mRNA_end_NF\"; tag \"cds_end_NF\"; havana_gene \"OTTHUMG00000162125.4\"; havana_transcript \"OTTHUMT00000367410.1\";\n",
      "chr17\tHAVANA\ttranscript\t7578434\t7580752\t.\t-\t.\tgene_id \"ENSG00000141510.11\"; transcript_id \"ENST00000508793.1\"; gene_type \"protein_coding\"; gene_status \"KNOWN\"; gene_name \"TP53\"; transcript_type \"protein_coding\"; transcript_status \"KNOWN\"; transcript_name \"TP53-014\"; level 2; tag \"alternative_5_UTR\"; tag \"mRNA_end_NF\"; tag \"cds_end_NF\"; havana_gene \"OTTHUMG00000162125.4\"; havana_transcript \"OTTHUMT00000367410.1\";\n",
      "chr17\tHAVANA\tCDS\t7578480\t7578533\t.\t-\t0\tgene_id \"ENSG00000141510.11\"; transcript_id \"ENST00000604348.1\"; gene_type \"protein_coding\"; gene_status \"KNOWN\"; gene_name \"TP53\"; transcript_type \"protein_coding\"; transcript_status \"NOVEL\"; transcript_name \"TP53-020\"; exon_number 5;  exon_id \"ENSE00003670707.1\";  level 2; tag \"mRNA_end_NF\"; tag \"cds_end_NF\"; havana_gene \"OTTHUMG00000162125.4\"; havana_transcript \"OTTHUMT00000468199.1\";\n",
      "chr17\tHAVANA\texon\t7578480\t7578533\t.\t-\t.\tgene_id \"ENSG00000141510.11\"; transcript_id \"ENST00000604348.1\"; gene_type \"protein_coding\"; gene_status \"KNOWN\"; gene_name \"TP53\"; transcript_type \"protein_coding\"; transcript_status \"NOVEL\"; transcript_name \"TP53-020\"; exon_number 5;  exon_id \"ENSE00003670707.1\";  level 2; tag \"mRNA_end_NF\"; tag \"cds_end_NF\"; havana_gene \"OTTHUMG00000162125.4\"; havana_transcript \"OTTHUMT00000468199.1\";\n",
      "chr17\tHAVANA\ttranscript\t7578480\t7590805\t.\t-\t.\tgene_id \"ENSG00000141510.11\"; transcript_id \"ENST00000604348.1\"; gene_type \"protein_coding\"; gene_status \"KNOWN\"; gene_name \"TP53\"; transcript_type \"protein_coding\"; transcript_status \"NOVEL\"; transcript_name \"TP53-020\"; level 2; tag \"mRNA_end_NF\"; tag \"cds_end_NF\"; havana_gene \"OTTHUMG00000162125.4\"; havana_transcript \"OTTHUMT00000468199.1\";\n",
      "chr17\tHAVANA\tstart_codon\t7578531\t7578533\t.\t-\t0\tgene_id \"ENSG00000141510.11\"; transcript_id \"ENST00000509690.1\"; gene_type \"protein_coding\"; gene_status \"KNOWN\"; gene_name \"TP53\"; transcript_type \"protein_coding\"; transcript_status \"KNOWN\"; transcript_name \"TP53-015\"; exon_number 2;  exon_id \"ENSE00003656695.1\";  level 2; tag \"mRNA_end_NF\"; tag \"cds_end_NF\"; havana_gene \"OTTHUMG00000162125.4\"; havana_transcript \"OTTHUMT00000367411.2\";\n",
      "chr17\tHAVANA\tUTR\t7578534\t7578554\t.\t-\t.\tgene_id \"ENSG00000141510.11\"; transcript_id \"ENST00000509690.1\"; gene_type \"protein_coding\"; gene_status \"KNOWN\"; gene_name \"TP53\"; transcript_type \"protein_coding\"; transcript_status \"KNOWN\"; transcript_name \"TP53-015\"; level 2; tag \"mRNA_end_NF\"; tag \"cds_end_NF\"; havana_gene \"OTTHUMG00000162125.4\"; havana_transcript \"OTTHUMT00000367411.2\";\n",
      "chr17\tHAVANA\tCDS\t7578547\t7578554\t.\t-\t0\tgene_id \"ENSG00000141510.11\"; transcript_id \"ENST00000503591.1\"; gene_type \"protein_coding\"; gene_status \"KNOWN\"; gene_name \"TP53\"; transcript_type \"protein_coding\"; transcript_status \"KNOWN\"; transcript_name \"TP53-003\"; exon_number 6;  exon_id \"ENSE00002362269.1\";  level 2; tag \"alternative_5_UTR\"; tag \"mRNA_end_NF\"; tag \"cds_end_NF\"; havana_gene \"OTTHUMG00000162125.4\"; havana_transcript \"OTTHUMT00000367399.1\";\n",
      "chr17\tHAVANA\texon\t7578547\t7578554\t.\t-\t.\tgene_id \"ENSG00000141510.11\"; transcript_id \"ENST00000503591.1\"; gene_type \"protein_coding\"; gene_status \"KNOWN\"; gene_name \"TP53\"; transcript_type \"protein_coding\"; transcript_status \"KNOWN\"; transcript_name \"TP53-003\"; exon_number 6;  exon_id \"ENSE00002362269.1\";  level 2; tag \"alternative_5_UTR\"; tag \"mRNA_end_NF\"; tag \"cds_end_NF\"; havana_gene \"OTTHUMG00000162125.4\"; havana_transcript \"OTTHUMT00000367399.1\";\n",
      "chr17\tHAVANA\ttranscript\t7578547\t7590745\t.\t-\t.\tgene_id \"ENSG00000141510.11\"; transcript_id \"ENST00000503591.1\"; gene_type \"protein_coding\"; gene_status \"KNOWN\"; gene_name \"TP53\"; transcript_type \"protein_coding\"; transcript_status \"KNOWN\"; transcript_name \"TP53-003\"; level 2; tag \"alternative_5_UTR\"; tag \"mRNA_end_NF\"; tag \"cds_end_NF\"; havana_gene \"OTTHUMG00000162125.4\"; havana_transcript \"OTTHUMT00000367399.1\";\n",
      "chr17\tHAVANA\tCDS\t7579312\t7579590\t.\t-\t0\tgene_id \"ENSG00000141510.11\"; transcript_id \"ENST00000269305.4\"; gene_type \"protein_coding\"; gene_status \"KNOWN\"; gene_name \"TP53\"; transcript_type \"protein_coding\"; transcript_status \"KNOWN\"; transcript_name \"TP53-001\"; exon_number 4;  exon_id \"ENSE00003625790.1\";  level 2; tag \"basic\"; tag \"appris_principal\"; tag \"CCDS\"; ccdsid \"CCDS11118.1\"; havana_gene \"OTTHUMG00000162125.4\"; havana_transcript \"OTTHUMT00000367397.1\";\n",
      "chr17\tHAVANA\tCDS\t7579312\t7579590\t.\t-\t0\tgene_id \"ENSG00000141510.11\"; transcript_id \"ENST00000359597.4\"; gene_type \"protein_coding\"; gene_status \"KNOWN\"; gene_name \"TP53\"; transcript_type \"protein_coding\"; transcript_status \"PUTATIVE\"; transcript_name \"TP53-019\"; exon_number 3;  exon_id \"ENSE00003625790.1\";  level 2; tag \"basic\"; havana_gene \"OTTHUMG00000162125.4\"; havana_transcript \"OTTHUMT00000440237.1\";\n",
      "chr17\tHAVANA\tCDS\t7579312\t7579590\t.\t-\t0\tgene_id \"ENSG00000141510.11\"; transcript_id \"ENST00000413465.2\"; gene_type \"protein_coding\"; gene_status \"KNOWN\"; gene_name \"TP53\"; transcript_type \"protein_coding\"; transcript_status \"PUTATIVE\"; transcript_name \"TP53-018\"; exon_number 3;  exon_id \"ENSE00003625790.1\";  level 2; tag \"basic\"; havana_gene \"OTTHUMG00000162125.4\"; havana_transcript \"OTTHUMT00000440236.1\";\n",
      "chr17\tHAVANA\tCDS\t7579312\t7579590\t.\t-\t0\tgene_id \"ENSG00000141510.11\"; transcript_id \"ENST00000420246.2\"; gene_type \"protein_coding\"; gene_status \"KNOWN\"; gene_name \"TP53\"; transcript_type \"protein_coding\"; transcript_status \"KNOWN\"; transcript_name \"TP53-005\"; exon_number 4;  exon_id \"ENSE00003625790.1\";  level 2; tag \"NMD_exception\"; tag \"basic\"; tag \"CCDS\"; ccdsid \"CCDS45606.1\"; havana_gene \"OTTHUMG00000162125.4\"; havana_transcript \"OTTHUMT00000367401.1\";\n",
      "chr17\tHAVANA\tCDS\t7579312\t7579590\t.\t-\t0\tgene_id \"ENSG00000141510.11\"; transcript_id \"ENST00000445888.2\"; gene_type \"protein_coding\"; gene_status \"KNOWN\"; gene_name \"TP53\"; transcript_type \"protein_coding\"; transcript_status \"KNOWN\"; transcript_name \"TP53-002\"; exon_number 4;  exon_id \"ENSE00003625790.1\";  level 2; tag \"alternative_5_UTR\"; tag \"basic\"; tag \"appris_principal\"; tag \"CCDS\"; ccdsid \"CCDS11118.1\"; havana_gene \"OTTHUMG00000162125.4\"; havana_transcript \"OTTHUMT00000367398.1\";\n",
      "chr17\tHAVANA\tCDS\t7579312\t7579590\t.\t-\t0\tgene_id \"ENSG00000141510.11\"; transcript_id \"ENST00000455263.2\"; gene_type \"protein_coding\"; gene_status \"KNOWN\"; gene_name \"TP53\"; transcript_type \"protein_coding\"; transcript_status \"KNOWN\"; transcript_name \"TP53-004\"; exon_number 4;  exon_id \"ENSE00003625790.1\";  level 2; tag \"NMD_exception\"; tag \"basic\"; tag \"CCDS\"; ccdsid \"CCDS45605.1\"; havana_gene \"OTTHUMG00000162125.4\"; havana_transcript \"OTTHUMT00000367400.1\";\n",
      "chr17\tHAVANA\tCDS\t7579312\t7579590\t.\t-\t0\tgene_id \"ENSG00000141510.11\"; transcript_id \"ENST00000503591.1\"; gene_type \"protein_coding\"; gene_status \"KNOWN\"; gene_name \"TP53\"; transcript_type \"protein_coding\"; transcript_status \"KNOWN\"; transcript_name \"TP53-003\"; exon_number 5;  exon_id \"ENSE00003625790.1\";  level 2; tag \"alternative_5_UTR\"; tag \"mRNA_end_NF\"; tag \"cds_end_NF\"; havana_gene \"OTTHUMG00000162125.4\"; havana_transcript \"OTTHUMT00000367399.1\";\n",
      "chr17\tHAVANA\tCDS\t7579312\t7579590\t.\t-\t0\tgene_id \"ENSG00000141510.11\"; transcript_id \"ENST00000508793.1\"; gene_type \"protein_coding\"; gene_status \"KNOWN\"; gene_name \"TP53\"; transcript_type \"protein_coding\"; transcript_status \"KNOWN\"; transcript_name \"TP53-014\"; exon_number 4;  exon_id \"ENSE00003625790.1\";  level 2; tag \"alternative_5_UTR\"; tag \"mRNA_end_NF\"; tag \"cds_end_NF\"; havana_gene \"OTTHUMG00000162125.4\"; havana_transcript \"OTTHUMT00000367410.1\";\n",
      "chr17\tHAVANA\tCDS\t7579312\t7579590\t.\t-\t0\tgene_id \"ENSG00000141510.11\"; transcript_id \"ENST00000604348.1\"; gene_type \"protein_coding\"; gene_status \"KNOWN\"; gene_name \"TP53\"; transcript_type \"protein_coding\"; transcript_status \"NOVEL\"; transcript_name \"TP53-020\"; exon_number 4;  exon_id \"ENSE00003625790.1\";  level 2; tag \"mRNA_end_NF\"; tag \"cds_end_NF\"; havana_gene \"OTTHUMG00000162125.4\"; havana_transcript \"OTTHUMT00000468199.1\";\n",
      "chr17\tHAVANA\texon\t7579312\t7579590\t.\t-\t.\tgene_id \"ENSG00000141510.11\"; transcript_id \"ENST00000269305.4\"; gene_type \"protein_coding\"; gene_status \"KNOWN\"; gene_name \"TP53\"; transcript_type \"protein_coding\"; transcript_status \"KNOWN\"; transcript_name \"TP53-001\"; exon_number 4;  exon_id \"ENSE00003625790.1\";  level 2; tag \"basic\"; tag \"appris_principal\"; tag \"CCDS\"; ccdsid \"CCDS11118.1\"; havana_gene \"OTTHUMG00000162125.4\"; havana_transcript \"OTTHUMT00000367397.1\";\n",
      "chr17\tHAVANA\texon\t7579312\t7579590\t.\t-\t.\tgene_id \"ENSG00000141510.11\"; transcript_id \"ENST00000359597.4\"; gene_type \"protein_coding\"; gene_status \"KNOWN\"; gene_name \"TP53\"; transcript_type \"protein_coding\"; transcript_status \"PUTATIVE\"; transcript_name \"TP53-019\"; exon_number 3;  exon_id \"ENSE00003625790.1\";  level 2; tag \"basic\"; havana_gene \"OTTHUMG00000162125.4\"; havana_transcript \"OTTHUMT00000440237.1\";\n",
      "chr17\tHAVANA\texon\t7579312\t7579590\t.\t-\t.\tgene_id \"ENSG00000141510.11\"; transcript_id \"ENST00000413465.2\"; gene_type \"protein_coding\"; gene_status \"KNOWN\"; gene_name \"TP53\"; transcript_type \"protein_coding\"; transcript_status \"PUTATIVE\"; transcript_name \"TP53-018\"; exon_number 3;  exon_id \"ENSE00003625790.1\";  level 2; tag \"basic\"; havana_gene \"OTTHUMG00000162125.4\"; havana_transcript \"OTTHUMT00000440236.1\";\n",
      "chr17\tHAVANA\texon\t7579312\t7579590\t.\t-\t.\tgene_id \"ENSG00000141510.11\"; transcript_id \"ENST00000420246.2\"; gene_type \"protein_coding\"; gene_status \"KNOWN\"; gene_name \"TP53\"; transcript_type \"protein_coding\"; transcript_status \"KNOWN\"; transcript_name \"TP53-005\"; exon_number 4;  exon_id \"ENSE00003625790.1\";  level 2; tag \"NMD_exception\"; tag \"basic\"; tag \"CCDS\"; ccdsid \"CCDS45606.1\"; havana_gene \"OTTHUMG00000162125.4\"; havana_transcript \"OTTHUMT00000367401.1\";\n",
      "chr17\tHAVANA\texon\t7579312\t7579590\t.\t-\t.\tgene_id \"ENSG00000141510.11\"; transcript_id \"ENST00000445888.2\"; gene_type \"protein_coding\"; gene_status \"KNOWN\"; gene_name \"TP53\"; transcript_type \"protein_coding\"; transcript_status \"KNOWN\"; transcript_name \"TP53-002\"; exon_number 4;  exon_id \"ENSE00003625790.1\";  level 2; tag \"alternative_5_UTR\"; tag \"basic\"; tag \"appris_principal\"; tag \"CCDS\"; ccdsid \"CCDS11118.1\"; havana_gene \"OTTHUMG00000162125.4\"; havana_transcript \"OTTHUMT00000367398.1\";\n",
      "chr17\tHAVANA\texon\t7579312\t7579590\t.\t-\t.\tgene_id \"ENSG00000141510.11\"; transcript_id \"ENST00000455263.2\"; gene_type \"protein_coding\"; gene_status \"KNOWN\"; gene_name \"TP53\"; transcript_type \"protein_coding\"; transcript_status \"KNOWN\"; transcript_name \"TP53-004\"; exon_number 4;  exon_id \"ENSE00003625790.1\";  level 2; tag \"NMD_exception\"; tag \"basic\"; tag \"CCDS\"; ccdsid \"CCDS45605.1\"; havana_gene \"OTTHUMG00000162125.4\"; havana_transcript \"OTTHUMT00000367400.1\";\n",
      "chr17\tHAVANA\texon\t7579312\t7579590\t.\t-\t.\tgene_id \"ENSG00000141510.11\"; transcript_id \"ENST00000503591.1\"; gene_type \"protein_coding\"; gene_status \"KNOWN\"; gene_name \"TP53\"; transcript_type \"protein_coding\"; transcript_status \"KNOWN\"; transcript_name \"TP53-003\"; exon_number 5;  exon_id \"ENSE00003625790.1\";  level 2; tag \"alternative_5_UTR\"; tag \"mRNA_end_NF\"; tag \"cds_end_NF\"; havana_gene \"OTTHUMG00000162125.4\"; havana_transcript \"OTTHUMT00000367399.1\";\n",
      "chr17\tHAVANA\texon\t7579312\t7579590\t.\t-\t.\tgene_id \"ENSG00000141510.11\"; transcript_id \"ENST00000505014.1\"; gene_type \"protein_coding\"; gene_status \"KNOWN\"; gene_name \"TP53\"; transcript_type \"retained_intron\"; transcript_status \"KNOWN\"; transcript_name \"TP53-009\"; exon_number 3;  exon_id \"ENSE00003532881.1\";  level 2; havana_gene \"OTTHUMG00000162125.4\"; havana_transcript \"OTTHUMT00000367405.1\";\n",
      "chr17\tHAVANA\texon\t7579312\t7579590\t.\t-\t.\tgene_id \"ENSG00000141510.11\"; transcript_id \"ENST00000508793.1\"; gene_type \"protein_coding\"; gene_status \"KNOWN\"; gene_name \"TP53\"; transcript_type \"protein_coding\"; transcript_status \"KNOWN\"; transcript_name \"TP53-014\"; exon_number 4;  exon_id \"ENSE00003625790.1\";  level 2; tag \"alternative_5_UTR\"; tag \"mRNA_end_NF\"; tag \"cds_end_NF\"; havana_gene \"OTTHUMG00000162125.4\"; havana_transcript \"OTTHUMT00000367410.1\";\n",
      "chr17\tHAVANA\texon\t7579312\t7579590\t.\t-\t.\tgene_id \"ENSG00000141510.11\"; transcript_id \"ENST00000604348.1\"; gene_type \"protein_coding\"; gene_status \"KNOWN\"; gene_name \"TP53\"; transcript_type \"protein_coding\"; transcript_status \"NOVEL\"; transcript_name \"TP53-020\"; exon_number 4;  exon_id \"ENSE00003625790.1\";  level 2; tag \"mRNA_end_NF\"; tag \"cds_end_NF\"; havana_gene \"OTTHUMG00000162125.4\"; havana_transcript \"OTTHUMT00000468199.1\";\n",
      "chr17\tHAVANA\tCDS\t7579700\t7579721\t.\t-\t1\tgene_id \"ENSG00000141510.11\"; transcript_id \"ENST00000269305.4\"; gene_type \"protein_coding\"; gene_status \"KNOWN\"; gene_name \"TP53\"; transcript_type \"protein_coding\"; transcript_status \"KNOWN\"; transcript_name \"TP53-001\"; exon_number 3;  exon_id \"ENSE00002419584.1\";  level 2; tag \"basic\"; tag \"appris_principal\"; tag \"CCDS\"; ccdsid \"CCDS11118.1\"; havana_gene \"OTTHUMG00000162125.4\"; havana_transcript \"OTTHUMT00000367397.1\";\n",
      "chr17\tHAVANA\tCDS\t7579700\t7579721\t.\t-\t1\tgene_id \"ENSG00000141510.11\"; transcript_id \"ENST00000359597.4\"; gene_type \"protein_coding\"; gene_status \"KNOWN\"; gene_name \"TP53\"; transcript_type \"protein_coding\"; transcript_status \"PUTATIVE\"; transcript_name \"TP53-019\"; exon_number 2;  exon_id \"ENSE00002419584.1\";  level 2; tag \"basic\"; havana_gene \"OTTHUMG00000162125.4\"; havana_transcript \"OTTHUMT00000440237.1\";\n",
      "chr17\tHAVANA\tCDS\t7579700\t7579721\t.\t-\t1\tgene_id \"ENSG00000141510.11\"; transcript_id \"ENST00000413465.2\"; gene_type \"protein_coding\"; gene_status \"KNOWN\"; gene_name \"TP53\"; transcript_type \"protein_coding\"; transcript_status \"PUTATIVE\"; transcript_name \"TP53-018\"; exon_number 2;  exon_id \"ENSE00002419584.1\";  level 2; tag \"basic\"; havana_gene \"OTTHUMG00000162125.4\"; havana_transcript \"OTTHUMT00000440236.1\";\n",
      "chr17\tHAVANA\tCDS\t7579700\t7579721\t.\t-\t1\tgene_id \"ENSG00000141510.11\"; transcript_id \"ENST00000420246.2\"; gene_type \"protein_coding\"; gene_status \"KNOWN\"; gene_name \"TP53\"; transcript_type \"protein_coding\"; transcript_status \"KNOWN\"; transcript_name \"TP53-005\"; exon_number 3;  exon_id \"ENSE00002419584.1\";  level 2; tag \"NMD_exception\"; tag \"basic\"; tag \"CCDS\"; ccdsid \"CCDS45606.1\"; havana_gene \"OTTHUMG00000162125.4\"; havana_transcript \"OTTHUMT00000367401.1\";\n",
      "chr17\tHAVANA\tCDS\t7579700\t7579721\t.\t-\t1\tgene_id \"ENSG00000141510.11\"; transcript_id \"ENST00000445888.2\"; gene_type \"protein_coding\"; gene_status \"KNOWN\"; gene_name \"TP53\"; transcript_type \"protein_coding\"; transcript_status \"KNOWN\"; transcript_name \"TP53-002\"; exon_number 3;  exon_id \"ENSE00002419584.1\";  level 2; tag \"alternative_5_UTR\"; tag \"basic\"; tag \"appris_principal\"; tag \"CCDS\"; ccdsid \"CCDS11118.1\"; havana_gene \"OTTHUMG00000162125.4\"; havana_transcript \"OTTHUMT00000367398.1\";\n",
      "chr17\tHAVANA\tCDS\t7579700\t7579721\t.\t-\t1\tgene_id \"ENSG00000141510.11\"; transcript_id \"ENST00000455263.2\"; gene_type \"protein_coding\"; gene_status \"KNOWN\"; gene_name \"TP53\"; transcript_type \"protein_coding\"; transcript_status \"KNOWN\"; transcript_name \"TP53-004\"; exon_number 3;  exon_id \"ENSE00002419584.1\";  level 2; tag \"NMD_exception\"; tag \"basic\"; tag \"CCDS\"; ccdsid \"CCDS45605.1\"; havana_gene \"OTTHUMG00000162125.4\"; havana_transcript \"OTTHUMT00000367400.1\";\n",
      "chr17\tHAVANA\tCDS\t7579700\t7579721\t.\t-\t1\tgene_id \"ENSG00000141510.11\"; transcript_id \"ENST00000503591.1\"; gene_type \"protein_coding\"; gene_status \"KNOWN\"; gene_name \"TP53\"; transcript_type \"protein_coding\"; transcript_status \"KNOWN\"; transcript_name \"TP53-003\"; exon_number 4;  exon_id \"ENSE00002419584.1\";  level 2; tag \"alternative_5_UTR\"; tag \"mRNA_end_NF\"; tag \"cds_end_NF\"; havana_gene \"OTTHUMG00000162125.4\"; havana_transcript \"OTTHUMT00000367399.1\";\n",
      "chr17\tHAVANA\tCDS\t7579700\t7579721\t.\t-\t1\tgene_id \"ENSG00000141510.11\"; transcript_id \"ENST00000508793.1\"; gene_type \"protein_coding\"; gene_status \"KNOWN\"; gene_name \"TP53\"; transcript_type \"protein_coding\"; transcript_status \"KNOWN\"; transcript_name \"TP53-014\"; exon_number 3;  exon_id \"ENSE00002419584.1\";  level 2; tag \"alternative_5_UTR\"; tag \"mRNA_end_NF\"; tag \"cds_end_NF\"; havana_gene \"OTTHUMG00000162125.4\"; havana_transcript \"OTTHUMT00000367410.1\";\n",
      "chr17\tHAVANA\tCDS\t7579700\t7579721\t.\t-\t1\tgene_id \"ENSG00000141510.11\"; transcript_id \"ENST00000514944.1\"; gene_type \"protein_coding\"; gene_status \"KNOWN\"; gene_name \"TP53\"; transcript_type \"protein_coding\"; transcript_status \"NOVEL\"; transcript_name \"TP53-013\"; exon_number 3;  exon_id \"ENSE00002419584.1\";  level 2; tag \"mRNA_end_NF\"; tag \"cds_end_NF\"; havana_gene \"OTTHUMG00000162125.4\"; havana_transcript \"OTTHUMT00000367409.1\";\n",
      "chr17\tHAVANA\tCDS\t7579700\t7579721\t.\t-\t1\tgene_id \"ENSG00000141510.11\"; transcript_id \"ENST00000604348.1\"; gene_type \"protein_coding\"; gene_status \"KNOWN\"; gene_name \"TP53\"; transcript_type \"protein_coding\"; transcript_status \"NOVEL\"; transcript_name \"TP53-020\"; exon_number 3;  exon_id \"ENSE00002419584.1\";  level 2; tag \"mRNA_end_NF\"; tag \"cds_end_NF\"; havana_gene \"OTTHUMG00000162125.4\"; havana_transcript \"OTTHUMT00000468199.1\";\n",
      "chr17\tHAVANA\texon\t7579700\t7579721\t.\t-\t.\tgene_id \"ENSG00000141510.11\"; transcript_id \"ENST00000269305.4\"; gene_type \"protein_coding\"; gene_status \"KNOWN\"; gene_name \"TP53\"; transcript_type \"protein_coding\"; transcript_status \"KNOWN\"; transcript_name \"TP53-001\"; exon_number 3;  exon_id \"ENSE00002419584.1\";  level 2; tag \"basic\"; tag \"appris_principal\"; tag \"CCDS\"; ccdsid \"CCDS11118.1\"; havana_gene \"OTTHUMG00000162125.4\"; havana_transcript \"OTTHUMT00000367397.1\";\n",
      "chr17\tHAVANA\texon\t7579700\t7579721\t.\t-\t.\tgene_id \"ENSG00000141510.11\"; transcript_id \"ENST00000359597.4\"; gene_type \"protein_coding\"; gene_status \"KNOWN\"; gene_name \"TP53\"; transcript_type \"protein_coding\"; transcript_status \"PUTATIVE\"; transcript_name \"TP53-019\"; exon_number 2;  exon_id \"ENSE00002419584.1\";  level 2; tag \"basic\"; havana_gene \"OTTHUMG00000162125.4\"; havana_transcript \"OTTHUMT00000440237.1\";\n",
      "chr17\tHAVANA\texon\t7579700\t7579721\t.\t-\t.\tgene_id \"ENSG00000141510.11\"; transcript_id \"ENST00000413465.2\"; gene_type \"protein_coding\"; gene_status \"KNOWN\"; gene_name \"TP53\"; transcript_type \"protein_coding\"; transcript_status \"PUTATIVE\"; transcript_name \"TP53-018\"; exon_number 2;  exon_id \"ENSE00002419584.1\";  level 2; tag \"basic\"; havana_gene \"OTTHUMG00000162125.4\"; havana_transcript \"OTTHUMT00000440236.1\";\n",
      "chr17\tHAVANA\texon\t7579700\t7579721\t.\t-\t.\tgene_id \"ENSG00000141510.11\"; transcript_id \"ENST00000420246.2\"; gene_type \"protein_coding\"; gene_status \"KNOWN\"; gene_name \"TP53\"; transcript_type \"protein_coding\"; transcript_status \"KNOWN\"; transcript_name \"TP53-005\"; exon_number 3;  exon_id \"ENSE00002419584.1\";  level 2; tag \"NMD_exception\"; tag \"basic\"; tag \"CCDS\"; ccdsid \"CCDS45606.1\"; havana_gene \"OTTHUMG00000162125.4\"; havana_transcript \"OTTHUMT00000367401.1\";\n",
      "chr17\tHAVANA\texon\t7579700\t7579721\t.\t-\t.\tgene_id \"ENSG00000141510.11\"; transcript_id \"ENST00000445888.2\"; gene_type \"protein_coding\"; gene_status \"KNOWN\"; gene_name \"TP53\"; transcript_type \"protein_coding\"; transcript_status \"KNOWN\"; transcript_name \"TP53-002\"; exon_number 3;  exon_id \"ENSE00002419584.1\";  level 2; tag \"alternative_5_UTR\"; tag \"basic\"; tag \"appris_principal\"; tag \"CCDS\"; ccdsid \"CCDS11118.1\"; havana_gene \"OTTHUMG00000162125.4\"; havana_transcript \"OTTHUMT00000367398.1\";\n",
      "chr17\tHAVANA\texon\t7579700\t7579721\t.\t-\t.\tgene_id \"ENSG00000141510.11\"; transcript_id \"ENST00000455263.2\"; gene_type \"protein_coding\"; gene_status \"KNOWN\"; gene_name \"TP53\"; transcript_type \"protein_coding\"; transcript_status \"KNOWN\"; transcript_name \"TP53-004\"; exon_number 3;  exon_id \"ENSE00002419584.1\";  level 2; tag \"NMD_exception\"; tag \"basic\"; tag \"CCDS\"; ccdsid \"CCDS45605.1\"; havana_gene \"OTTHUMG00000162125.4\"; havana_transcript \"OTTHUMT00000367400.1\";\n",
      "chr17\tHAVANA\texon\t7579700\t7579721\t.\t-\t.\tgene_id \"ENSG00000141510.11\"; transcript_id \"ENST00000503591.1\"; gene_type \"protein_coding\"; gene_status \"KNOWN\"; gene_name \"TP53\"; transcript_type \"protein_coding\"; transcript_status \"KNOWN\"; transcript_name \"TP53-003\"; exon_number 4;  exon_id \"ENSE00002419584.1\";  level 2; tag \"alternative_5_UTR\"; tag \"mRNA_end_NF\"; tag \"cds_end_NF\"; havana_gene \"OTTHUMG00000162125.4\"; havana_transcript \"OTTHUMT00000367399.1\";\n",
      "chr17\tHAVANA\texon\t7579700\t7579721\t.\t-\t.\tgene_id \"ENSG00000141510.11\"; transcript_id \"ENST00000508793.1\"; gene_type \"protein_coding\"; gene_status \"KNOWN\"; gene_name \"TP53\"; transcript_type \"protein_coding\"; transcript_status \"KNOWN\"; transcript_name \"TP53-014\"; exon_number 3;  exon_id \"ENSE00002419584.1\";  level 2; tag \"alternative_5_UTR\"; tag \"mRNA_end_NF\"; tag \"cds_end_NF\"; havana_gene \"OTTHUMG00000162125.4\"; havana_transcript \"OTTHUMT00000367410.1\";\n",
      "chr17\tHAVANA\texon\t7579700\t7579721\t.\t-\t.\tgene_id \"ENSG00000141510.11\"; transcript_id \"ENST00000514944.1\"; gene_type \"protein_coding\"; gene_status \"KNOWN\"; gene_name \"TP53\"; transcript_type \"protein_coding\"; transcript_status \"NOVEL\"; transcript_name \"TP53-013\"; exon_number 3;  exon_id \"ENSE00002419584.1\";  level 2; tag \"mRNA_end_NF\"; tag \"cds_end_NF\"; havana_gene \"OTTHUMG00000162125.4\"; havana_transcript \"OTTHUMT00000367409.1\";\n",
      "chr17\tHAVANA\texon\t7579700\t7579721\t.\t-\t.\tgene_id \"ENSG00000141510.11\"; transcript_id \"ENST00000604348.1\"; gene_type \"protein_coding\"; gene_status \"KNOWN\"; gene_name \"TP53\"; transcript_type \"protein_coding\"; transcript_status \"NOVEL\"; transcript_name \"TP53-020\"; exon_number 3;  exon_id \"ENSE00002419584.1\";  level 2; tag \"mRNA_end_NF\"; tag \"cds_end_NF\"; havana_gene \"OTTHUMG00000162125.4\"; havana_transcript \"OTTHUMT00000468199.1\";\n",
      "chr17\tHAVANA\texon\t7579700\t7579940\t.\t-\t.\tgene_id \"ENSG00000141510.11\"; transcript_id \"ENST00000505014.1\"; gene_type \"protein_coding\"; gene_status \"KNOWN\"; gene_name \"TP53\"; transcript_type \"retained_intron\"; transcript_status \"KNOWN\"; transcript_name \"TP53-009\"; exon_number 2;  exon_id \"ENSE00002084733.1\";  level 2; havana_gene \"OTTHUMG00000162125.4\"; havana_transcript \"OTTHUMT00000367405.1\";\n",
      "chr17\tHAVANA\tCDS\t7579839\t7579912\t.\t-\t0\tgene_id \"ENSG00000141510.11\"; transcript_id \"ENST00000269305.4\"; gene_type \"protein_coding\"; gene_status \"KNOWN\"; gene_name \"TP53\"; transcript_type \"protein_coding\"; transcript_status \"KNOWN\"; transcript_name \"TP53-001\"; exon_number 2;  exon_id \"ENSE00002667911.1\";  level 2; tag \"basic\"; tag \"appris_principal\"; tag \"CCDS\"; ccdsid \"CCDS11118.1\"; havana_gene \"OTTHUMG00000162125.4\"; havana_transcript \"OTTHUMT00000367397.1\";\n",
      "chr17\tHAVANA\tCDS\t7579839\t7579912\t.\t-\t0\tgene_id \"ENSG00000141510.11\"; transcript_id \"ENST00000359597.4\"; gene_type \"protein_coding\"; gene_status \"KNOWN\"; gene_name \"TP53\"; transcript_type \"protein_coding\"; transcript_status \"PUTATIVE\"; transcript_name \"TP53-019\"; exon_number 1;  exon_id \"ENSE00002337729.1\";  level 2; tag \"basic\"; havana_gene \"OTTHUMG00000162125.4\"; havana_transcript \"OTTHUMT00000440237.1\";\n",
      "chr17\tHAVANA\tCDS\t7579839\t7579912\t.\t-\t0\tgene_id \"ENSG00000141510.11\"; transcript_id \"ENST00000413465.2\"; gene_type \"protein_coding\"; gene_status \"KNOWN\"; gene_name \"TP53\"; transcript_type \"protein_coding\"; transcript_status \"PUTATIVE\"; transcript_name \"TP53-018\"; exon_number 1;  exon_id \"ENSE00002337729.1\";  level 2; tag \"basic\"; havana_gene \"OTTHUMG00000162125.4\"; havana_transcript \"OTTHUMT00000440236.1\";\n",
      "chr17\tHAVANA\tCDS\t7579839\t7579912\t.\t-\t0\tgene_id \"ENSG00000141510.11\"; transcript_id \"ENST00000420246.2\"; gene_type \"protein_coding\"; gene_status \"KNOWN\"; gene_name \"TP53\"; transcript_type \"protein_coding\"; transcript_status \"KNOWN\"; transcript_name \"TP53-005\"; exon_number 2;  exon_id \"ENSE00002667911.1\";  level 2; tag \"NMD_exception\"; tag \"basic\"; tag \"CCDS\"; ccdsid \"CCDS45606.1\"; havana_gene \"OTTHUMG00000162125.4\"; havana_transcript \"OTTHUMT00000367401.1\";\n",
      "chr17\tHAVANA\tCDS\t7579839\t7579912\t.\t-\t0\tgene_id \"ENSG00000141510.11\"; transcript_id \"ENST00000445888.2\"; gene_type \"protein_coding\"; gene_status \"KNOWN\"; gene_name \"TP53\"; transcript_type \"protein_coding\"; transcript_status \"KNOWN\"; transcript_name \"TP53-002\"; exon_number 2;  exon_id \"ENSE00001596491.1\";  level 2; tag \"alternative_5_UTR\"; tag \"basic\"; tag \"appris_principal\"; tag \"CCDS\"; ccdsid \"CCDS11118.1\"; havana_gene \"OTTHUMG00000162125.4\"; havana_transcript \"OTTHUMT00000367398.1\";\n",
      "chr17\tHAVANA\tCDS\t7579839\t7579912\t.\t-\t0\tgene_id \"ENSG00000141510.11\"; transcript_id \"ENST00000455263.2\"; gene_type \"protein_coding\"; gene_status \"KNOWN\"; gene_name \"TP53\"; transcript_type \"protein_coding\"; transcript_status \"KNOWN\"; transcript_name \"TP53-004\"; exon_number 2;  exon_id \"ENSE00002667911.1\";  level 2; tag \"NMD_exception\"; tag \"basic\"; tag \"CCDS\"; ccdsid \"CCDS45605.1\"; havana_gene \"OTTHUMG00000162125.4\"; havana_transcript \"OTTHUMT00000367400.1\";\n",
      "chr17\tHAVANA\tCDS\t7579839\t7579912\t.\t-\t0\tgene_id \"ENSG00000141510.11\"; transcript_id \"ENST00000503591.1\"; gene_type \"protein_coding\"; gene_status \"KNOWN\"; gene_name \"TP53\"; transcript_type \"protein_coding\"; transcript_status \"KNOWN\"; transcript_name \"TP53-003\"; exon_number 3;  exon_id \"ENSE00002667911.1\";  level 2; tag \"alternative_5_UTR\"; tag \"mRNA_end_NF\"; tag \"cds_end_NF\"; havana_gene \"OTTHUMG00000162125.4\"; havana_transcript \"OTTHUMT00000367399.1\";\n",
      "chr17\tHAVANA\tCDS\t7579839\t7579912\t.\t-\t0\tgene_id \"ENSG00000141510.11\"; transcript_id \"ENST00000508793.1\"; gene_type \"protein_coding\"; gene_status \"KNOWN\"; gene_name \"TP53\"; transcript_type \"protein_coding\"; transcript_status \"KNOWN\"; transcript_name \"TP53-014\"; exon_number 2;  exon_id \"ENSE00002667911.1\";  level 2; tag \"alternative_5_UTR\"; tag \"mRNA_end_NF\"; tag \"cds_end_NF\"; havana_gene \"OTTHUMG00000162125.4\"; havana_transcript \"OTTHUMT00000367410.1\";\n",
      "chr17\tHAVANA\tCDS\t7579839\t7579912\t.\t-\t0\tgene_id \"ENSG00000141510.11\"; transcript_id \"ENST00000514944.1\"; gene_type \"protein_coding\"; gene_status \"KNOWN\"; gene_name \"TP53\"; transcript_type \"protein_coding\"; transcript_status \"NOVEL\"; transcript_name \"TP53-013\"; exon_number 2;  exon_id \"ENSE00002667911.1\";  level 2; tag \"mRNA_end_NF\"; tag \"cds_end_NF\"; havana_gene \"OTTHUMG00000162125.4\"; havana_transcript \"OTTHUMT00000367409.1\";\n",
      "chr17\tHAVANA\tCDS\t7579839\t7579912\t.\t-\t0\tgene_id \"ENSG00000141510.11\"; transcript_id \"ENST00000604348.1\"; gene_type \"protein_coding\"; gene_status \"KNOWN\"; gene_name \"TP53\"; transcript_type \"protein_coding\"; transcript_status \"NOVEL\"; transcript_name \"TP53-020\"; exon_number 2;  exon_id \"ENSE00002667911.1\";  level 2; tag \"mRNA_end_NF\"; tag \"cds_end_NF\"; havana_gene \"OTTHUMG00000162125.4\"; havana_transcript \"OTTHUMT00000468199.1\";\n",
      "chr17\tHAVANA\texon\t7579839\t7579912\t.\t-\t.\tgene_id \"ENSG00000141510.11\"; transcript_id \"ENST00000359597.4\"; gene_type \"protein_coding\"; gene_status \"KNOWN\"; gene_name \"TP53\"; transcript_type \"protein_coding\"; transcript_status \"PUTATIVE\"; transcript_name \"TP53-019\"; exon_number 1;  exon_id \"ENSE00002337729.1\";  level 2; tag \"basic\"; havana_gene \"OTTHUMG00000162125.4\"; havana_transcript \"OTTHUMT00000440237.1\";\n",
      "chr17\tHAVANA\texon\t7579839\t7579912\t.\t-\t.\tgene_id \"ENSG00000141510.11\"; transcript_id \"ENST00000413465.2\"; gene_type \"protein_coding\"; gene_status \"KNOWN\"; gene_name \"TP53\"; transcript_type \"protein_coding\"; transcript_status \"PUTATIVE\"; transcript_name \"TP53-018\"; exon_number 1;  exon_id \"ENSE00002337729.1\";  level 2; tag \"basic\"; havana_gene \"OTTHUMG00000162125.4\"; havana_transcript \"OTTHUMT00000440236.1\";\n",
      "chr17\tHAVANA\texon\t7579839\t7579937\t.\t-\t.\tgene_id \"ENSG00000141510.11\"; transcript_id \"ENST00000445888.2\"; gene_type \"protein_coding\"; gene_status \"KNOWN\"; gene_name \"TP53\"; transcript_type \"protein_coding\"; transcript_status \"KNOWN\"; transcript_name \"TP53-002\"; exon_number 2;  exon_id \"ENSE00001596491.1\";  level 2; tag \"alternative_5_UTR\"; tag \"basic\"; tag \"appris_principal\"; tag \"CCDS\"; ccdsid \"CCDS11118.1\"; havana_gene \"OTTHUMG00000162125.4\"; havana_transcript \"OTTHUMT00000367398.1\";\n",
      "chr17\tHAVANA\texon\t7579839\t7579940\t.\t-\t.\tgene_id \"ENSG00000141510.11\"; transcript_id \"ENST00000269305.4\"; gene_type \"protein_coding\"; gene_status \"KNOWN\"; gene_name \"TP53\"; transcript_type \"protein_coding\"; transcript_status \"KNOWN\"; transcript_name \"TP53-001\"; exon_number 2;  exon_id \"ENSE00002667911.1\";  level 2; tag \"basic\"; tag \"appris_principal\"; tag \"CCDS\"; ccdsid \"CCDS11118.1\"; havana_gene \"OTTHUMG00000162125.4\"; havana_transcript \"OTTHUMT00000367397.1\";\n",
      "chr17\tHAVANA\texon\t7579839\t7579940\t.\t-\t.\tgene_id \"ENSG00000141510.11\"; transcript_id \"ENST00000420246.2\"; gene_type \"protein_coding\"; gene_status \"KNOWN\"; gene_name \"TP53\"; transcript_type \"protein_coding\"; transcript_status \"KNOWN\"; transcript_name \"TP53-005\"; exon_number 2;  exon_id \"ENSE00002667911.1\";  level 2; tag \"NMD_exception\"; tag \"basic\"; tag \"CCDS\"; ccdsid \"CCDS45606.1\"; havana_gene \"OTTHUMG00000162125.4\"; havana_transcript \"OTTHUMT00000367401.1\";\n",
      "chr17\tHAVANA\texon\t7579839\t7579940\t.\t-\t.\tgene_id \"ENSG00000141510.11\"; transcript_id \"ENST00000455263.2\"; gene_type \"protein_coding\"; gene_status \"KNOWN\"; gene_name \"TP53\"; transcript_type \"protein_coding\"; transcript_status \"KNOWN\"; transcript_name \"TP53-004\"; exon_number 2;  exon_id \"ENSE00002667911.1\";  level 2; tag \"NMD_exception\"; tag \"basic\"; tag \"CCDS\"; ccdsid \"CCDS45605.1\"; havana_gene \"OTTHUMG00000162125.4\"; havana_transcript \"OTTHUMT00000367400.1\";\n",
      "chr17\tHAVANA\texon\t7579839\t7579940\t.\t-\t.\tgene_id \"ENSG00000141510.11\"; transcript_id \"ENST00000503591.1\"; gene_type \"protein_coding\"; gene_status \"KNOWN\"; gene_name \"TP53\"; transcript_type \"protein_coding\"; transcript_status \"KNOWN\"; transcript_name \"TP53-003\"; exon_number 3;  exon_id \"ENSE00002667911.1\";  level 2; tag \"alternative_5_UTR\"; tag \"mRNA_end_NF\"; tag \"cds_end_NF\"; havana_gene \"OTTHUMG00000162125.4\"; havana_transcript \"OTTHUMT00000367399.1\";\n",
      "chr17\tHAVANA\texon\t7579839\t7579940\t.\t-\t.\tgene_id \"ENSG00000141510.11\"; transcript_id \"ENST00000508793.1\"; gene_type \"protein_coding\"; gene_status \"KNOWN\"; gene_name \"TP53\"; transcript_type \"protein_coding\"; transcript_status \"KNOWN\"; transcript_name \"TP53-014\"; exon_number 2;  exon_id \"ENSE00002667911.1\";  level 2; tag \"alternative_5_UTR\"; tag \"mRNA_end_NF\"; tag \"cds_end_NF\"; havana_gene \"OTTHUMG00000162125.4\"; havana_transcript \"OTTHUMT00000367410.1\";\n",
      "chr17\tHAVANA\texon\t7579839\t7579940\t.\t-\t.\tgene_id \"ENSG00000141510.11\"; transcript_id \"ENST00000514944.1\"; gene_type \"protein_coding\"; gene_status \"KNOWN\"; gene_name \"TP53\"; transcript_type \"protein_coding\"; transcript_status \"NOVEL\"; transcript_name \"TP53-013\"; exon_number 2;  exon_id \"ENSE00002667911.1\";  level 2; tag \"mRNA_end_NF\"; tag \"cds_end_NF\"; havana_gene \"OTTHUMG00000162125.4\"; havana_transcript \"OTTHUMT00000367409.1\";\n",
      "chr17\tHAVANA\texon\t7579839\t7579940\t.\t-\t.\tgene_id \"ENSG00000141510.11\"; transcript_id \"ENST00000604348.1\"; gene_type \"protein_coding\"; gene_status \"KNOWN\"; gene_name \"TP53\"; transcript_type \"protein_coding\"; transcript_status \"NOVEL\"; transcript_name \"TP53-020\"; exon_number 2;  exon_id \"ENSE00002667911.1\";  level 2; tag \"mRNA_end_NF\"; tag \"cds_end_NF\"; havana_gene \"OTTHUMG00000162125.4\"; havana_transcript \"OTTHUMT00000468199.1\";\n",
      "chr17\tHAVANA\tstart_codon\t7579910\t7579912\t.\t-\t0\tgene_id \"ENSG00000141510.11\"; transcript_id \"ENST00000269305.4\"; gene_type \"protein_coding\"; gene_status \"KNOWN\"; gene_name \"TP53\"; transcript_type \"protein_coding\"; transcript_status \"KNOWN\"; transcript_name \"TP53-001\"; exon_number 2;  exon_id \"ENSE00002667911.1\";  level 2; tag \"basic\"; tag \"appris_principal\"; tag \"CCDS\"; ccdsid \"CCDS11118.1\"; havana_gene \"OTTHUMG00000162125.4\"; havana_transcript \"OTTHUMT00000367397.1\";\n",
      "chr17\tHAVANA\tstart_codon\t7579910\t7579912\t.\t-\t0\tgene_id \"ENSG00000141510.11\"; transcript_id \"ENST00000359597.4\"; gene_type \"protein_coding\"; gene_status \"KNOWN\"; gene_name \"TP53\"; transcript_type \"protein_coding\"; transcript_status \"PUTATIVE\"; transcript_name \"TP53-019\"; exon_number 1;  exon_id \"ENSE00002337729.1\";  level 2; tag \"basic\"; havana_gene \"OTTHUMG00000162125.4\"; havana_transcript \"OTTHUMT00000440237.1\";\n",
      "chr17\tHAVANA\tstart_codon\t7579910\t7579912\t.\t-\t0\tgene_id \"ENSG00000141510.11\"; transcript_id \"ENST00000413465.2\"; gene_type \"protein_coding\"; gene_status \"KNOWN\"; gene_name \"TP53\"; transcript_type \"protein_coding\"; transcript_status \"PUTATIVE\"; transcript_name \"TP53-018\"; exon_number 1;  exon_id \"ENSE00002337729.1\";  level 2; tag \"basic\"; havana_gene \"OTTHUMG00000162125.4\"; havana_transcript \"OTTHUMT00000440236.1\";\n",
      "chr17\tHAVANA\tstart_codon\t7579910\t7579912\t.\t-\t0\tgene_id \"ENSG00000141510.11\"; transcript_id \"ENST00000420246.2\"; gene_type \"protein_coding\"; gene_status \"KNOWN\"; gene_name \"TP53\"; transcript_type \"protein_coding\"; transcript_status \"KNOWN\"; transcript_name \"TP53-005\"; exon_number 2;  exon_id \"ENSE00002667911.1\";  level 2; tag \"NMD_exception\"; tag \"basic\"; tag \"CCDS\"; ccdsid \"CCDS45606.1\"; havana_gene \"OTTHUMG00000162125.4\"; havana_transcript \"OTTHUMT00000367401.1\";\n",
      "chr17\tHAVANA\tstart_codon\t7579910\t7579912\t.\t-\t0\tgene_id \"ENSG00000141510.11\"; transcript_id \"ENST00000445888.2\"; gene_type \"protein_coding\"; gene_status \"KNOWN\"; gene_name \"TP53\"; transcript_type \"protein_coding\"; transcript_status \"KNOWN\"; transcript_name \"TP53-002\"; exon_number 2;  exon_id \"ENSE00001596491.1\";  level 2; tag \"alternative_5_UTR\"; tag \"basic\"; tag \"appris_principal\"; tag \"CCDS\"; ccdsid \"CCDS11118.1\"; havana_gene \"OTTHUMG00000162125.4\"; havana_transcript \"OTTHUMT00000367398.1\";\n",
      "chr17\tHAVANA\tstart_codon\t7579910\t7579912\t.\t-\t0\tgene_id \"ENSG00000141510.11\"; transcript_id \"ENST00000455263.2\"; gene_type \"protein_coding\"; gene_status \"KNOWN\"; gene_name \"TP53\"; transcript_type \"protein_coding\"; transcript_status \"KNOWN\"; transcript_name \"TP53-004\"; exon_number 2;  exon_id \"ENSE00002667911.1\";  level 2; tag \"NMD_exception\"; tag \"basic\"; tag \"CCDS\"; ccdsid \"CCDS45605.1\"; havana_gene \"OTTHUMG00000162125.4\"; havana_transcript \"OTTHUMT00000367400.1\";\n",
      "chr17\tHAVANA\tstart_codon\t7579910\t7579912\t.\t-\t0\tgene_id \"ENSG00000141510.11\"; transcript_id \"ENST00000503591.1\"; gene_type \"protein_coding\"; gene_status \"KNOWN\"; gene_name \"TP53\"; transcript_type \"protein_coding\"; transcript_status \"KNOWN\"; transcript_name \"TP53-003\"; exon_number 3;  exon_id \"ENSE00002667911.1\";  level 2; tag \"alternative_5_UTR\"; tag \"mRNA_end_NF\"; tag \"cds_end_NF\"; havana_gene \"OTTHUMG00000162125.4\"; havana_transcript \"OTTHUMT00000367399.1\";\n",
      "chr17\tHAVANA\tstart_codon\t7579910\t7579912\t.\t-\t0\tgene_id \"ENSG00000141510.11\"; transcript_id \"ENST00000508793.1\"; gene_type \"protein_coding\"; gene_status \"KNOWN\"; gene_name \"TP53\"; transcript_type \"protein_coding\"; transcript_status \"KNOWN\"; transcript_name \"TP53-014\"; exon_number 2;  exon_id \"ENSE00002667911.1\";  level 2; tag \"alternative_5_UTR\"; tag \"mRNA_end_NF\"; tag \"cds_end_NF\"; havana_gene \"OTTHUMG00000162125.4\"; havana_transcript \"OTTHUMT00000367410.1\";\n",
      "chr17\tHAVANA\tstart_codon\t7579910\t7579912\t.\t-\t0\tgene_id \"ENSG00000141510.11\"; transcript_id \"ENST00000514944.1\"; gene_type \"protein_coding\"; gene_status \"KNOWN\"; gene_name \"TP53\"; transcript_type \"protein_coding\"; transcript_status \"NOVEL\"; transcript_name \"TP53-013\"; exon_number 2;  exon_id \"ENSE00002667911.1\";  level 2; tag \"mRNA_end_NF\"; tag \"cds_end_NF\"; havana_gene \"OTTHUMG00000162125.4\"; havana_transcript \"OTTHUMT00000367409.1\";\n",
      "chr17\tHAVANA\tstart_codon\t7579910\t7579912\t.\t-\t0\tgene_id \"ENSG00000141510.11\"; transcript_id \"ENST00000604348.1\"; gene_type \"protein_coding\"; gene_status \"KNOWN\"; gene_name \"TP53\"; transcript_type \"protein_coding\"; transcript_status \"NOVEL\"; transcript_name \"TP53-020\"; exon_number 2;  exon_id \"ENSE00002667911.1\";  level 2; tag \"mRNA_end_NF\"; tag \"cds_end_NF\"; havana_gene \"OTTHUMG00000162125.4\"; havana_transcript \"OTTHUMT00000468199.1\";\n",
      "chr17\tHAVANA\tUTR\t7579913\t7579937\t.\t-\t.\tgene_id \"ENSG00000141510.11\"; transcript_id \"ENST00000445888.2\"; gene_type \"protein_coding\"; gene_status \"KNOWN\"; gene_name \"TP53\"; transcript_type \"protein_coding\"; transcript_status \"KNOWN\"; transcript_name \"TP53-002\"; level 2; tag \"alternative_5_UTR\"; tag \"basic\"; tag \"appris_principal\"; tag \"CCDS\"; ccdsid \"CCDS11118.1\"; havana_gene \"OTTHUMG00000162125.4\"; havana_transcript \"OTTHUMT00000367398.1\";\n",
      "chr17\tHAVANA\tUTR\t7579913\t7579940\t.\t-\t.\tgene_id \"ENSG00000141510.11\"; transcript_id \"ENST00000269305.4\"; gene_type \"protein_coding\"; gene_status \"KNOWN\"; gene_name \"TP53\"; transcript_type \"protein_coding\"; transcript_status \"KNOWN\"; transcript_name \"TP53-001\"; level 2; tag \"basic\"; tag \"appris_principal\"; tag \"CCDS\"; ccdsid \"CCDS11118.1\"; havana_gene \"OTTHUMG00000162125.4\"; havana_transcript \"OTTHUMT00000367397.1\";\n",
      "chr17\tHAVANA\tUTR\t7579913\t7579940\t.\t-\t.\tgene_id \"ENSG00000141510.11\"; transcript_id \"ENST00000420246.2\"; gene_type \"protein_coding\"; gene_status \"KNOWN\"; gene_name \"TP53\"; transcript_type \"protein_coding\"; transcript_status \"KNOWN\"; transcript_name \"TP53-005\"; level 2; tag \"NMD_exception\"; tag \"basic\"; tag \"CCDS\"; ccdsid \"CCDS45606.1\"; havana_gene \"OTTHUMG00000162125.4\"; havana_transcript \"OTTHUMT00000367401.1\";\n",
      "chr17\tHAVANA\tUTR\t7579913\t7579940\t.\t-\t.\tgene_id \"ENSG00000141510.11\"; transcript_id \"ENST00000455263.2\"; gene_type \"protein_coding\"; gene_status \"KNOWN\"; gene_name \"TP53\"; transcript_type \"protein_coding\"; transcript_status \"KNOWN\"; transcript_name \"TP53-004\"; level 2; tag \"NMD_exception\"; tag \"basic\"; tag \"CCDS\"; ccdsid \"CCDS45605.1\"; havana_gene \"OTTHUMG00000162125.4\"; havana_transcript \"OTTHUMT00000367400.1\";\n",
      "chr17\tHAVANA\tUTR\t7579913\t7579940\t.\t-\t.\tgene_id \"ENSG00000141510.11\"; transcript_id \"ENST00000503591.1\"; gene_type \"protein_coding\"; gene_status \"KNOWN\"; gene_name \"TP53\"; transcript_type \"protein_coding\"; transcript_status \"KNOWN\"; transcript_name \"TP53-003\"; level 2; tag \"alternative_5_UTR\"; tag \"mRNA_end_NF\"; tag \"cds_end_NF\"; havana_gene \"OTTHUMG00000162125.4\"; havana_transcript \"OTTHUMT00000367399.1\";\n",
      "chr17\tHAVANA\tUTR\t7579913\t7579940\t.\t-\t.\tgene_id \"ENSG00000141510.11\"; transcript_id \"ENST00000508793.1\"; gene_type \"protein_coding\"; gene_status \"KNOWN\"; gene_name \"TP53\"; transcript_type \"protein_coding\"; transcript_status \"KNOWN\"; transcript_name \"TP53-014\"; level 2; tag \"alternative_5_UTR\"; tag \"mRNA_end_NF\"; tag \"cds_end_NF\"; havana_gene \"OTTHUMG00000162125.4\"; havana_transcript \"OTTHUMT00000367410.1\";\n",
      "chr17\tHAVANA\tUTR\t7579913\t7579940\t.\t-\t.\tgene_id \"ENSG00000141510.11\"; transcript_id \"ENST00000514944.1\"; gene_type \"protein_coding\"; gene_status \"KNOWN\"; gene_name \"TP53\"; transcript_type \"protein_coding\"; transcript_status \"NOVEL\"; transcript_name \"TP53-013\"; level 2; tag \"mRNA_end_NF\"; tag \"cds_end_NF\"; havana_gene \"OTTHUMG00000162125.4\"; havana_transcript \"OTTHUMT00000367409.1\";\n",
      "chr17\tHAVANA\tUTR\t7579913\t7579940\t.\t-\t.\tgene_id \"ENSG00000141510.11\"; transcript_id \"ENST00000604348.1\"; gene_type \"protein_coding\"; gene_status \"KNOWN\"; gene_name \"TP53\"; transcript_type \"protein_coding\"; transcript_status \"NOVEL\"; transcript_name \"TP53-020\"; level 2; tag \"mRNA_end_NF\"; tag \"cds_end_NF\"; havana_gene \"OTTHUMG00000162125.4\"; havana_transcript \"OTTHUMT00000468199.1\";\n",
      "chr17\tHAVANA\texon\t7580643\t7580745\t.\t-\t.\tgene_id \"ENSG00000141510.11\"; transcript_id \"ENST00000503591.1\"; gene_type \"protein_coding\"; gene_status \"KNOWN\"; gene_name \"TP53\"; transcript_type \"protein_coding\"; transcript_status \"KNOWN\"; transcript_name \"TP53-003\"; exon_number 2;  exon_id \"ENSE00002065802.1\";  level 2; tag \"alternative_5_UTR\"; tag \"mRNA_end_NF\"; tag \"cds_end_NF\"; havana_gene \"OTTHUMG00000162125.4\"; havana_transcript \"OTTHUMT00000367399.1\";\n",
      "chr17\tHAVANA\texon\t7580643\t7580752\t.\t-\t.\tgene_id \"ENSG00000141510.11\"; transcript_id \"ENST00000508793.1\"; gene_type \"protein_coding\"; gene_status \"KNOWN\"; gene_name \"TP53\"; transcript_type \"protein_coding\"; transcript_status \"KNOWN\"; transcript_name \"TP53-014\"; exon_number 1;  exon_id \"ENSE00002062958.1\";  level 2; tag \"alternative_5_UTR\"; tag \"mRNA_end_NF\"; tag \"cds_end_NF\"; havana_gene \"OTTHUMG00000162125.4\"; havana_transcript \"OTTHUMT00000367410.1\";\n",
      "chr17\tHAVANA\tUTR\t7580643\t7580745\t.\t-\t.\tgene_id \"ENSG00000141510.11\"; transcript_id \"ENST00000503591.1\"; gene_type \"protein_coding\"; gene_status \"KNOWN\"; gene_name \"TP53\"; transcript_type \"protein_coding\"; transcript_status \"KNOWN\"; transcript_name \"TP53-003\"; level 2; tag \"alternative_5_UTR\"; tag \"mRNA_end_NF\"; tag \"cds_end_NF\"; havana_gene \"OTTHUMG00000162125.4\"; havana_transcript \"OTTHUMT00000367399.1\";\n",
      "chr17\tHAVANA\tUTR\t7580643\t7580752\t.\t-\t.\tgene_id \"ENSG00000141510.11\"; transcript_id \"ENST00000508793.1\"; gene_type \"protein_coding\"; gene_status \"KNOWN\"; gene_name \"TP53\"; transcript_type \"protein_coding\"; transcript_status \"KNOWN\"; transcript_name \"TP53-014\"; level 2; tag \"alternative_5_UTR\"; tag \"mRNA_end_NF\"; tag \"cds_end_NF\"; havana_gene \"OTTHUMG00000162125.4\"; havana_transcript \"OTTHUMT00000367410.1\";\n",
      "chr17\tHAVANA\texon\t7590695\t7590745\t.\t-\t.\tgene_id \"ENSG00000141510.11\"; transcript_id \"ENST00000503591.1\"; gene_type \"protein_coding\"; gene_status \"KNOWN\"; gene_name \"TP53\"; transcript_type \"protein_coding\"; transcript_status \"KNOWN\"; transcript_name \"TP53-003\"; exon_number 1;  exon_id \"ENSE00002051873.1\";  level 2; tag \"alternative_5_UTR\"; tag \"mRNA_end_NF\"; tag \"cds_end_NF\"; havana_gene \"OTTHUMG00000162125.4\"; havana_transcript \"OTTHUMT00000367399.1\";\n",
      "chr17\tHAVANA\texon\t7590695\t7590745\t.\t-\t.\tgene_id \"ENSG00000141510.11\"; transcript_id \"ENST00000514944.1\"; gene_type \"protein_coding\"; gene_status \"KNOWN\"; gene_name \"TP53\"; transcript_type \"protein_coding\"; transcript_status \"NOVEL\"; transcript_name \"TP53-013\"; exon_number 1;  exon_id \"ENSE00002051873.1\";  level 2; tag \"mRNA_end_NF\"; tag \"cds_end_NF\"; havana_gene \"OTTHUMG00000162125.4\"; havana_transcript \"OTTHUMT00000367409.1\";\n",
      "chr17\tHAVANA\texon\t7590695\t7590799\t.\t-\t.\tgene_id \"ENSG00000141510.11\"; transcript_id \"ENST00000420246.2\"; gene_type \"protein_coding\"; gene_status \"KNOWN\"; gene_name \"TP53\"; transcript_type \"protein_coding\"; transcript_status \"KNOWN\"; transcript_name \"TP53-005\"; exon_number 1;  exon_id \"ENSE00002051192.1\";  level 2; tag \"NMD_exception\"; tag \"basic\"; tag \"CCDS\"; ccdsid \"CCDS45606.1\"; havana_gene \"OTTHUMG00000162125.4\"; havana_transcript \"OTTHUMT00000367401.1\";\n",
      "chr17\tHAVANA\texon\t7590695\t7590799\t.\t-\t.\tgene_id \"ENSG00000141510.11\"; transcript_id \"ENST00000455263.2\"; gene_type \"protein_coding\"; gene_status \"KNOWN\"; gene_name \"TP53\"; transcript_type \"protein_coding\"; transcript_status \"KNOWN\"; transcript_name \"TP53-004\"; exon_number 1;  exon_id \"ENSE00002051192.1\";  level 2; tag \"NMD_exception\"; tag \"basic\"; tag \"CCDS\"; ccdsid \"CCDS45605.1\"; havana_gene \"OTTHUMG00000162125.4\"; havana_transcript \"OTTHUMT00000367400.1\";\n",
      "chr17\tHAVANA\texon\t7590695\t7590805\t.\t-\t.\tgene_id \"ENSG00000141510.11\"; transcript_id \"ENST00000445888.2\"; gene_type \"protein_coding\"; gene_status \"KNOWN\"; gene_name \"TP53\"; transcript_type \"protein_coding\"; transcript_status \"KNOWN\"; transcript_name \"TP53-002\"; exon_number 1;  exon_id \"ENSE00002030826.1\";  level 2; tag \"alternative_5_UTR\"; tag \"basic\"; tag \"appris_principal\"; tag \"CCDS\"; ccdsid \"CCDS11118.1\"; havana_gene \"OTTHUMG00000162125.4\"; havana_transcript \"OTTHUMT00000367398.1\";\n",
      "chr17\tHAVANA\texon\t7590695\t7590805\t.\t-\t.\tgene_id \"ENSG00000141510.11\"; transcript_id \"ENST00000505014.1\"; gene_type \"protein_coding\"; gene_status \"KNOWN\"; gene_name \"TP53\"; transcript_type \"retained_intron\"; transcript_status \"KNOWN\"; transcript_name \"TP53-009\"; exon_number 1;  exon_id \"ENSE00002030826.1\";  level 2; havana_gene \"OTTHUMG00000162125.4\"; havana_transcript \"OTTHUMT00000367405.1\";\n",
      "chr17\tHAVANA\texon\t7590695\t7590805\t.\t-\t.\tgene_id \"ENSG00000141510.11\"; transcript_id \"ENST00000509690.1\"; gene_type \"protein_coding\"; gene_status \"KNOWN\"; gene_name \"TP53\"; transcript_type \"protein_coding\"; transcript_status \"KNOWN\"; transcript_name \"TP53-015\"; exon_number 1;  exon_id \"ENSE00002030826.1\";  level 2; tag \"mRNA_end_NF\"; tag \"cds_end_NF\"; havana_gene \"OTTHUMG00000162125.4\"; havana_transcript \"OTTHUMT00000367411.2\";\n",
      "chr17\tHAVANA\texon\t7590695\t7590805\t.\t-\t.\tgene_id \"ENSG00000141510.11\"; transcript_id \"ENST00000604348.1\"; gene_type \"protein_coding\"; gene_status \"KNOWN\"; gene_name \"TP53\"; transcript_type \"protein_coding\"; transcript_status \"NOVEL\"; transcript_name \"TP53-020\"; exon_number 1;  exon_id \"ENSE00002030826.1\";  level 2; tag \"mRNA_end_NF\"; tag \"cds_end_NF\"; havana_gene \"OTTHUMG00000162125.4\"; havana_transcript \"OTTHUMT00000468199.1\";\n",
      "chr17\tHAVANA\texon\t7590695\t7590856\t.\t-\t.\tgene_id \"ENSG00000141510.11\"; transcript_id \"ENST00000269305.4\"; gene_type \"protein_coding\"; gene_status \"KNOWN\"; gene_name \"TP53\"; transcript_type \"protein_coding\"; transcript_status \"KNOWN\"; transcript_name \"TP53-001\"; exon_number 1;  exon_id \"ENSE00001146308.3\";  level 2; tag \"basic\"; tag \"appris_principal\"; tag \"CCDS\"; ccdsid \"CCDS11118.1\"; havana_gene \"OTTHUMG00000162125.4\"; havana_transcript \"OTTHUMT00000367397.1\";\n",
      "chr17\tHAVANA\tUTR\t7590695\t7590745\t.\t-\t.\tgene_id \"ENSG00000141510.11\"; transcript_id \"ENST00000503591.1\"; gene_type \"protein_coding\"; gene_status \"KNOWN\"; gene_name \"TP53\"; transcript_type \"protein_coding\"; transcript_status \"KNOWN\"; transcript_name \"TP53-003\"; level 2; tag \"alternative_5_UTR\"; tag \"mRNA_end_NF\"; tag \"cds_end_NF\"; havana_gene \"OTTHUMG00000162125.4\"; havana_transcript \"OTTHUMT00000367399.1\";\n",
      "chr17\tHAVANA\tUTR\t7590695\t7590745\t.\t-\t.\tgene_id \"ENSG00000141510.11\"; transcript_id \"ENST00000514944.1\"; gene_type \"protein_coding\"; gene_status \"KNOWN\"; gene_name \"TP53\"; transcript_type \"protein_coding\"; transcript_status \"NOVEL\"; transcript_name \"TP53-013\"; level 2; tag \"mRNA_end_NF\"; tag \"cds_end_NF\"; havana_gene \"OTTHUMG00000162125.4\"; havana_transcript \"OTTHUMT00000367409.1\";\n",
      "chr17\tHAVANA\tUTR\t7590695\t7590799\t.\t-\t.\tgene_id \"ENSG00000141510.11\"; transcript_id \"ENST00000420246.2\"; gene_type \"protein_coding\"; gene_status \"KNOWN\"; gene_name \"TP53\"; transcript_type \"protein_coding\"; transcript_status \"KNOWN\"; transcript_name \"TP53-005\"; level 2; tag \"NMD_exception\"; tag \"basic\"; tag \"CCDS\"; ccdsid \"CCDS45606.1\"; havana_gene \"OTTHUMG00000162125.4\"; havana_transcript \"OTTHUMT00000367401.1\";\n",
      "chr17\tHAVANA\tUTR\t7590695\t7590799\t.\t-\t.\tgene_id \"ENSG00000141510.11\"; transcript_id \"ENST00000455263.2\"; gene_type \"protein_coding\"; gene_status \"KNOWN\"; gene_name \"TP53\"; transcript_type \"protein_coding\"; transcript_status \"KNOWN\"; transcript_name \"TP53-004\"; level 2; tag \"NMD_exception\"; tag \"basic\"; tag \"CCDS\"; ccdsid \"CCDS45605.1\"; havana_gene \"OTTHUMG00000162125.4\"; havana_transcript \"OTTHUMT00000367400.1\";\n",
      "chr17\tHAVANA\tUTR\t7590695\t7590805\t.\t-\t.\tgene_id \"ENSG00000141510.11\"; transcript_id \"ENST00000445888.2\"; gene_type \"protein_coding\"; gene_status \"KNOWN\"; gene_name \"TP53\"; transcript_type \"protein_coding\"; transcript_status \"KNOWN\"; transcript_name \"TP53-002\"; level 2; tag \"alternative_5_UTR\"; tag \"basic\"; tag \"appris_principal\"; tag \"CCDS\"; ccdsid \"CCDS11118.1\"; havana_gene \"OTTHUMG00000162125.4\"; havana_transcript \"OTTHUMT00000367398.1\";\n",
      "chr17\tHAVANA\tUTR\t7590695\t7590805\t.\t-\t.\tgene_id \"ENSG00000141510.11\"; transcript_id \"ENST00000509690.1\"; gene_type \"protein_coding\"; gene_status \"KNOWN\"; gene_name \"TP53\"; transcript_type \"protein_coding\"; transcript_status \"KNOWN\"; transcript_name \"TP53-015\"; level 2; tag \"mRNA_end_NF\"; tag \"cds_end_NF\"; havana_gene \"OTTHUMG00000162125.4\"; havana_transcript \"OTTHUMT00000367411.2\";\n",
      "chr17\tHAVANA\tUTR\t7590695\t7590805\t.\t-\t.\tgene_id \"ENSG00000141510.11\"; transcript_id \"ENST00000604348.1\"; gene_type \"protein_coding\"; gene_status \"KNOWN\"; gene_name \"TP53\"; transcript_type \"protein_coding\"; transcript_status \"NOVEL\"; transcript_name \"TP53-020\"; level 2; tag \"mRNA_end_NF\"; tag \"cds_end_NF\"; havana_gene \"OTTHUMG00000162125.4\"; havana_transcript \"OTTHUMT00000468199.1\";\n",
      "chr17\tHAVANA\tUTR\t7590695\t7590856\t.\t-\t.\tgene_id \"ENSG00000141510.11\"; transcript_id \"ENST00000269305.4\"; gene_type \"protein_coding\"; gene_status \"KNOWN\"; gene_name \"TP53\"; transcript_type \"protein_coding\"; transcript_status \"KNOWN\"; transcript_name \"TP53-001\"; level 2; tag \"basic\"; tag \"appris_principal\"; tag \"CCDS\"; ccdsid \"CCDS11118.1\"; havana_gene \"OTTHUMG00000162125.4\"; havana_transcript \"OTTHUMT00000367397.1\";\n"
     ]
    }
   ],
   "source": [
    "grep -w TP53 gencode.v19.nopseudo.plus.sort.gtf"
   ]
  },
  {
   "cell_type": "code",
   "execution_count": 27,
   "metadata": {},
   "outputs": [
    {
     "name": "stdout",
     "output_type": "stream",
     "text": [
      "\n",
      "       \u001b[44;37m ========== \u001b[0m\u001b[36m    _____ _    _ ____  _____  ______          _____  \n",
      "       \u001b[44;37m =====      \u001b[0m\u001b[36m   / ____| |  | |  _ \\|  __ \\|  ____|   /\\   |  __ \\ \n",
      "       \u001b[44;37m   =====    \u001b[0m\u001b[36m  | (___ | |  | | |_) | |__) | |__     /  \\  | |  | |\n",
      "       \u001b[44;37m     ====   \u001b[0m\u001b[36m   \\___ \\| |  | |  _ <|  _  /|  __|   / /\\ \\ | |  | |\n",
      "       \u001b[44;37m       ==== \u001b[0m\u001b[36m   ____) | |__| | |_) | | \\ \\| |____ / ____ \\| |__| |\n",
      "       \u001b[44;37m ========== \u001b[0m\u001b[36m  |_____/ \\____/|____/|_|  \\_\\______/_/    \\_\\_____/\u001b[0m\n",
      "\t  v1.6.0\n",
      "\n",
      "//==========================\u001b[36m featureCounts setting \u001b[0m===========================\\\\\n",
      "||  \u001b[0m                                                                          ||\n",
      "||             Input files : \u001b[36m1 BAM file  \u001b[0m \u001b[0m                                    ||\n",
      "||                           \u001b[32mS\u001b[36m test.bam\u001b[0m \u001b[0m                                      ||\n",
      "||  \u001b[0m                                                                          ||\n",
      "||             Output file : \u001b[36mtest.counts\u001b[0m \u001b[0m                                     ||\n",
      "||                 Summary : \u001b[36mtest.counts.summary\u001b[0m \u001b[0m                             ||\n",
      "||              Annotation : \u001b[36mgencode.v19.nopseudo.plus.sort.gtf (GTF)\u001b[0m \u001b[0m        ||\n",
      "||      Dir for temp files : \u001b[36m./\u001b[0m \u001b[0m                                              ||\n",
      "||  \u001b[0m                                                                          ||\n",
      "||                 Threads : \u001b[36m1\u001b[0m \u001b[0m                                               ||\n",
      "||                   Level : \u001b[36mmeta-feature level\u001b[0m \u001b[0m                              ||\n",
      "||              Paired-end : \u001b[36mno\u001b[0m \u001b[0m                                              ||\n",
      "||         Strand specific : \u001b[36mno\u001b[0m \u001b[0m                                              ||\n",
      "||      Multimapping reads : \u001b[36mnot counted\u001b[0m \u001b[0m                                     ||\n",
      "|| Multi-overlapping reads : \u001b[36mnot counted\u001b[0m \u001b[0m                                     ||\n",
      "||   Min overlapping bases : \u001b[36m1\u001b[0m \u001b[0m                                               ||\n",
      "||  \u001b[0m                                                                          ||\n",
      "\\\\=====================\u001b[36m http://subread.sourceforge.net/ \u001b[0m======================//\n",
      "\n",
      "//=================================\u001b[36m Running \u001b[0m==================================\\\\\n",
      "||  \u001b[0m                                                                          ||\n",
      "|| Load annotation file gencode.v19.nopseudo.plus.sort.gtf \u001b[0m... \u001b[0m               ||\n",
      "||    Features : \u001b[36m1156385\u001b[0m \u001b[0m                                                     ||\n",
      "||    Meta-features : \u001b[36m41863\u001b[0m \u001b[0m                                                  ||\n",
      "||    Chromosomes/contigs : \u001b[36m25\u001b[0m \u001b[0m                                               ||\n",
      "||  \u001b[0m                                                                          ||\n",
      "|| Process BAM file test.bam... \u001b[0m                                              ||\n",
      "||    Single-end reads are included. \u001b[0m                                         ||\n",
      "||    Assign reads to features... \u001b[0m                                            ||\n",
      "||    Total reads : \u001b[36m29306\u001b[0m \u001b[0m                                                    ||\n",
      "||    Successfully assigned reads : \u001b[36m17873 (61.0%)\u001b[0m \u001b[0m                            ||\n",
      "||    Running time : \u001b[36m0.00 minutes\u001b[0m \u001b[0m                                            ||\n",
      "||  \u001b[0m                                                                          ||\n",
      "||                         \u001b[36mRead assignment finished.\u001b[0m \u001b[0m                         ||\n",
      "||  \u001b[0m                                                                          ||\n",
      "|| Summary of counting results can be found in file \"test.counts.summary\" \u001b[0m    ||\n",
      "||  \u001b[0m                                                                          ||\n",
      "\\\\=====================\u001b[36m http://subread.sourceforge.net/ \u001b[0m======================//\n",
      "\n"
     ]
    }
   ],
   "source": [
    "featureCounts -Q 10 -g gene_name -a gencode.v19.nopseudo.plus.sort.gtf -o test.counts test.bam"
   ]
  },
  {
   "cell_type": "markdown",
   "metadata": {},
   "source": [
    "The command for the full run is:\n",
    "\n",
    "    featureCounts \\\n",
    "        -Q 10 \\\n",
    "        -g gene_name \\\n",
    "        -a /mnt/nfs/data/RNA-seq/gencode.v19.nopseudo.plus.sort.gtf \\\n",
    "        -o all.counts \\\n",
    "        S1.bam S2.bam NS1.bam NS2.bam"
   ]
  },
  {
   "cell_type": "markdown",
   "metadata": {},
   "source": [
    "Again, we did already run this for the full files (otherwise it would take too long), let's create a link:"
   ]
  },
  {
   "cell_type": "code",
   "execution_count": 28,
   "metadata": {},
   "outputs": [
    {
     "name": "stdout",
     "output_type": "stream",
     "text": [
      "lrwxrwxrwx 1 u0038182 domain users       37 Sep 26 18:09 all.counts -> /mnt/nfs/data/RNA-seq/MCF7/all.counts\n",
      "-rw-r--r-- 1 u0038182 domain users 30579003 Sep 26 18:09 test.counts\n",
      "-rw-r--r-- 1 u0038182 domain users      315 Sep 26 18:09 test.counts.summary\n"
     ]
    }
   ],
   "source": [
    "ln -sf /mnt/nfs/data/RNA-seq/MCF7/all.count* .\n",
    "ls -l *count*"
   ]
  },
  {
   "cell_type": "code",
   "execution_count": 29,
   "metadata": {},
   "outputs": [
    {
     "name": "stdout",
     "output_type": "stream",
     "text": [
      "# Program:featureCounts v1.5.0-p1; Command:\"featureCounts\" \"-Q\" \"10\" \"-T\" \"25\" \"-g\" \"gene_name\" \"-a\" \"../gencode.v19.nopseudo.plus.sort.gtf\" \"-o\" \"all.counts\" \"NS1.bam\" \"NS2.bam\" \"S1.bam\" \"S2.bam\" \n",
      "Geneid\tChr\tStart\tEnd\tStrand\tLength\tNS1.bam\tNS2.bam\tS1.bam\tS2.bam\n",
      "MIR1302-11\tchr1;chr1;chr1\t29554;30267;30976\t30039;30667;31109\t+;+;+\t1021\t0\t0\t0\t0\n",
      "FAM138A\tchr1;chr1;chr1\t34554;35245;35721\t35174;35481;36081\t-;-;-\t1219\t0\t0\t0\t0\n",
      "OR4F5\tchr1\t69091\t70008\t+\t918\t0\t0\t0\t0\n",
      "RP11-34P13.7\tchr1;chr1;chr1;chr1;chr1;chr1;chr1\t89295;92091;110953;112700;120721;129055;133374\t91629;92240;111357;112804;120932;129223;133566\t-;-;-;-;-;-;-\t3569\t0\t0\t0\t1\n",
      "RP11-34P13.8\tchr1;chr1\t89551;90287\t90050;91105\t-;-\t1319\t0\t0\t0\t0\n",
      "AL627309.1\tchr1;chr1\t134901;137621\t135802;139379\t-;-\t2661\t37\t42\t83\t62\n",
      "RP11-34P13.14\tchr1;chr1\t139790;140075\t139847;140339\t-;-\t323\t0\t0\t0\t0\n",
      "RP11-34P13.13\tchr1;chr1;chr1;chr1;chr1;chr1;chr1;chr1;chr1;chr1\t141474;146386;155767;164263;165884;168100;168610;169049;172557;173753\t143011;149707;155831;164791;165942;168165;168767;169264;172688;173862\t-;-;-;-;-;-;-;-;-;-\t6195\t1\t0\t4\t6\n"
     ]
    }
   ],
   "source": [
    "head all.counts"
   ]
  },
  {
   "cell_type": "markdown",
   "metadata": {},
   "source": [
    "You can inspect both files using `head` (and `column` to nicely align the file)"
   ]
  },
  {
   "cell_type": "markdown",
   "metadata": {},
   "source": [
    "Note that there are a number of columns on the gene structure, and a number with the actual counts. We'll separate these:"
   ]
  },
  {
   "cell_type": "code",
   "execution_count": 30,
   "metadata": {},
   "outputs": [],
   "source": [
    "cut -f-6 all.counts  > all.genedata.tsv"
   ]
  },
  {
   "cell_type": "code",
   "execution_count": 31,
   "metadata": {},
   "outputs": [
    {
     "name": "stdout",
     "output_type": "stream",
     "text": [
      "# Program:featureCounts v1.5.0-p1; Command:\"featureCounts\" \"-Q\" \"10\" \"-T\" \"25\" \"-g\" \"gene_name\" \"-a\" \"../gencode.v19.nopseudo.plus.sort.gtf\" \"-o\" \"all.counts\" \"NS1.bam\" \"NS2.bam\" \"S1.bam\" \"S2.bam\" \n",
      "Geneid\tChr\tStart\tEnd\tStrand\tLength\n",
      "MIR1302-11\tchr1;chr1;chr1\t29554;30267;30976\t30039;30667;31109\t+;+;+\t1021\n",
      "FAM138A\tchr1;chr1;chr1\t34554;35245;35721\t35174;35481;36081\t-;-;-\t1219\n",
      "OR4F5\tchr1\t69091\t70008\t+\t918\n",
      "RP11-34P13.7\tchr1;chr1;chr1;chr1;chr1;chr1;chr1\t89295;92091;110953;112700;120721;129055;133374\t91629;92240;111357;112804;120932;129223;133566\t-;-;-;-;-;-;-\t3569\n",
      "RP11-34P13.8\tchr1;chr1\t89551;90287\t90050;91105\t-;-\t1319\n",
      "AL627309.1\tchr1;chr1\t134901;137621\t135802;139379\t-;-\t2661\n",
      "RP11-34P13.14\tchr1;chr1\t139790;140075\t139847;140339\t-;-\t323\n",
      "RP11-34P13.13\tchr1;chr1;chr1;chr1;chr1;chr1;chr1;chr1;chr1;chr1\t141474;146386;155767;164263;165884;168100;168610;169049;172557;173753\t143011;149707;155831;164791;165942;168165;168767;169264;172688;173862\t-;-;-;-;-;-;-;-;-;-\t6195\n"
     ]
    }
   ],
   "source": [
    "head all.genedata.tsv"
   ]
  },
  {
   "cell_type": "code",
   "execution_count": 32,
   "metadata": {},
   "outputs": [],
   "source": [
    "cut -f1,7- all.counts | grep -v '^#' > all.gene.counts"
   ]
  },
  {
   "cell_type": "markdown",
   "metadata": {},
   "source": [
    "how many counts has the gene CDKN1A ?"
   ]
  },
  {
   "cell_type": "code",
   "execution_count": 33,
   "metadata": {},
   "outputs": [
    {
     "name": "stdout",
     "output_type": "stream",
     "text": [
      "MDM2\t2974\t2829\t37247\t18406\n"
     ]
    }
   ],
   "source": [
    "grep MDM2 all.gene.counts"
   ]
  },
  {
   "cell_type": "code",
   "execution_count": 34,
   "metadata": {},
   "outputs": [
    {
     "name": "stdout",
     "output_type": "stream",
     "text": [
      "41864 all.gene.counts\n"
     ]
    }
   ],
   "source": [
    "wc -l all.gene.counts"
   ]
  },
  {
   "cell_type": "code",
   "execution_count": null,
   "metadata": {},
   "outputs": [],
   "source": []
  }
 ],
 "metadata": {
  "kernelspec": {
   "display_name": "Bash",
   "language": "bash",
   "name": "bash"
  },
  "language_info": {
   "codemirror_mode": "shell",
   "file_extension": ".sh",
   "mimetype": "text/x-sh",
   "name": "bash"
  }
 },
 "nbformat": 4,
 "nbformat_minor": 1
}
